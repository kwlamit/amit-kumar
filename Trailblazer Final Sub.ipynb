{
 "cells": [
  {
   "cell_type": "code",
   "execution_count": 56,
   "metadata": {},
   "outputs": [],
   "source": [
    "import numpy as numpy\n",
    "import pandas as pd\n",
    "from sklearn.model_selection import KFold,RandomizedSearchCV"
   ]
  },
  {
   "cell_type": "code",
   "execution_count": 73,
   "metadata": {},
   "outputs": [
    {
     "name": "stdout",
     "output_type": "stream",
     "text": [
      "(149087, 21)\n",
      "(63895, 20)\n"
     ]
    }
   ],
   "source": [
    "train=pd.read_csv(\"train (1).csv\")\n",
    "test=pd.read_csv(\"test (1).csv\")\n",
    "print(train.shape)\n",
    "print(test.shape)"
   ]
  },
  {
   "cell_type": "code",
   "execution_count": 74,
   "metadata": {},
   "outputs": [],
   "source": [
    "target=train['Class']\n",
    "train.drop(labels=['Class'],axis=1,inplace=True)"
   ]
  },
  {
   "cell_type": "code",
   "execution_count": 75,
   "metadata": {},
   "outputs": [],
   "source": [
    "full_data=pd.concat([train,test],sort=False,ignore_index=True)"
   ]
  },
  {
   "cell_type": "code",
   "execution_count": 76,
   "metadata": {},
   "outputs": [],
   "source": [
    "full_data.drop(labels=['ID','Year Type','Employee Identifier','Organization Group','Department Code','Job Family','Union Code','Job Code'],axis=1,inplace=True)"
   ]
  },
  {
   "cell_type": "code",
   "execution_count": 20,
   "metadata": {},
   "outputs": [],
   "source": [
    "dummies=pd.get_dummies(full_data['Department'],prefix='Dept')\n",
    "full_data=pd.concat([full_data,dummies],axis=1)\n",
    "\n",
    "dummies=pd.get_dummies(full_data['Union'],prefix='Union')\n",
    "full_data=pd.concat([full_data,dummies],axis=1)\n",
    "\n",
    "dummies=pd.get_dummies(full_data['Job Family Code'],prefix='Job_family_code')\n",
    "full_data=pd.concat([full_data,dummies],axis=1)\n",
    "\n",
    "dummies=pd.get_dummies(full_data['Job'],prefix='Job')\n",
    "full_data=pd.concat([full_data,dummies],axis=1)    "
   ]
  },
  {
   "cell_type": "code",
   "execution_count": null,
   "metadata": {},
   "outputs": [],
   "source": []
  },
  {
   "cell_type": "code",
   "execution_count": 21,
   "metadata": {},
   "outputs": [],
   "source": [
    "full_data.drop(labels=['Department','Union','Job Family Code','Job'],axis=1,inplace=True)"
   ]
  },
  {
   "cell_type": "code",
   "execution_count": 22,
   "metadata": {},
   "outputs": [],
   "source": [
    "from sklearn.ensemble import RandomForestClassifier"
   ]
  },
  {
   "cell_type": "code",
   "execution_count": 23,
   "metadata": {},
   "outputs": [],
   "source": [
    "train_X=full_data.iloc[:train.shape[0],:]\n",
    "train_y=target"
   ]
  },
  {
   "cell_type": "code",
   "execution_count": 24,
   "metadata": {},
   "outputs": [],
   "source": [
    "test_X=full_data.iloc[train.shape[0]:,:]"
   ]
  },
  {
   "cell_type": "code",
   "execution_count": 71,
   "metadata": {},
   "outputs": [],
   "source": [
    "model=RandomForestClassifier(n_estimators=1000)"
   ]
  },
  {
   "cell_type": "code",
   "execution_count": 72,
   "metadata": {},
   "outputs": [
    {
     "data": {
      "text/plain": [
       "RandomForestClassifier(bootstrap=True, ccp_alpha=0.0, class_weight=None,\n",
       "                       criterion='gini', max_depth=None, max_features='auto',\n",
       "                       max_leaf_nodes=None, max_samples=None,\n",
       "                       min_impurity_decrease=0.0, min_impurity_split=None,\n",
       "                       min_samples_leaf=1, min_samples_split=2,\n",
       "                       min_weight_fraction_leaf=0.0, n_estimators=1000,\n",
       "                       n_jobs=None, oob_score=False, random_state=None,\n",
       "                       verbose=0, warm_start=False)"
      ]
     },
     "execution_count": 72,
     "metadata": {},
     "output_type": "execute_result"
    }
   ],
   "source": [
    "model.fit(train_X,train_y)"
   ]
  },
  {
   "cell_type": "markdown",
   "metadata": {},
   "source": [
    "import xgboost as xgb\n",
    "from xgboost.sklearn import XGBClassifier\n",
    "model = xgb.XGBClassifier()\n",
    "\n",
    "xgdmat=xgb.DMatrix(train_X,train_y)\n",
    "xgb_model=xgb.XGBRegressor()\n",
    "#our_params={'eta':0.1,'subsample':0.7,'colsample_bytree':0.7,'objective':'logloss','max_depth':4,'min_child_weight':5}\n",
    "final_gb=xgb.train(xgdmat)\n",
    "tesdmat=xgb.DMatrix(test_X)\n",
    "y_pred=final_gb.predict(tesdmat)"
   ]
  },
  {
   "cell_type": "code",
   "execution_count": 63,
   "metadata": {},
   "outputs": [
    {
     "data": {
      "text/plain": [
       "array([1, 3, 2, ..., 2, 2, 3], dtype=int64)"
      ]
     },
     "execution_count": 63,
     "metadata": {},
     "output_type": "execute_result"
    }
   ],
   "source": [
    "pred=model.predict(test_X)\n",
    "pred"
   ]
  },
  {
   "cell_type": "code",
   "execution_count": 64,
   "metadata": {},
   "outputs": [],
   "source": [
    "df = pd.DataFrame(data=pred)"
   ]
  },
  {
   "cell_type": "code",
   "execution_count": 65,
   "metadata": {},
   "outputs": [],
   "source": [
    "df.to_excel(\"final_sub.xlsx\")"
   ]
  },
  {
   "cell_type": "code",
   "execution_count": 66,
   "metadata": {},
   "outputs": [
    {
     "data": {
      "text/plain": [
       "0.9164045154842475"
      ]
     },
     "execution_count": 66,
     "metadata": {},
     "output_type": "execute_result"
    }
   ],
   "source": [
    "model.score(train_X,train_y)"
   ]
  },
  {
   "cell_type": "code",
   "execution_count": 54,
   "metadata": {},
   "outputs": [],
   "source": [
    "from sklearn.model_selection import GridSearchCV"
   ]
  },
  {
   "cell_type": "code",
   "execution_count": null,
   "metadata": {},
   "outputs": [
    {
     "name": "stdout",
     "output_type": "stream",
     "text": [
      "Randomized search..\n"
     ]
    }
   ],
   "source": [
    "#model = xgb.XGBClassifier()\n",
    "import time\n",
    "kf = KFold(n_splits=5, shuffle=True, random_state=30)\n",
    "for dev_index, val_index in kf.split(train_X, train_y): \n",
    "    dev_X, val_X = train_X.loc[dev_index,:], train_X.loc[val_index,:]\n",
    "    dev_y, val_y = train_y[dev_index], train_y[val_index]\n",
    "   \n",
    "    param_grid = {\n",
    "     'max_depth': [2,3,4,5,6,7,8],\n",
    "    'n_estimators':[500,800,1000,2000,3000],\n",
    "    'min_samples_leaf':[1,10,50,100],\n",
    "    'min_samples_split':[1,10,100,1000]    \n",
    "      }\n",
    " \n",
    "#fit_params = {'eval_metric': 'neg_mean_squared_error','early_stopping_rounds': 10,'eval_set': [(val_X,val_y)]}\n",
    " \n",
    "    rs_clf = RandomizedSearchCV(model, param_grid, n_iter=20,n_jobs=1 ,refit=False, random_state=42)\n",
    " \n",
    "    print(\"Randomized search..\")\n",
    "    search_time_start = time.time()\n",
    "    rs_clf.fit(dev_X,dev_y)\n",
    "    print(\"Randomized search time:\", time.time() - search_time_start)\n",
    "    best_score = rs_clf.best_score_\n",
    "    best_params = rs_clf.best_params_\n",
    "    print(\"Best score: {}\".format(best_score))\n",
    "    print(\"Best params: \")\n",
    "    for param_name in sorted(best_params.keys()):\n",
    "        print('%s: %r' % (param_name, best_params[param_name]))"
   ]
  },
  {
   "cell_type": "code",
   "execution_count": null,
   "metadata": {},
   "outputs": [],
   "source": []
  }
 ],
 "metadata": {
  "kernelspec": {
   "display_name": "Python 3",
   "language": "python",
   "name": "python3"
  },
  "language_info": {
   "codemirror_mode": {
    "name": "ipython",
    "version": 3
   },
   "file_extension": ".py",
   "mimetype": "text/x-python",
   "name": "python",
   "nbconvert_exporter": "python",
   "pygments_lexer": "ipython3",
   "version": "3.7.4"
  }
 },
 "nbformat": 4,
 "nbformat_minor": 2
}
