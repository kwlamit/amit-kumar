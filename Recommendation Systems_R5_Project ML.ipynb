{
 "cells": [
  {
   "cell_type": "code",
   "execution_count": 0,
   "metadata": {
    "colab": {},
    "colab_type": "code",
    "id": "RqFpqsr4yy7Y"
   },
   "outputs": [],
   "source": []
  },
  {
   "cell_type": "markdown",
   "metadata": {
    "colab_type": "text",
    "id": "uFRAcgnFsXKt"
   },
   "source": [
    "Read and explore the given dataset. ( Rename column/add headers, plot histograms,\n",
    "find data characteristics)"
   ]
  },
  {
   "cell_type": "code",
   "execution_count": 1,
   "metadata": {
    "colab": {},
    "colab_type": "code",
    "id": "Ie_uzWC1NexT"
   },
   "outputs": [],
   "source": [
    "import numpy as np\n",
    "import pandas as pd"
   ]
  },
  {
   "cell_type": "code",
   "execution_count": 73,
   "metadata": {},
   "outputs": [
    {
     "data": {
      "text/html": [
       "<div>\n",
       "<style scoped>\n",
       "    .dataframe tbody tr th:only-of-type {\n",
       "        vertical-align: middle;\n",
       "    }\n",
       "\n",
       "    .dataframe tbody tr th {\n",
       "        vertical-align: top;\n",
       "    }\n",
       "\n",
       "    .dataframe thead th {\n",
       "        text-align: right;\n",
       "    }\n",
       "</style>\n",
       "<table border=\"1\" class=\"dataframe\">\n",
       "  <thead>\n",
       "    <tr style=\"text-align: right;\">\n",
       "      <th></th>\n",
       "      <th>AKM1MP6P0OYPR</th>\n",
       "      <th>0132793040</th>\n",
       "      <th>5.0</th>\n",
       "      <th>1365811200</th>\n",
       "    </tr>\n",
       "  </thead>\n",
       "  <tbody>\n",
       "    <tr>\n",
       "      <td>0</td>\n",
       "      <td>A2CX7LUOHB2NDG</td>\n",
       "      <td>0321732944</td>\n",
       "      <td>5.0</td>\n",
       "      <td>1341100800</td>\n",
       "    </tr>\n",
       "    <tr>\n",
       "      <td>1</td>\n",
       "      <td>A2NWSAGRHCP8N5</td>\n",
       "      <td>0439886341</td>\n",
       "      <td>1.0</td>\n",
       "      <td>1367193600</td>\n",
       "    </tr>\n",
       "    <tr>\n",
       "      <td>2</td>\n",
       "      <td>A2WNBOD3WNDNKT</td>\n",
       "      <td>0439886341</td>\n",
       "      <td>3.0</td>\n",
       "      <td>1374451200</td>\n",
       "    </tr>\n",
       "    <tr>\n",
       "      <td>3</td>\n",
       "      <td>A1GI0U4ZRJA8WN</td>\n",
       "      <td>0439886341</td>\n",
       "      <td>1.0</td>\n",
       "      <td>1334707200</td>\n",
       "    </tr>\n",
       "    <tr>\n",
       "      <td>4</td>\n",
       "      <td>A1QGNMC6O1VW39</td>\n",
       "      <td>0511189877</td>\n",
       "      <td>5.0</td>\n",
       "      <td>1397433600</td>\n",
       "    </tr>\n",
       "  </tbody>\n",
       "</table>\n",
       "</div>"
      ],
      "text/plain": [
       "    AKM1MP6P0OYPR  0132793040  5.0  1365811200\n",
       "0  A2CX7LUOHB2NDG  0321732944  5.0  1341100800\n",
       "1  A2NWSAGRHCP8N5  0439886341  1.0  1367193600\n",
       "2  A2WNBOD3WNDNKT  0439886341  3.0  1374451200\n",
       "3  A1GI0U4ZRJA8WN  0439886341  1.0  1334707200\n",
       "4  A1QGNMC6O1VW39  0511189877  5.0  1397433600"
      ]
     },
     "execution_count": 73,
     "metadata": {},
     "output_type": "execute_result"
    }
   ],
   "source": [
    "ratings_data1 = pd.read_csv(\"ratings_Electronics.csv\")  \n",
    "ratings_data1.head() "
   ]
  },
  {
   "cell_type": "code",
   "execution_count": 0,
   "metadata": {
    "colab": {},
    "colab_type": "code",
    "id": "tipmsij8OAix"
   },
   "outputs": [],
   "source": []
  },
  {
   "cell_type": "code",
   "execution_count": 3,
   "metadata": {},
   "outputs": [
    {
     "data": {
      "text/html": [
       "<div>\n",
       "<style scoped>\n",
       "    .dataframe tbody tr th:only-of-type {\n",
       "        vertical-align: middle;\n",
       "    }\n",
       "\n",
       "    .dataframe tbody tr th {\n",
       "        vertical-align: top;\n",
       "    }\n",
       "\n",
       "    .dataframe thead th {\n",
       "        text-align: right;\n",
       "    }\n",
       "</style>\n",
       "<table border=\"1\" class=\"dataframe\">\n",
       "  <thead>\n",
       "    <tr style=\"text-align: right;\">\n",
       "      <th></th>\n",
       "      <th>userId</th>\n",
       "      <th>productId</th>\n",
       "      <th>ratings</th>\n",
       "      <th>timestamp</th>\n",
       "    </tr>\n",
       "  </thead>\n",
       "  <tbody>\n",
       "    <tr>\n",
       "      <td>0</td>\n",
       "      <td>AKM1MP6P0OYPR</td>\n",
       "      <td>0132793040</td>\n",
       "      <td>5.0</td>\n",
       "      <td>1365811200</td>\n",
       "    </tr>\n",
       "    <tr>\n",
       "      <td>1</td>\n",
       "      <td>A2CX7LUOHB2NDG</td>\n",
       "      <td>0321732944</td>\n",
       "      <td>5.0</td>\n",
       "      <td>1341100800</td>\n",
       "    </tr>\n",
       "    <tr>\n",
       "      <td>2</td>\n",
       "      <td>A2NWSAGRHCP8N5</td>\n",
       "      <td>0439886341</td>\n",
       "      <td>1.0</td>\n",
       "      <td>1367193600</td>\n",
       "    </tr>\n",
       "    <tr>\n",
       "      <td>3</td>\n",
       "      <td>A2WNBOD3WNDNKT</td>\n",
       "      <td>0439886341</td>\n",
       "      <td>3.0</td>\n",
       "      <td>1374451200</td>\n",
       "    </tr>\n",
       "    <tr>\n",
       "      <td>4</td>\n",
       "      <td>A1GI0U4ZRJA8WN</td>\n",
       "      <td>0439886341</td>\n",
       "      <td>1.0</td>\n",
       "      <td>1334707200</td>\n",
       "    </tr>\n",
       "  </tbody>\n",
       "</table>\n",
       "</div>"
      ],
      "text/plain": [
       "           userId   productId  ratings   timestamp\n",
       "0   AKM1MP6P0OYPR  0132793040      5.0  1365811200\n",
       "1  A2CX7LUOHB2NDG  0321732944      5.0  1341100800\n",
       "2  A2NWSAGRHCP8N5  0439886341      1.0  1367193600\n",
       "3  A2WNBOD3WNDNKT  0439886341      3.0  1374451200\n",
       "4  A1GI0U4ZRJA8WN  0439886341      1.0  1334707200"
      ]
     },
     "execution_count": 3,
     "metadata": {},
     "output_type": "execute_result"
    }
   ],
   "source": [
    "ratings_data = pd.read_csv(\"ratings_Electronics.csv\",names=[\"userId\", \"productId\", \"ratings\", \"timestamp\"])  \n",
    "ratings_data.head() "
   ]
  },
  {
   "cell_type": "code",
   "execution_count": 4,
   "metadata": {
    "colab": {
     "base_uri": "https://localhost:8080/",
     "height": 204
    },
    "colab_type": "code",
    "id": "yF4YjrU5PAGC",
    "outputId": "dfe0c1fe-ee7a-4495-efd9-4476d1a33e9d"
   },
   "outputs": [
    {
     "data": {
      "text/html": [
       "<div>\n",
       "<style scoped>\n",
       "    .dataframe tbody tr th:only-of-type {\n",
       "        vertical-align: middle;\n",
       "    }\n",
       "\n",
       "    .dataframe tbody tr th {\n",
       "        vertical-align: top;\n",
       "    }\n",
       "\n",
       "    .dataframe thead th {\n",
       "        text-align: right;\n",
       "    }\n",
       "</style>\n",
       "<table border=\"1\" class=\"dataframe\">\n",
       "  <thead>\n",
       "    <tr style=\"text-align: right;\">\n",
       "      <th></th>\n",
       "      <th>userId</th>\n",
       "      <th>productId</th>\n",
       "      <th>ratings</th>\n",
       "      <th>timestamp</th>\n",
       "    </tr>\n",
       "  </thead>\n",
       "  <tbody>\n",
       "    <tr>\n",
       "      <td>0</td>\n",
       "      <td>AKM1MP6P0OYPR</td>\n",
       "      <td>0132793040</td>\n",
       "      <td>5.0</td>\n",
       "      <td>1365811200</td>\n",
       "    </tr>\n",
       "    <tr>\n",
       "      <td>1</td>\n",
       "      <td>A2CX7LUOHB2NDG</td>\n",
       "      <td>0321732944</td>\n",
       "      <td>5.0</td>\n",
       "      <td>1341100800</td>\n",
       "    </tr>\n",
       "    <tr>\n",
       "      <td>2</td>\n",
       "      <td>A2NWSAGRHCP8N5</td>\n",
       "      <td>0439886341</td>\n",
       "      <td>1.0</td>\n",
       "      <td>1367193600</td>\n",
       "    </tr>\n",
       "    <tr>\n",
       "      <td>3</td>\n",
       "      <td>A2WNBOD3WNDNKT</td>\n",
       "      <td>0439886341</td>\n",
       "      <td>3.0</td>\n",
       "      <td>1374451200</td>\n",
       "    </tr>\n",
       "    <tr>\n",
       "      <td>4</td>\n",
       "      <td>A1GI0U4ZRJA8WN</td>\n",
       "      <td>0439886341</td>\n",
       "      <td>1.0</td>\n",
       "      <td>1334707200</td>\n",
       "    </tr>\n",
       "  </tbody>\n",
       "</table>\n",
       "</div>"
      ],
      "text/plain": [
       "           userId   productId  ratings   timestamp\n",
       "0   AKM1MP6P0OYPR  0132793040      5.0  1365811200\n",
       "1  A2CX7LUOHB2NDG  0321732944      5.0  1341100800\n",
       "2  A2NWSAGRHCP8N5  0439886341      1.0  1367193600\n",
       "3  A2WNBOD3WNDNKT  0439886341      3.0  1374451200\n",
       "4  A1GI0U4ZRJA8WN  0439886341      1.0  1334707200"
      ]
     },
     "execution_count": 4,
     "metadata": {},
     "output_type": "execute_result"
    }
   ],
   "source": [
    "ratings_data.head()"
   ]
  },
  {
   "cell_type": "code",
   "execution_count": 6,
   "metadata": {
    "colab": {
     "base_uri": "https://localhost:8080/",
     "height": 170
    },
    "colab_type": "code",
    "id": "ndM8ulfOPY-q",
    "outputId": "ed52de2b-1e67-462a-e8b9-045b014d1bed"
   },
   "outputs": [
    {
     "name": "stdout",
     "output_type": "stream",
     "text": [
      "<class 'pandas.core.frame.DataFrame'>\n",
      "RangeIndex: 7824482 entries, 0 to 7824481\n",
      "Data columns (total 4 columns):\n",
      "userId       object\n",
      "productId    object\n",
      "ratings      float64\n",
      "timestamp    int64\n",
      "dtypes: float64(1), int64(1), object(2)\n",
      "memory usage: 238.8+ MB\n"
     ]
    }
   ],
   "source": [
    "ratings_data.info()"
   ]
  },
  {
   "cell_type": "code",
   "execution_count": 7,
   "metadata": {
    "colab": {},
    "colab_type": "code",
    "id": "AHEouS1KQCh7"
   },
   "outputs": [],
   "source": [
    " ratings_data.drop([\"timestamp\"], axis =1 , inplace= True)"
   ]
  },
  {
   "cell_type": "code",
   "execution_count": 8,
   "metadata": {
    "colab": {
     "base_uri": "https://localhost:8080/",
     "height": 204
    },
    "colab_type": "code",
    "id": "ZkcPQ8VRRCGX",
    "outputId": "338c7263-887d-4239-cae6-5c04b80fff44"
   },
   "outputs": [
    {
     "data": {
      "text/html": [
       "<div>\n",
       "<style scoped>\n",
       "    .dataframe tbody tr th:only-of-type {\n",
       "        vertical-align: middle;\n",
       "    }\n",
       "\n",
       "    .dataframe tbody tr th {\n",
       "        vertical-align: top;\n",
       "    }\n",
       "\n",
       "    .dataframe thead th {\n",
       "        text-align: right;\n",
       "    }\n",
       "</style>\n",
       "<table border=\"1\" class=\"dataframe\">\n",
       "  <thead>\n",
       "    <tr style=\"text-align: right;\">\n",
       "      <th></th>\n",
       "      <th>userId</th>\n",
       "      <th>productId</th>\n",
       "      <th>ratings</th>\n",
       "    </tr>\n",
       "  </thead>\n",
       "  <tbody>\n",
       "    <tr>\n",
       "      <td>7824477</td>\n",
       "      <td>A2YZI3C9MOHC0L</td>\n",
       "      <td>BT008UKTMW</td>\n",
       "      <td>5.0</td>\n",
       "    </tr>\n",
       "    <tr>\n",
       "      <td>7824478</td>\n",
       "      <td>A322MDK0M89RHN</td>\n",
       "      <td>BT008UKTMW</td>\n",
       "      <td>5.0</td>\n",
       "    </tr>\n",
       "    <tr>\n",
       "      <td>7824479</td>\n",
       "      <td>A1MH90R0ADMIK0</td>\n",
       "      <td>BT008UKTMW</td>\n",
       "      <td>4.0</td>\n",
       "    </tr>\n",
       "    <tr>\n",
       "      <td>7824480</td>\n",
       "      <td>A10M2KEFPEQDHN</td>\n",
       "      <td>BT008UKTMW</td>\n",
       "      <td>4.0</td>\n",
       "    </tr>\n",
       "    <tr>\n",
       "      <td>7824481</td>\n",
       "      <td>A2G81TMIOIDEQQ</td>\n",
       "      <td>BT008V9J9U</td>\n",
       "      <td>5.0</td>\n",
       "    </tr>\n",
       "  </tbody>\n",
       "</table>\n",
       "</div>"
      ],
      "text/plain": [
       "                 userId   productId  ratings\n",
       "7824477  A2YZI3C9MOHC0L  BT008UKTMW      5.0\n",
       "7824478  A322MDK0M89RHN  BT008UKTMW      5.0\n",
       "7824479  A1MH90R0ADMIK0  BT008UKTMW      4.0\n",
       "7824480  A10M2KEFPEQDHN  BT008UKTMW      4.0\n",
       "7824481  A2G81TMIOIDEQQ  BT008V9J9U      5.0"
      ]
     },
     "execution_count": 8,
     "metadata": {},
     "output_type": "execute_result"
    }
   ],
   "source": [
    "ratings_data.tail()"
   ]
  },
  {
   "cell_type": "code",
   "execution_count": 9,
   "metadata": {
    "colab": {
     "base_uri": "https://localhost:8080/",
     "height": 297
    },
    "colab_type": "code",
    "id": "Ui6kNMAURZR6",
    "outputId": "76f32e01-8bbf-486b-82af-7c4de00f82d8"
   },
   "outputs": [
    {
     "data": {
      "text/html": [
       "<div>\n",
       "<style scoped>\n",
       "    .dataframe tbody tr th:only-of-type {\n",
       "        vertical-align: middle;\n",
       "    }\n",
       "\n",
       "    .dataframe tbody tr th {\n",
       "        vertical-align: top;\n",
       "    }\n",
       "\n",
       "    .dataframe thead th {\n",
       "        text-align: right;\n",
       "    }\n",
       "</style>\n",
       "<table border=\"1\" class=\"dataframe\">\n",
       "  <thead>\n",
       "    <tr style=\"text-align: right;\">\n",
       "      <th></th>\n",
       "      <th>ratings</th>\n",
       "    </tr>\n",
       "  </thead>\n",
       "  <tbody>\n",
       "    <tr>\n",
       "      <td>count</td>\n",
       "      <td>7.824482e+06</td>\n",
       "    </tr>\n",
       "    <tr>\n",
       "      <td>mean</td>\n",
       "      <td>4.012337e+00</td>\n",
       "    </tr>\n",
       "    <tr>\n",
       "      <td>std</td>\n",
       "      <td>1.380910e+00</td>\n",
       "    </tr>\n",
       "    <tr>\n",
       "      <td>min</td>\n",
       "      <td>1.000000e+00</td>\n",
       "    </tr>\n",
       "    <tr>\n",
       "      <td>25%</td>\n",
       "      <td>3.000000e+00</td>\n",
       "    </tr>\n",
       "    <tr>\n",
       "      <td>50%</td>\n",
       "      <td>5.000000e+00</td>\n",
       "    </tr>\n",
       "    <tr>\n",
       "      <td>75%</td>\n",
       "      <td>5.000000e+00</td>\n",
       "    </tr>\n",
       "    <tr>\n",
       "      <td>max</td>\n",
       "      <td>5.000000e+00</td>\n",
       "    </tr>\n",
       "  </tbody>\n",
       "</table>\n",
       "</div>"
      ],
      "text/plain": [
       "            ratings\n",
       "count  7.824482e+06\n",
       "mean   4.012337e+00\n",
       "std    1.380910e+00\n",
       "min    1.000000e+00\n",
       "25%    3.000000e+00\n",
       "50%    5.000000e+00\n",
       "75%    5.000000e+00\n",
       "max    5.000000e+00"
      ]
     },
     "execution_count": 9,
     "metadata": {},
     "output_type": "execute_result"
    }
   ],
   "source": [
    "ratings_data.describe()"
   ]
  },
  {
   "cell_type": "code",
   "execution_count": 10,
   "metadata": {
    "colab": {
     "base_uri": "https://localhost:8080/",
     "height": 34
    },
    "colab_type": "code",
    "id": "jaCADeVBRvJi",
    "outputId": "0a4ac934-ae26-47b2-8bb2-c0950dc02c51"
   },
   "outputs": [
    {
     "data": {
      "text/plain": [
       "(7824482, 3)"
      ]
     },
     "execution_count": 10,
     "metadata": {},
     "output_type": "execute_result"
    }
   ],
   "source": [
    "ratings_data.shape"
   ]
  },
  {
   "cell_type": "code",
   "execution_count": 15,
   "metadata": {
    "colab": {
     "base_uri": "https://localhost:8080/",
     "height": 85
    },
    "colab_type": "code",
    "id": "UFFv-yskSGSw",
    "outputId": "a2dc332c-3faf-462c-abd9-02a6b27ed607"
   },
   "outputs": [
    {
     "data": {
      "text/plain": [
       "userId       0\n",
       "productId    0\n",
       "ratings      0\n",
       "dtype: int64"
      ]
     },
     "execution_count": 15,
     "metadata": {
      "tags": []
     },
     "output_type": "execute_result"
    }
   ],
   "source": [
    "ratings_data.isna().sum()"
   ]
  },
  {
   "cell_type": "code",
   "execution_count": 11,
   "metadata": {},
   "outputs": [
    {
     "data": {
      "text/html": [
       "<div>\n",
       "<style scoped>\n",
       "    .dataframe tbody tr th:only-of-type {\n",
       "        vertical-align: middle;\n",
       "    }\n",
       "\n",
       "    .dataframe tbody tr th {\n",
       "        vertical-align: top;\n",
       "    }\n",
       "\n",
       "    .dataframe thead th {\n",
       "        text-align: right;\n",
       "    }\n",
       "</style>\n",
       "<table border=\"1\" class=\"dataframe\">\n",
       "  <thead>\n",
       "    <tr style=\"text-align: right;\">\n",
       "      <th></th>\n",
       "      <th>userId</th>\n",
       "      <th>productId</th>\n",
       "      <th>ratings</th>\n",
       "    </tr>\n",
       "  </thead>\n",
       "  <tbody>\n",
       "    <tr>\n",
       "      <td>0</td>\n",
       "      <td>AKM1MP6P0OYPR</td>\n",
       "      <td>0132793040</td>\n",
       "      <td>5.0</td>\n",
       "    </tr>\n",
       "    <tr>\n",
       "      <td>1</td>\n",
       "      <td>A2CX7LUOHB2NDG</td>\n",
       "      <td>0321732944</td>\n",
       "      <td>5.0</td>\n",
       "    </tr>\n",
       "    <tr>\n",
       "      <td>2</td>\n",
       "      <td>A2NWSAGRHCP8N5</td>\n",
       "      <td>0439886341</td>\n",
       "      <td>1.0</td>\n",
       "    </tr>\n",
       "    <tr>\n",
       "      <td>3</td>\n",
       "      <td>A2WNBOD3WNDNKT</td>\n",
       "      <td>0439886341</td>\n",
       "      <td>3.0</td>\n",
       "    </tr>\n",
       "    <tr>\n",
       "      <td>4</td>\n",
       "      <td>A1GI0U4ZRJA8WN</td>\n",
       "      <td>0439886341</td>\n",
       "      <td>1.0</td>\n",
       "    </tr>\n",
       "    <tr>\n",
       "      <td>...</td>\n",
       "      <td>...</td>\n",
       "      <td>...</td>\n",
       "      <td>...</td>\n",
       "    </tr>\n",
       "    <tr>\n",
       "      <td>7824477</td>\n",
       "      <td>A2YZI3C9MOHC0L</td>\n",
       "      <td>BT008UKTMW</td>\n",
       "      <td>5.0</td>\n",
       "    </tr>\n",
       "    <tr>\n",
       "      <td>7824478</td>\n",
       "      <td>A322MDK0M89RHN</td>\n",
       "      <td>BT008UKTMW</td>\n",
       "      <td>5.0</td>\n",
       "    </tr>\n",
       "    <tr>\n",
       "      <td>7824479</td>\n",
       "      <td>A1MH90R0ADMIK0</td>\n",
       "      <td>BT008UKTMW</td>\n",
       "      <td>4.0</td>\n",
       "    </tr>\n",
       "    <tr>\n",
       "      <td>7824480</td>\n",
       "      <td>A10M2KEFPEQDHN</td>\n",
       "      <td>BT008UKTMW</td>\n",
       "      <td>4.0</td>\n",
       "    </tr>\n",
       "    <tr>\n",
       "      <td>7824481</td>\n",
       "      <td>A2G81TMIOIDEQQ</td>\n",
       "      <td>BT008V9J9U</td>\n",
       "      <td>5.0</td>\n",
       "    </tr>\n",
       "  </tbody>\n",
       "</table>\n",
       "<p>7824482 rows × 3 columns</p>\n",
       "</div>"
      ],
      "text/plain": [
       "                 userId   productId  ratings\n",
       "0         AKM1MP6P0OYPR  0132793040      5.0\n",
       "1        A2CX7LUOHB2NDG  0321732944      5.0\n",
       "2        A2NWSAGRHCP8N5  0439886341      1.0\n",
       "3        A2WNBOD3WNDNKT  0439886341      3.0\n",
       "4        A1GI0U4ZRJA8WN  0439886341      1.0\n",
       "...                 ...         ...      ...\n",
       "7824477  A2YZI3C9MOHC0L  BT008UKTMW      5.0\n",
       "7824478  A322MDK0M89RHN  BT008UKTMW      5.0\n",
       "7824479  A1MH90R0ADMIK0  BT008UKTMW      4.0\n",
       "7824480  A10M2KEFPEQDHN  BT008UKTMW      4.0\n",
       "7824481  A2G81TMIOIDEQQ  BT008V9J9U      5.0\n",
       "\n",
       "[7824482 rows x 3 columns]"
      ]
     },
     "execution_count": 11,
     "metadata": {},
     "output_type": "execute_result"
    }
   ],
   "source": [
    "ratings_data.drop_duplicates()"
   ]
  },
  {
   "cell_type": "code",
   "execution_count": 12,
   "metadata": {},
   "outputs": [
    {
     "data": {
      "text/html": [
       "<div>\n",
       "<style scoped>\n",
       "    .dataframe tbody tr th:only-of-type {\n",
       "        vertical-align: middle;\n",
       "    }\n",
       "\n",
       "    .dataframe tbody tr th {\n",
       "        vertical-align: top;\n",
       "    }\n",
       "\n",
       "    .dataframe thead th {\n",
       "        text-align: right;\n",
       "    }\n",
       "</style>\n",
       "<table border=\"1\" class=\"dataframe\">\n",
       "  <thead>\n",
       "    <tr style=\"text-align: right;\">\n",
       "      <th></th>\n",
       "      <th>ratings</th>\n",
       "    </tr>\n",
       "    <tr>\n",
       "      <th>userId</th>\n",
       "      <th></th>\n",
       "    </tr>\n",
       "  </thead>\n",
       "  <tbody>\n",
       "    <tr>\n",
       "      <td>A00000262KYZUE4J55XGL</td>\n",
       "      <td>5.0</td>\n",
       "    </tr>\n",
       "    <tr>\n",
       "      <td>A000063614T1OE0BUSKUT</td>\n",
       "      <td>10.0</td>\n",
       "    </tr>\n",
       "    <tr>\n",
       "      <td>A00009182QVLSWIGHLS1B</td>\n",
       "      <td>5.0</td>\n",
       "    </tr>\n",
       "    <tr>\n",
       "      <td>A00009661LC9LQPGKJ24G</td>\n",
       "      <td>5.0</td>\n",
       "    </tr>\n",
       "    <tr>\n",
       "      <td>A00010809P09NUU6ZP6H</td>\n",
       "      <td>5.0</td>\n",
       "    </tr>\n",
       "    <tr>\n",
       "      <td>...</td>\n",
       "      <td>...</td>\n",
       "    </tr>\n",
       "    <tr>\n",
       "      <td>AZZZOVIBXHGDR</td>\n",
       "      <td>10.0</td>\n",
       "    </tr>\n",
       "    <tr>\n",
       "      <td>AZZZRS1YZ8HVP</td>\n",
       "      <td>8.0</td>\n",
       "    </tr>\n",
       "    <tr>\n",
       "      <td>AZZZSIK7NFFVP</td>\n",
       "      <td>5.0</td>\n",
       "    </tr>\n",
       "    <tr>\n",
       "      <td>AZZZWXXUPZ1F3</td>\n",
       "      <td>5.0</td>\n",
       "    </tr>\n",
       "    <tr>\n",
       "      <td>AZZZY1W55XHZR</td>\n",
       "      <td>4.0</td>\n",
       "    </tr>\n",
       "  </tbody>\n",
       "</table>\n",
       "<p>4201696 rows × 1 columns</p>\n",
       "</div>"
      ],
      "text/plain": [
       "                       ratings\n",
       "userId                        \n",
       "A00000262KYZUE4J55XGL      5.0\n",
       "A000063614T1OE0BUSKUT     10.0\n",
       "A00009182QVLSWIGHLS1B      5.0\n",
       "A00009661LC9LQPGKJ24G      5.0\n",
       "A00010809P09NUU6ZP6H       5.0\n",
       "...                        ...\n",
       "AZZZOVIBXHGDR             10.0\n",
       "AZZZRS1YZ8HVP              8.0\n",
       "AZZZSIK7NFFVP              5.0\n",
       "AZZZWXXUPZ1F3              5.0\n",
       "AZZZY1W55XHZR              4.0\n",
       "\n",
       "[4201696 rows x 1 columns]"
      ]
     },
     "execution_count": 12,
     "metadata": {},
     "output_type": "execute_result"
    }
   ],
   "source": [
    "ratings_data.groupby('userId').sum()"
   ]
  },
  {
   "cell_type": "code",
   "execution_count": 13,
   "metadata": {},
   "outputs": [
    {
     "data": {
      "text/plain": [
       "array(['AKM1MP6P0OYPR', 'A2CX7LUOHB2NDG', 'A2NWSAGRHCP8N5', ...,\n",
       "       'A180UGKKYCPDH0', 'A2IGIIABRZ5LAB', 'A10M2KEFPEQDHN'], dtype=object)"
      ]
     },
     "execution_count": 13,
     "metadata": {},
     "output_type": "execute_result"
    }
   ],
   "source": [
    "userId= ratings_data['userId'].unique()\n",
    "userId"
   ]
  },
  {
   "cell_type": "code",
   "execution_count": 14,
   "metadata": {},
   "outputs": [
    {
     "data": {
      "text/plain": [
       "array(['0132793040', '0321732944', '0439886341', ..., 'BT008T2BGK',\n",
       "       'BT008UKTMW', 'BT008V9J9U'], dtype=object)"
      ]
     },
     "execution_count": 14,
     "metadata": {},
     "output_type": "execute_result"
    }
   ],
   "source": [
    "productId= ratings_data['productId'].unique()\n",
    "productId"
   ]
  },
  {
   "cell_type": "code",
   "execution_count": 15,
   "metadata": {},
   "outputs": [
    {
     "name": "stdout",
     "output_type": "stream",
     "text": [
      "4201696\n",
      "476002\n",
      "7824482\n"
     ]
    }
   ],
   "source": [
    "print(len(userId))\n",
    "print(len(productId))\n",
    "print(len(ratings_data))"
   ]
  },
  {
   "cell_type": "code",
   "execution_count": 16,
   "metadata": {},
   "outputs": [
    {
     "name": "stdout",
     "output_type": "stream",
     "text": [
      "userId       4201696\n",
      "productId     476002\n",
      "ratings            5\n",
      "dtype: int64\n"
     ]
    }
   ],
   "source": [
    "print(ratings_data.nunique())"
   ]
  },
  {
   "cell_type": "code",
   "execution_count": 17,
   "metadata": {},
   "outputs": [
    {
     "name": "stdout",
     "output_type": "stream",
     "text": [
      "            ratings\n",
      "count  7.824482e+06\n",
      "mean   4.012337e+00\n",
      "std    1.380910e+00\n",
      "min    1.000000e+00\n",
      "25%    3.000000e+00\n",
      "50%    5.000000e+00\n",
      "75%    5.000000e+00\n",
      "max    5.000000e+00\n"
     ]
    }
   ],
   "source": [
    "print(ratings_data.describe())"
   ]
  },
  {
   "cell_type": "code",
   "execution_count": 18,
   "metadata": {},
   "outputs": [
    {
     "data": {
      "text/plain": [
       "5.0    4347541\n",
       "4.0    1485781\n",
       "1.0     901765\n",
       "3.0     633073\n",
       "2.0     456322\n",
       "Name: ratings, dtype: int64"
      ]
     },
     "execution_count": 18,
     "metadata": {},
     "output_type": "execute_result"
    }
   ],
   "source": [
    "ratings_data['ratings'].value_counts()"
   ]
  },
  {
   "cell_type": "code",
   "execution_count": 19,
   "metadata": {},
   "outputs": [
    {
     "data": {
      "text/plain": [
       "<matplotlib.axes._subplots.AxesSubplot at 0x20408476088>"
      ]
     },
     "execution_count": 19,
     "metadata": {},
     "output_type": "execute_result"
    }
   ],
   "source": [
    "ratings_data['ratings'].value_counts().plot(kind= 'hist', bins=70)"
   ]
  },
  {
   "cell_type": "code",
   "execution_count": 20,
   "metadata": {},
   "outputs": [
    {
     "data": {
      "text/plain": [
       "<matplotlib.axes._subplots.AxesSubplot at 0x20408741e48>"
      ]
     },
     "execution_count": 20,
     "metadata": {},
     "output_type": "execute_result"
    },
    {
     "data": {
      "image/png": "[encoded data removed]",
      "text/plain": [
       "<Figure size 432x288 with 1 Axes>"
      ]
     },
     "metadata": {
      "needs_background": "light"
     },
     "output_type": "display_data"
    }
   ],
   "source": [
    "ratings_data['ratings'].value_counts().plot(kind= 'bar')"
   ]
  },
  {
   "cell_type": "code",
   "execution_count": 21,
   "metadata": {},
   "outputs": [
    {
     "data": {
      "text/plain": [
       "<matplotlib.axes._subplots.AxesSubplot at 0x2040bb1e388>"
      ]
     },
     "execution_count": 21,
     "metadata": {},
     "output_type": "execute_result"
    },
    {
     "data": {
      "image/png": "[encoded data removed]",
      "text/plain": [
       "<Figure size 432x288 with 1 Axes>"
      ]
     },
     "metadata": {
      "needs_background": "light"
     },
     "output_type": "display_data"
    }
   ],
   "source": [
    "import seaborn as sns\n",
    "sns.countplot(x='ratings',data=ratings_data)"
   ]
  },
  {
   "cell_type": "code",
   "execution_count": 22,
   "metadata": {},
   "outputs": [
    {
     "data": {
      "text/plain": [
       "<matplotlib.axes._subplots.AxesSubplot at 0x2040c424308>"
      ]
     },
     "execution_count": 22,
     "metadata": {},
     "output_type": "execute_result"
    },
    {
     "data": {
      "image/png": "[encoded data removed]",
      "text/plain": [
       "<Figure size 360x288 with 1 Axes>"
      ]
     },
     "metadata": {},
     "output_type": "display_data"
    }
   ],
   "source": [
    "sns.set(rc={'figure.figsize':(5,4)})\n",
    "sns.distplot(ratings_data['ratings'],hist=True,rug=True,bins=3,kde=True)\n",
    "#plt.xticks(range(0, 100, 10))"
   ]
  },
  {
   "cell_type": "code",
   "execution_count": null,
   "metadata": {},
   "outputs": [],
   "source": [
    "#ratings_data = ratings_data.sample(frac=0.1)"
   ]
  },
  {
   "cell_type": "code",
   "execution_count": null,
   "metadata": {},
   "outputs": [],
   "source": [
    "#ratings_data.shape"
   ]
  },
  {
   "cell_type": "code",
   "execution_count": 23,
   "metadata": {},
   "outputs": [
    {
     "data": {
      "text/plain": [
       "<matplotlib.axes._subplots.AxesSubplot at 0x204d5921f48>"
      ]
     },
     "execution_count": 23,
     "metadata": {},
     "output_type": "execute_result"
    },
    {
     "data": {
      "image/png": "[encoded data removed]",
      "text/plain": [
       "<Figure size 360x288 with 1 Axes>"
      ]
     },
     "metadata": {},
     "output_type": "display_data"
    }
   ],
   "source": [
    "sns.set(rc={'figure.figsize':(5,4)})\n",
    "sns.distplot(ratings_data['ratings'],hist=True,rug=False,bins=3,kde=True)\n",
    "#plt.xticks(range(0, 100, 10))"
   ]
  },
  {
   "cell_type": "code",
   "execution_count": 24,
   "metadata": {},
   "outputs": [
    {
     "data": {
      "text/plain": [
       "userId       False\n",
       "productId    False\n",
       "ratings      False\n",
       "dtype: bool"
      ]
     },
     "execution_count": 24,
     "metadata": {},
     "output_type": "execute_result"
    }
   ],
   "source": [
    "ratings_data.isnull().any()"
   ]
  },
  {
   "cell_type": "code",
   "execution_count": 25,
   "metadata": {},
   "outputs": [
    {
     "data": {
      "text/plain": [
       "userId        object\n",
       "productId     object\n",
       "ratings      float64\n",
       "dtype: object"
      ]
     },
     "execution_count": 25,
     "metadata": {},
     "output_type": "execute_result"
    }
   ],
   "source": [
    "ratings_data.dtypes"
   ]
  },
  {
   "cell_type": "code",
   "execution_count": 26,
   "metadata": {},
   "outputs": [
    {
     "data": {
      "text/plain": [
       "A5JLAU2ARJ0BO     520\n",
       "ADLVFFE4VBT8      501\n",
       "A3OXHLG6DIBRW8    498\n",
       "A6FIAB28IS79      431\n",
       "A680RUE1FDO8B     406\n",
       "                 ... \n",
       "AWPVFPIC0Z0G8       1\n",
       "AGN82BRPPYS50       1\n",
       "A2ER0J0P92ODP7      1\n",
       "A3DHJKFQBKI7QC      1\n",
       "A1EV24KYHWGNGE      1\n",
       "Name: userId, Length: 4201696, dtype: int64"
      ]
     },
     "execution_count": 26,
     "metadata": {},
     "output_type": "execute_result"
    }
   ],
   "source": [
    "ratings_data['userId'].value_counts()"
   ]
  },
  {
   "cell_type": "code",
   "execution_count": 27,
   "metadata": {},
   "outputs": [
    {
     "data": {
      "text/plain": [
       "userId        object\n",
       "productId     object\n",
       "ratings      float64\n",
       "dtype: object"
      ]
     },
     "execution_count": 27,
     "metadata": {},
     "output_type": "execute_result"
    }
   ],
   "source": [
    "ratings_data.dtypes"
   ]
  },
  {
   "cell_type": "code",
   "execution_count": 28,
   "metadata": {},
   "outputs": [
    {
     "data": {
      "text/plain": [
       "<matplotlib.axes._subplots.AxesSubplot at 0x204d59809c8>"
      ]
     },
     "execution_count": 28,
     "metadata": {},
     "output_type": "execute_result"
    },
    {
     "data": {
      "image/png": "[encoded data removed]",
      "text/plain": [
       "<Figure size 360x288 with 1 Axes>"
      ]
     },
     "metadata": {},
     "output_type": "display_data"
    }
   ],
   "source": [
    "import seaborn as sns\n",
    "sns.distplot(ratings_data['ratings'])"
   ]
  },
  {
   "cell_type": "code",
   "execution_count": 29,
   "metadata": {},
   "outputs": [
    {
     "data": {
      "text/html": [
       "<div>\n",
       "<style scoped>\n",
       "    .dataframe tbody tr th:only-of-type {\n",
       "        vertical-align: middle;\n",
       "    }\n",
       "\n",
       "    .dataframe tbody tr th {\n",
       "        vertical-align: top;\n",
       "    }\n",
       "\n",
       "    .dataframe thead th {\n",
       "        text-align: right;\n",
       "    }\n",
       "</style>\n",
       "<table border=\"1\" class=\"dataframe\">\n",
       "  <thead>\n",
       "    <tr style=\"text-align: right;\">\n",
       "      <th></th>\n",
       "      <th>count</th>\n",
       "      <th>mean</th>\n",
       "      <th>std</th>\n",
       "      <th>min</th>\n",
       "      <th>25%</th>\n",
       "      <th>50%</th>\n",
       "      <th>75%</th>\n",
       "      <th>max</th>\n",
       "    </tr>\n",
       "  </thead>\n",
       "  <tbody>\n",
       "    <tr>\n",
       "      <td>ratings</td>\n",
       "      <td>7824482.0</td>\n",
       "      <td>4.012337</td>\n",
       "      <td>1.38091</td>\n",
       "      <td>1.0</td>\n",
       "      <td>3.0</td>\n",
       "      <td>5.0</td>\n",
       "      <td>5.0</td>\n",
       "      <td>5.0</td>\n",
       "    </tr>\n",
       "  </tbody>\n",
       "</table>\n",
       "</div>"
      ],
      "text/plain": [
       "             count      mean      std  min  25%  50%  75%  max\n",
       "ratings  7824482.0  4.012337  1.38091  1.0  3.0  5.0  5.0  5.0"
      ]
     },
     "execution_count": 29,
     "metadata": {},
     "output_type": "execute_result"
    }
   ],
   "source": [
    "ratings_data.describe().T"
   ]
  },
  {
   "cell_type": "code",
   "execution_count": 30,
   "metadata": {},
   "outputs": [
    {
     "data": {
      "text/html": [
       "<div>\n",
       "<style scoped>\n",
       "    .dataframe tbody tr th:only-of-type {\n",
       "        vertical-align: middle;\n",
       "    }\n",
       "\n",
       "    .dataframe tbody tr th {\n",
       "        vertical-align: top;\n",
       "    }\n",
       "\n",
       "    .dataframe thead th {\n",
       "        text-align: right;\n",
       "    }\n",
       "</style>\n",
       "<table border=\"1\" class=\"dataframe\">\n",
       "  <thead>\n",
       "    <tr style=\"text-align: right;\">\n",
       "      <th></th>\n",
       "      <th>userId</th>\n",
       "      <th>ratings</th>\n",
       "    </tr>\n",
       "  </thead>\n",
       "  <tbody>\n",
       "    <tr>\n",
       "      <td>3263531</td>\n",
       "      <td>A5JLAU2ARJ0BO</td>\n",
       "      <td>520</td>\n",
       "    </tr>\n",
       "    <tr>\n",
       "      <td>3512451</td>\n",
       "      <td>ADLVFFE4VBT8</td>\n",
       "      <td>501</td>\n",
       "    </tr>\n",
       "    <tr>\n",
       "      <td>2989526</td>\n",
       "      <td>A3OXHLG6DIBRW8</td>\n",
       "      <td>498</td>\n",
       "    </tr>\n",
       "    <tr>\n",
       "      <td>3291008</td>\n",
       "      <td>A6FIAB28IS79</td>\n",
       "      <td>431</td>\n",
       "    </tr>\n",
       "    <tr>\n",
       "      <td>3284634</td>\n",
       "      <td>A680RUE1FDO8B</td>\n",
       "      <td>406</td>\n",
       "    </tr>\n",
       "    <tr>\n",
       "      <td>...</td>\n",
       "      <td>...</td>\n",
       "      <td>...</td>\n",
       "    </tr>\n",
       "    <tr>\n",
       "      <td>1661484</td>\n",
       "      <td>A2HRB8UOXH92SQ</td>\n",
       "      <td>1</td>\n",
       "    </tr>\n",
       "    <tr>\n",
       "      <td>1661486</td>\n",
       "      <td>A2HRBA4HO2E4GU</td>\n",
       "      <td>1</td>\n",
       "    </tr>\n",
       "    <tr>\n",
       "      <td>1661487</td>\n",
       "      <td>A2HRBCM00IDK56</td>\n",
       "      <td>1</td>\n",
       "    </tr>\n",
       "    <tr>\n",
       "      <td>1661488</td>\n",
       "      <td>A2HRBEBDTIB8MT</td>\n",
       "      <td>1</td>\n",
       "    </tr>\n",
       "    <tr>\n",
       "      <td>4201695</td>\n",
       "      <td>AZZZY1W55XHZR</td>\n",
       "      <td>1</td>\n",
       "    </tr>\n",
       "  </tbody>\n",
       "</table>\n",
       "<p>4201696 rows × 2 columns</p>\n",
       "</div>"
      ],
      "text/plain": [
       "                 userId  ratings\n",
       "3263531   A5JLAU2ARJ0BO      520\n",
       "3512451    ADLVFFE4VBT8      501\n",
       "2989526  A3OXHLG6DIBRW8      498\n",
       "3291008    A6FIAB28IS79      431\n",
       "3284634   A680RUE1FDO8B      406\n",
       "...                 ...      ...\n",
       "1661484  A2HRB8UOXH92SQ        1\n",
       "1661486  A2HRBA4HO2E4GU        1\n",
       "1661487  A2HRBCM00IDK56        1\n",
       "1661488  A2HRBEBDTIB8MT        1\n",
       "4201695   AZZZY1W55XHZR        1\n",
       "\n",
       "[4201696 rows x 2 columns]"
      ]
     },
     "execution_count": 30,
     "metadata": {},
     "output_type": "execute_result"
    }
   ],
   "source": [
    "ratings_data_grouped = ratings_data.groupby(['userId']).agg({'ratings': 'count'}).reset_index()\n",
    "ratings_data_grouped.sort_values('ratings',ascending = 0)"
   ]
  },
  {
   "cell_type": "code",
   "execution_count": 31,
   "metadata": {},
   "outputs": [],
   "source": [
    "ratings_df=ratings_data_grouped[ratings_data_grouped['ratings']>50]"
   ]
  },
  {
   "cell_type": "code",
   "execution_count": 32,
   "metadata": {},
   "outputs": [
    {
     "data": {
      "text/html": [
       "<div>\n",
       "<style scoped>\n",
       "    .dataframe tbody tr th:only-of-type {\n",
       "        vertical-align: middle;\n",
       "    }\n",
       "\n",
       "    .dataframe tbody tr th {\n",
       "        vertical-align: top;\n",
       "    }\n",
       "\n",
       "    .dataframe thead th {\n",
       "        text-align: right;\n",
       "    }\n",
       "</style>\n",
       "<table border=\"1\" class=\"dataframe\">\n",
       "  <thead>\n",
       "    <tr style=\"text-align: right;\">\n",
       "      <th></th>\n",
       "      <th>userId</th>\n",
       "      <th>ratings</th>\n",
       "    </tr>\n",
       "  </thead>\n",
       "  <tbody>\n",
       "    <tr>\n",
       "      <td>5506</td>\n",
       "      <td>A100UD67AHFODS</td>\n",
       "      <td>116</td>\n",
       "    </tr>\n",
       "    <tr>\n",
       "      <td>5558</td>\n",
       "      <td>A100WO06OQR8BQ</td>\n",
       "      <td>132</td>\n",
       "    </tr>\n",
       "    <tr>\n",
       "      <td>9928</td>\n",
       "      <td>A105S56ODHGJEK</td>\n",
       "      <td>68</td>\n",
       "    </tr>\n",
       "    <tr>\n",
       "      <td>9965</td>\n",
       "      <td>A105TOJ6LTVMBG</td>\n",
       "      <td>71</td>\n",
       "    </tr>\n",
       "    <tr>\n",
       "      <td>13836</td>\n",
       "      <td>A10AFVU66A79Y1</td>\n",
       "      <td>65</td>\n",
       "    </tr>\n",
       "    <tr>\n",
       "      <td>...</td>\n",
       "      <td>...</td>\n",
       "      <td>...</td>\n",
       "    </tr>\n",
       "    <tr>\n",
       "      <td>4181090</td>\n",
       "      <td>AZBXKUH4AIW3X</td>\n",
       "      <td>53</td>\n",
       "    </tr>\n",
       "    <tr>\n",
       "      <td>4181493</td>\n",
       "      <td>AZCE11PSTCH1L</td>\n",
       "      <td>60</td>\n",
       "    </tr>\n",
       "    <tr>\n",
       "      <td>4190671</td>\n",
       "      <td>AZMY6E8B52L2T</td>\n",
       "      <td>189</td>\n",
       "    </tr>\n",
       "    <tr>\n",
       "      <td>4191432</td>\n",
       "      <td>AZNUHQSHZHSUE</td>\n",
       "      <td>54</td>\n",
       "    </tr>\n",
       "    <tr>\n",
       "      <td>4192049</td>\n",
       "      <td>AZOK5STV85FBJ</td>\n",
       "      <td>54</td>\n",
       "    </tr>\n",
       "  </tbody>\n",
       "</table>\n",
       "<p>1466 rows × 2 columns</p>\n",
       "</div>"
      ],
      "text/plain": [
       "                 userId  ratings\n",
       "5506     A100UD67AHFODS      116\n",
       "5558     A100WO06OQR8BQ      132\n",
       "9928     A105S56ODHGJEK       68\n",
       "9965     A105TOJ6LTVMBG       71\n",
       "13836    A10AFVU66A79Y1       65\n",
       "...                 ...      ...\n",
       "4181090   AZBXKUH4AIW3X       53\n",
       "4181493   AZCE11PSTCH1L       60\n",
       "4190671   AZMY6E8B52L2T      189\n",
       "4191432   AZNUHQSHZHSUE       54\n",
       "4192049   AZOK5STV85FBJ       54\n",
       "\n",
       "[1466 rows x 2 columns]"
      ]
     },
     "execution_count": 32,
     "metadata": {},
     "output_type": "execute_result"
    }
   ],
   "source": [
    "ratings_df"
   ]
  },
  {
   "cell_type": "code",
   "execution_count": null,
   "metadata": {},
   "outputs": [],
   "source": [
    "#rating_df = pd.merge(df, ratings_data, on='userId') "
   ]
  },
  {
   "cell_type": "code",
   "execution_count": null,
   "metadata": {},
   "outputs": [],
   "source": [
    "#rating_df.tail()"
   ]
  },
  {
   "cell_type": "code",
   "execution_count": null,
   "metadata": {},
   "outputs": [],
   "source": [
    "#rating_df=rating_df.drop('ratings_x',axis=1)\n"
   ]
  },
  {
   "cell_type": "code",
   "execution_count": null,
   "metadata": {},
   "outputs": [],
   "source": [
    "#rating_df.head()"
   ]
  },
  {
   "cell_type": "code",
   "execution_count": null,
   "metadata": {},
   "outputs": [],
   "source": [
    "#rating_df=rating_df.rename(columns={'ratings_y':'rating'})\n",
    "#rating_df.head()"
   ]
  },
  {
   "cell_type": "code",
   "execution_count": null,
   "metadata": {},
   "outputs": [],
   "source": []
  },
  {
   "cell_type": "code",
   "execution_count": 33,
   "metadata": {
    "colab": {
     "base_uri": "https://localhost:8080/",
     "height": 337
    },
    "colab_type": "code",
    "id": "p3j86rlwSkMv",
    "outputId": "90d7f99c-230a-4ca4-9aca-e9f76eb618b3"
   },
   "outputs": [
    {
     "data": {
      "text/plain": [
       "<matplotlib.axes._subplots.AxesSubplot at 0x204d5bd65c8>"
      ]
     },
     "execution_count": 33,
     "metadata": {},
     "output_type": "execute_result"
    },
    {
     "data": {
      "image/png": "[encoded data removed]",
      "text/plain": [
       "<Figure size 720x360 with 1 Axes>"
      ]
     },
     "metadata": {
      "needs_background": "light"
     },
     "output_type": "display_data"
    }
   ],
   "source": [
    "from os import system\n",
    "%matplotlib inline\n",
    "import matplotlib.pyplot as plt\n",
    "fig, ax = plt.subplots(figsize=(10,5))\n",
    "sns.boxplot(data=ratings_data)"
   ]
  },
  {
   "cell_type": "code",
   "execution_count": 0,
   "metadata": {
    "colab": {},
    "colab_type": "code",
    "id": "_bUC1nGLqmhw"
   },
   "outputs": [],
   "source": []
  },
  {
   "cell_type": "markdown",
   "metadata": {
    "colab_type": "text",
    "id": "BNNgjWBashfI"
   },
   "source": [
    "Take a subset of the dataset to make it less sparse/ denser. ( For example, keep the\n",
    "users only who has given 50 or more number of ratings )"
   ]
  },
  {
   "cell_type": "markdown",
   "metadata": {
    "colab_type": "text",
    "id": "yUhqy3ZRpVUl"
   },
   "source": [
    "POPULARITY BASED RECOMMENDATION SYSTEM"
   ]
  },
  {
   "cell_type": "code",
   "execution_count": 34,
   "metadata": {
    "colab": {},
    "colab_type": "code",
    "id": "pln_n_uqYVxx"
   },
   "outputs": [],
   "source": [
    "#Getting the new dataframe which contains users who has given 50 or more ratings\n",
    "\n",
    "new_df=ratings_data.groupby(\"productId\").filter(lambda x:x['ratings'].count() >=50)"
   ]
  },
  {
   "cell_type": "code",
   "execution_count": 35,
   "metadata": {
    "colab": {},
    "colab_type": "code",
    "id": "kNj1vuoHvsfq"
   },
   "outputs": [
    {
     "data": {
      "text/html": [
       "<div>\n",
       "<style scoped>\n",
       "    .dataframe tbody tr th:only-of-type {\n",
       "        vertical-align: middle;\n",
       "    }\n",
       "\n",
       "    .dataframe tbody tr th {\n",
       "        vertical-align: top;\n",
       "    }\n",
       "\n",
       "    .dataframe thead th {\n",
       "        text-align: right;\n",
       "    }\n",
       "</style>\n",
       "<table border=\"1\" class=\"dataframe\">\n",
       "  <thead>\n",
       "    <tr style=\"text-align: right;\">\n",
       "      <th></th>\n",
       "      <th>userId</th>\n",
       "      <th>productId</th>\n",
       "      <th>ratings</th>\n",
       "    </tr>\n",
       "  </thead>\n",
       "  <tbody>\n",
       "    <tr>\n",
       "      <td>183</td>\n",
       "      <td>A1BKC6B7YHYTVV</td>\n",
       "      <td>0972683275</td>\n",
       "      <td>4.0</td>\n",
       "    </tr>\n",
       "    <tr>\n",
       "      <td>184</td>\n",
       "      <td>AWVFSIB42LHKJ</td>\n",
       "      <td>0972683275</td>\n",
       "      <td>4.0</td>\n",
       "    </tr>\n",
       "    <tr>\n",
       "      <td>185</td>\n",
       "      <td>A36MQBNADRH8YY</td>\n",
       "      <td>0972683275</td>\n",
       "      <td>5.0</td>\n",
       "    </tr>\n",
       "    <tr>\n",
       "      <td>186</td>\n",
       "      <td>A3SRXMPLAEZ6DP</td>\n",
       "      <td>0972683275</td>\n",
       "      <td>4.0</td>\n",
       "    </tr>\n",
       "    <tr>\n",
       "      <td>187</td>\n",
       "      <td>A20XXTXWF2TCPY</td>\n",
       "      <td>0972683275</td>\n",
       "      <td>5.0</td>\n",
       "    </tr>\n",
       "    <tr>\n",
       "      <td>...</td>\n",
       "      <td>...</td>\n",
       "      <td>...</td>\n",
       "      <td>...</td>\n",
       "    </tr>\n",
       "    <tr>\n",
       "      <td>7824223</td>\n",
       "      <td>A2857SW4TZ841C</td>\n",
       "      <td>B00L3YHF6O</td>\n",
       "      <td>1.0</td>\n",
       "    </tr>\n",
       "    <tr>\n",
       "      <td>7824224</td>\n",
       "      <td>A2Y2NSH2HVFAOA</td>\n",
       "      <td>B00L3YHF6O</td>\n",
       "      <td>5.0</td>\n",
       "    </tr>\n",
       "    <tr>\n",
       "      <td>7824225</td>\n",
       "      <td>A3TC2716OF7HK8</td>\n",
       "      <td>B00L3YHF6O</td>\n",
       "      <td>5.0</td>\n",
       "    </tr>\n",
       "    <tr>\n",
       "      <td>7824226</td>\n",
       "      <td>AYCPSPX7XZ21G</td>\n",
       "      <td>B00L3YHF6O</td>\n",
       "      <td>5.0</td>\n",
       "    </tr>\n",
       "    <tr>\n",
       "      <td>7824227</td>\n",
       "      <td>A1AJVEBU3Y8GB</td>\n",
       "      <td>B00L3YHF6O</td>\n",
       "      <td>5.0</td>\n",
       "    </tr>\n",
       "  </tbody>\n",
       "</table>\n",
       "<p>5374313 rows × 3 columns</p>\n",
       "</div>"
      ],
      "text/plain": [
       "                 userId   productId  ratings\n",
       "183      A1BKC6B7YHYTVV  0972683275      4.0\n",
       "184       AWVFSIB42LHKJ  0972683275      4.0\n",
       "185      A36MQBNADRH8YY  0972683275      5.0\n",
       "186      A3SRXMPLAEZ6DP  0972683275      4.0\n",
       "187      A20XXTXWF2TCPY  0972683275      5.0\n",
       "...                 ...         ...      ...\n",
       "7824223  A2857SW4TZ841C  B00L3YHF6O      1.0\n",
       "7824224  A2Y2NSH2HVFAOA  B00L3YHF6O      5.0\n",
       "7824225  A3TC2716OF7HK8  B00L3YHF6O      5.0\n",
       "7824226   AYCPSPX7XZ21G  B00L3YHF6O      5.0\n",
       "7824227   A1AJVEBU3Y8GB  B00L3YHF6O      5.0\n",
       "\n",
       "[5374313 rows x 3 columns]"
      ]
     },
     "execution_count": 35,
     "metadata": {},
     "output_type": "execute_result"
    }
   ],
   "source": [
    "new_df"
   ]
  },
  {
   "cell_type": "code",
   "execution_count": 36,
   "metadata": {
    "colab": {
     "base_uri": "https://localhost:8080/",
     "height": 51
    },
    "colab_type": "code",
    "id": "mZ1Cws6IwBiE",
    "outputId": "a152b635-0b04-4293-eb5f-6b8fe6ceda49"
   },
   "outputs": [
    {
     "name": "stdout",
     "output_type": "stream",
     "text": [
      "Unique users =  3225223\n",
      "Unique products =  26226\n"
     ]
    }
   ],
   "source": [
    "# Number of unique user id and product id in the sub data\n",
    "print('Unique users = ', new_df['userId'].nunique())\n",
    "print('Unique products = ', new_df['productId'].nunique())"
   ]
  },
  {
   "cell_type": "code",
   "execution_count": 37,
   "metadata": {
    "colab": {
     "base_uri": "https://localhost:8080/",
     "height": 204
    },
    "colab_type": "code",
    "id": "WYeyUcnD19g7",
    "outputId": "f0294b17-2861-4e02-863e-dd3389bd004c"
   },
   "outputs": [],
   "source": [
    "no_of_ratings_per_product = new_df.groupby(by='productId')['ratings'].count().sort_values(ascending=False)"
   ]
  },
  {
   "cell_type": "code",
   "execution_count": 38,
   "metadata": {
    "colab": {
     "base_uri": "https://localhost:8080/",
     "height": 34
    },
    "colab_type": "code",
    "id": "lfA99zLK19me",
    "outputId": "31e06aa9-1bef-4332-9c82-b068002d5b85"
   },
   "outputs": [
    {
     "data": {
      "text/plain": [
       "productId\n",
       "B0074BW614    18244\n",
       "B00DR0PDNE    16454\n",
       "B007WTAJTO    14172\n",
       "B0019EHU8G    12285\n",
       "B006GWO5WK    12226\n",
       "              ...  \n",
       "B00DTMXQYI       50\n",
       "B003MVZ8NI       50\n",
       "B007FLQ8D0       50\n",
       "B003LZRAFO       50\n",
       "B009GGC4B2       50\n",
       "Name: ratings, Length: 26226, dtype: int64"
      ]
     },
     "execution_count": 38,
     "metadata": {},
     "output_type": "execute_result"
    }
   ],
   "source": [
    "no_of_ratings_per_product"
   ]
  },
  {
   "cell_type": "code",
   "execution_count": 39,
   "metadata": {},
   "outputs": [
    {
     "data": {
      "text/plain": [
       "productId\n",
       "0972683275    4.470980\n",
       "1400501466    3.560000\n",
       "1400501520    4.243902\n",
       "1400501776    3.884892\n",
       "1400532620    3.684211\n",
       "Name: ratings, dtype: float64"
      ]
     },
     "execution_count": 39,
     "metadata": {},
     "output_type": "execute_result"
    }
   ],
   "source": [
    "#Average rating of the product \n",
    "new_df.groupby('productId')['ratings'].mean().head()"
   ]
  },
  {
   "cell_type": "code",
   "execution_count": 40,
   "metadata": {},
   "outputs": [
    {
     "data": {
      "text/plain": [
       "productId\n",
       "B002E6R7NG    4.980392\n",
       "B004I763AW    4.966667\n",
       "B003J9QQWU    4.964286\n",
       "B0043ZLFXE    4.955556\n",
       "B000TMFYBO    4.953125\n",
       "Name: ratings, dtype: float64"
      ]
     },
     "execution_count": 40,
     "metadata": {},
     "output_type": "execute_result"
    }
   ],
   "source": [
    "\n",
    "#Average rating of the product in descending order\n",
    "new_df.groupby('productId')['ratings'].mean().sort_values(ascending=False).head()"
   ]
  },
  {
   "cell_type": "code",
   "execution_count": 41,
   "metadata": {},
   "outputs": [
    {
     "data": {
      "text/plain": [
       "productId\n",
       "B0074BW614    18244\n",
       "B00DR0PDNE    16454\n",
       "B007WTAJTO    14172\n",
       "B0019EHU8G    12285\n",
       "B006GWO5WK    12226\n",
       "Name: ratings, dtype: int64"
      ]
     },
     "execution_count": 41,
     "metadata": {},
     "output_type": "execute_result"
    }
   ],
   "source": [
    "#Total no of rating for product\n",
    "new_df.groupby('productId')['ratings'].count().sort_values(ascending=False).head()"
   ]
  },
  {
   "cell_type": "code",
   "execution_count": 42,
   "metadata": {},
   "outputs": [],
   "source": [
    "ratings_mean_count = pd.DataFrame(new_df.groupby('productId')['ratings'].mean())"
   ]
  },
  {
   "cell_type": "code",
   "execution_count": 43,
   "metadata": {},
   "outputs": [
    {
     "data": {
      "text/html": [
       "<div>\n",
       "<style scoped>\n",
       "    .dataframe tbody tr th:only-of-type {\n",
       "        vertical-align: middle;\n",
       "    }\n",
       "\n",
       "    .dataframe tbody tr th {\n",
       "        vertical-align: top;\n",
       "    }\n",
       "\n",
       "    .dataframe thead th {\n",
       "        text-align: right;\n",
       "    }\n",
       "</style>\n",
       "<table border=\"1\" class=\"dataframe\">\n",
       "  <thead>\n",
       "    <tr style=\"text-align: right;\">\n",
       "      <th></th>\n",
       "      <th>ratings</th>\n",
       "    </tr>\n",
       "    <tr>\n",
       "      <th>productId</th>\n",
       "      <th></th>\n",
       "    </tr>\n",
       "  </thead>\n",
       "  <tbody>\n",
       "    <tr>\n",
       "      <td>0972683275</td>\n",
       "      <td>4.470980</td>\n",
       "    </tr>\n",
       "    <tr>\n",
       "      <td>1400501466</td>\n",
       "      <td>3.560000</td>\n",
       "    </tr>\n",
       "    <tr>\n",
       "      <td>1400501520</td>\n",
       "      <td>4.243902</td>\n",
       "    </tr>\n",
       "    <tr>\n",
       "      <td>1400501776</td>\n",
       "      <td>3.884892</td>\n",
       "    </tr>\n",
       "    <tr>\n",
       "      <td>1400532620</td>\n",
       "      <td>3.684211</td>\n",
       "    </tr>\n",
       "    <tr>\n",
       "      <td>...</td>\n",
       "      <td>...</td>\n",
       "    </tr>\n",
       "    <tr>\n",
       "      <td>B00KFAGCUM</td>\n",
       "      <td>4.824427</td>\n",
       "    </tr>\n",
       "    <tr>\n",
       "      <td>B00KGGJPX6</td>\n",
       "      <td>4.592593</td>\n",
       "    </tr>\n",
       "    <tr>\n",
       "      <td>B00KINSDK8</td>\n",
       "      <td>3.576923</td>\n",
       "    </tr>\n",
       "    <tr>\n",
       "      <td>B00KWHMR6G</td>\n",
       "      <td>3.637931</td>\n",
       "    </tr>\n",
       "    <tr>\n",
       "      <td>B00L3YHF6O</td>\n",
       "      <td>4.814286</td>\n",
       "    </tr>\n",
       "  </tbody>\n",
       "</table>\n",
       "<p>26226 rows × 1 columns</p>\n",
       "</div>"
      ],
      "text/plain": [
       "             ratings\n",
       "productId           \n",
       "0972683275  4.470980\n",
       "1400501466  3.560000\n",
       "1400501520  4.243902\n",
       "1400501776  3.884892\n",
       "1400532620  3.684211\n",
       "...              ...\n",
       "B00KFAGCUM  4.824427\n",
       "B00KGGJPX6  4.592593\n",
       "B00KINSDK8  3.576923\n",
       "B00KWHMR6G  3.637931\n",
       "B00L3YHF6O  4.814286\n",
       "\n",
       "[26226 rows x 1 columns]"
      ]
     },
     "execution_count": 43,
     "metadata": {},
     "output_type": "execute_result"
    }
   ],
   "source": [
    "ratings_mean_count"
   ]
  },
  {
   "cell_type": "code",
   "execution_count": 44,
   "metadata": {},
   "outputs": [
    {
     "data": {
      "text/html": [
       "<div>\n",
       "<style scoped>\n",
       "    .dataframe tbody tr th:only-of-type {\n",
       "        vertical-align: middle;\n",
       "    }\n",
       "\n",
       "    .dataframe tbody tr th {\n",
       "        vertical-align: top;\n",
       "    }\n",
       "\n",
       "    .dataframe thead th {\n",
       "        text-align: right;\n",
       "    }\n",
       "</style>\n",
       "<table border=\"1\" class=\"dataframe\">\n",
       "  <thead>\n",
       "    <tr style=\"text-align: right;\">\n",
       "      <th></th>\n",
       "      <th>ratings</th>\n",
       "      <th>rating_counts</th>\n",
       "    </tr>\n",
       "    <tr>\n",
       "      <th>productId</th>\n",
       "      <th></th>\n",
       "      <th></th>\n",
       "    </tr>\n",
       "  </thead>\n",
       "  <tbody>\n",
       "    <tr>\n",
       "      <td>0972683275</td>\n",
       "      <td>4.470980</td>\n",
       "      <td>1051</td>\n",
       "    </tr>\n",
       "    <tr>\n",
       "      <td>1400501466</td>\n",
       "      <td>3.560000</td>\n",
       "      <td>250</td>\n",
       "    </tr>\n",
       "    <tr>\n",
       "      <td>1400501520</td>\n",
       "      <td>4.243902</td>\n",
       "      <td>82</td>\n",
       "    </tr>\n",
       "    <tr>\n",
       "      <td>1400501776</td>\n",
       "      <td>3.884892</td>\n",
       "      <td>139</td>\n",
       "    </tr>\n",
       "    <tr>\n",
       "      <td>1400532620</td>\n",
       "      <td>3.684211</td>\n",
       "      <td>171</td>\n",
       "    </tr>\n",
       "    <tr>\n",
       "      <td>...</td>\n",
       "      <td>...</td>\n",
       "      <td>...</td>\n",
       "    </tr>\n",
       "    <tr>\n",
       "      <td>B00KFAGCUM</td>\n",
       "      <td>4.824427</td>\n",
       "      <td>131</td>\n",
       "    </tr>\n",
       "    <tr>\n",
       "      <td>B00KGGJPX6</td>\n",
       "      <td>4.592593</td>\n",
       "      <td>54</td>\n",
       "    </tr>\n",
       "    <tr>\n",
       "      <td>B00KINSDK8</td>\n",
       "      <td>3.576923</td>\n",
       "      <td>52</td>\n",
       "    </tr>\n",
       "    <tr>\n",
       "      <td>B00KWHMR6G</td>\n",
       "      <td>3.637931</td>\n",
       "      <td>58</td>\n",
       "    </tr>\n",
       "    <tr>\n",
       "      <td>B00L3YHF6O</td>\n",
       "      <td>4.814286</td>\n",
       "      <td>70</td>\n",
       "    </tr>\n",
       "  </tbody>\n",
       "</table>\n",
       "<p>26226 rows × 2 columns</p>\n",
       "</div>"
      ],
      "text/plain": [
       "             ratings  rating_counts\n",
       "productId                          \n",
       "0972683275  4.470980           1051\n",
       "1400501466  3.560000            250\n",
       "1400501520  4.243902             82\n",
       "1400501776  3.884892            139\n",
       "1400532620  3.684211            171\n",
       "...              ...            ...\n",
       "B00KFAGCUM  4.824427            131\n",
       "B00KGGJPX6  4.592593             54\n",
       "B00KINSDK8  3.576923             52\n",
       "B00KWHMR6G  3.637931             58\n",
       "B00L3YHF6O  4.814286             70\n",
       "\n",
       "[26226 rows x 2 columns]"
      ]
     },
     "execution_count": 44,
     "metadata": {},
     "output_type": "execute_result"
    }
   ],
   "source": [
    "ratings_mean_count['rating_counts'] = pd.DataFrame(new_df.groupby('productId')['ratings'].count())\n",
    "ratings_mean_count"
   ]
  },
  {
   "cell_type": "code",
   "execution_count": 45,
   "metadata": {},
   "outputs": [
    {
     "data": {
      "text/plain": [
       "18244"
      ]
     },
     "execution_count": 45,
     "metadata": {},
     "output_type": "execute_result"
    }
   ],
   "source": [
    "ratings_mean_count['rating_counts'].max()"
   ]
  },
  {
   "cell_type": "code",
   "execution_count": 46,
   "metadata": {},
   "outputs": [
    {
     "data": {
      "text/plain": [
       "<matplotlib.axes._subplots.AxesSubplot at 0x204d89a5208>"
      ]
     },
     "execution_count": 46,
     "metadata": {},
     "output_type": "execute_result"
    },
    {
     "data": {
      "image/png": "[encoded data removed]",
      "text/plain": [
       "<Figure size 432x288 with 1 Axes>"
      ]
     },
     "metadata": {
      "needs_background": "light"
     },
     "output_type": "display_data"
    }
   ],
   "source": [
    "import seaborn as sns\n",
    "\n",
    "\n",
    "ratings_mean_count['rating_counts'].hist(bins=70)"
   ]
  },
  {
   "cell_type": "code",
   "execution_count": 47,
   "metadata": {},
   "outputs": [
    {
     "data": {
      "text/plain": [
       "<matplotlib.axes._subplots.AxesSubplot at 0x204d7d20648>"
      ]
     },
     "execution_count": 47,
     "metadata": {},
     "output_type": "execute_result"
    },
    {
     "data": {
      "image/png": "[encoded data removed]",
      "text/plain": [
       "<Figure size 432x288 with 1 Axes>"
      ]
     },
     "metadata": {
      "needs_background": "light"
     },
     "output_type": "display_data"
    }
   ],
   "source": [
    "ratings_mean_count['ratings'].hist(bins=50)"
   ]
  },
  {
   "cell_type": "code",
   "execution_count": 48,
   "metadata": {},
   "outputs": [
    {
     "data": {
      "text/plain": [
       "<seaborn.axisgrid.JointGrid at 0x204d7ce06c8>"
      ]
     },
     "execution_count": 48,
     "metadata": {},
     "output_type": "execute_result"
    },
    {
     "data": {
      "image/png": "[encoded data removed]",
      "text/plain": [
       "<Figure size 432x432 with 3 Axes>"
      ]
     },
     "metadata": {
      "needs_background": "light"
     },
     "output_type": "display_data"
    }
   ],
   "source": [
    "sns.jointplot(x='ratings', y='rating_counts', data=ratings_mean_count, alpha=0.2)"
   ]
  },
  {
   "cell_type": "code",
   "execution_count": 49,
   "metadata": {},
   "outputs": [
    {
     "data": {
      "text/plain": [
       "<seaborn.axisgrid.JointGrid at 0x204d7ffe448>"
      ]
     },
     "execution_count": 49,
     "metadata": {},
     "output_type": "execute_result"
    },
    {
     "data": {
      "image/png": "[encoded data removed]",
      "text/plain": [
       "<Figure size 432x432 with 3 Axes>"
      ]
     },
     "metadata": {
      "needs_background": "light"
     },
     "output_type": "display_data"
    }
   ],
   "source": [
    "sns.jointplot(x='ratings', y='rating_counts', data=ratings_mean_count, alpha=0.9)"
   ]
  },
  {
   "cell_type": "code",
   "execution_count": 50,
   "metadata": {},
   "outputs": [
    {
     "data": {
      "text/html": [
       "<div>\n",
       "<style scoped>\n",
       "    .dataframe tbody tr th:only-of-type {\n",
       "        vertical-align: middle;\n",
       "    }\n",
       "\n",
       "    .dataframe tbody tr th {\n",
       "        vertical-align: top;\n",
       "    }\n",
       "\n",
       "    .dataframe thead th {\n",
       "        text-align: right;\n",
       "    }\n",
       "</style>\n",
       "<table border=\"1\" class=\"dataframe\">\n",
       "  <thead>\n",
       "    <tr style=\"text-align: right;\">\n",
       "      <th></th>\n",
       "      <th>ratings</th>\n",
       "    </tr>\n",
       "    <tr>\n",
       "      <th>productId</th>\n",
       "      <th></th>\n",
       "    </tr>\n",
       "  </thead>\n",
       "  <tbody>\n",
       "    <tr>\n",
       "      <td>0972683275</td>\n",
       "      <td>1051</td>\n",
       "    </tr>\n",
       "    <tr>\n",
       "      <td>1400501466</td>\n",
       "      <td>250</td>\n",
       "    </tr>\n",
       "    <tr>\n",
       "      <td>1400501520</td>\n",
       "      <td>82</td>\n",
       "    </tr>\n",
       "    <tr>\n",
       "      <td>1400501776</td>\n",
       "      <td>139</td>\n",
       "    </tr>\n",
       "    <tr>\n",
       "      <td>1400532620</td>\n",
       "      <td>171</td>\n",
       "    </tr>\n",
       "    <tr>\n",
       "      <td>...</td>\n",
       "      <td>...</td>\n",
       "    </tr>\n",
       "    <tr>\n",
       "      <td>B00KFAGCUM</td>\n",
       "      <td>131</td>\n",
       "    </tr>\n",
       "    <tr>\n",
       "      <td>B00KGGJPX6</td>\n",
       "      <td>54</td>\n",
       "    </tr>\n",
       "    <tr>\n",
       "      <td>B00KINSDK8</td>\n",
       "      <td>52</td>\n",
       "    </tr>\n",
       "    <tr>\n",
       "      <td>B00KWHMR6G</td>\n",
       "      <td>58</td>\n",
       "    </tr>\n",
       "    <tr>\n",
       "      <td>B00L3YHF6O</td>\n",
       "      <td>70</td>\n",
       "    </tr>\n",
       "  </tbody>\n",
       "</table>\n",
       "<p>26226 rows × 1 columns</p>\n",
       "</div>"
      ],
      "text/plain": [
       "            ratings\n",
       "productId          \n",
       "0972683275     1051\n",
       "1400501466      250\n",
       "1400501520       82\n",
       "1400501776      139\n",
       "1400532620      171\n",
       "...             ...\n",
       "B00KFAGCUM      131\n",
       "B00KGGJPX6       54\n",
       "B00KINSDK8       52\n",
       "B00KWHMR6G       58\n",
       "B00L3YHF6O       70\n",
       "\n",
       "[26226 rows x 1 columns]"
      ]
     },
     "execution_count": 50,
     "metadata": {},
     "output_type": "execute_result"
    }
   ],
   "source": [
    "popular_products = pd.DataFrame(new_df.groupby('productId')['ratings'].count())\n",
    "popular_products"
   ]
  },
  {
   "cell_type": "code",
   "execution_count": 53,
   "metadata": {},
   "outputs": [
    {
     "data": {
      "text/html": [
       "<div>\n",
       "<style scoped>\n",
       "    .dataframe tbody tr th:only-of-type {\n",
       "        vertical-align: middle;\n",
       "    }\n",
       "\n",
       "    .dataframe tbody tr th {\n",
       "        vertical-align: top;\n",
       "    }\n",
       "\n",
       "    .dataframe thead th {\n",
       "        text-align: right;\n",
       "    }\n",
       "</style>\n",
       "<table border=\"1\" class=\"dataframe\">\n",
       "  <thead>\n",
       "    <tr style=\"text-align: right;\">\n",
       "      <th></th>\n",
       "      <th>ratings</th>\n",
       "    </tr>\n",
       "    <tr>\n",
       "      <th>productId</th>\n",
       "      <th></th>\n",
       "    </tr>\n",
       "  </thead>\n",
       "  <tbody>\n",
       "    <tr>\n",
       "      <td>B0074BW614</td>\n",
       "      <td>18244</td>\n",
       "    </tr>\n",
       "    <tr>\n",
       "      <td>B00DR0PDNE</td>\n",
       "      <td>16454</td>\n",
       "    </tr>\n",
       "    <tr>\n",
       "      <td>B007WTAJTO</td>\n",
       "      <td>14172</td>\n",
       "    </tr>\n",
       "    <tr>\n",
       "      <td>B0019EHU8G</td>\n",
       "      <td>12285</td>\n",
       "    </tr>\n",
       "    <tr>\n",
       "      <td>B006GWO5WK</td>\n",
       "      <td>12226</td>\n",
       "    </tr>\n",
       "    <tr>\n",
       "      <td>B003ELYQGG</td>\n",
       "      <td>11617</td>\n",
       "    </tr>\n",
       "    <tr>\n",
       "      <td>B003ES5ZUU</td>\n",
       "      <td>10276</td>\n",
       "    </tr>\n",
       "    <tr>\n",
       "      <td>B007R5YDYA</td>\n",
       "      <td>9907</td>\n",
       "    </tr>\n",
       "    <tr>\n",
       "      <td>B00622AG6S</td>\n",
       "      <td>9823</td>\n",
       "    </tr>\n",
       "    <tr>\n",
       "      <td>B0002L5R78</td>\n",
       "      <td>9487</td>\n",
       "    </tr>\n",
       "    <tr>\n",
       "      <td>B008OHNZI0</td>\n",
       "      <td>8966</td>\n",
       "    </tr>\n",
       "    <tr>\n",
       "      <td>B003LR7ME6</td>\n",
       "      <td>8840</td>\n",
       "    </tr>\n",
       "    <tr>\n",
       "      <td>B000LRMS66</td>\n",
       "      <td>8715</td>\n",
       "    </tr>\n",
       "    <tr>\n",
       "      <td>B009SYZ8OC</td>\n",
       "      <td>8370</td>\n",
       "    </tr>\n",
       "    <tr>\n",
       "      <td>B00BGA9WK2</td>\n",
       "      <td>7561</td>\n",
       "    </tr>\n",
       "    <tr>\n",
       "      <td>B004QK7HI8</td>\n",
       "      <td>7060</td>\n",
       "    </tr>\n",
       "    <tr>\n",
       "      <td>B009A5204K</td>\n",
       "      <td>7059</td>\n",
       "    </tr>\n",
       "    <tr>\n",
       "      <td>B00BGGDVOO</td>\n",
       "      <td>6893</td>\n",
       "    </tr>\n",
       "    <tr>\n",
       "      <td>B0098F5W0Q</td>\n",
       "      <td>6616</td>\n",
       "    </tr>\n",
       "    <tr>\n",
       "      <td>B002MAPRYU</td>\n",
       "      <td>6599</td>\n",
       "    </tr>\n",
       "  </tbody>\n",
       "</table>\n",
       "</div>"
      ],
      "text/plain": [
       "            ratings\n",
       "productId          \n",
       "B0074BW614    18244\n",
       "B00DR0PDNE    16454\n",
       "B007WTAJTO    14172\n",
       "B0019EHU8G    12285\n",
       "B006GWO5WK    12226\n",
       "B003ELYQGG    11617\n",
       "B003ES5ZUU    10276\n",
       "B007R5YDYA     9907\n",
       "B00622AG6S     9823\n",
       "B0002L5R78     9487\n",
       "B008OHNZI0     8966\n",
       "B003LR7ME6     8840\n",
       "B000LRMS66     8715\n",
       "B009SYZ8OC     8370\n",
       "B00BGA9WK2     7561\n",
       "B004QK7HI8     7060\n",
       "B009A5204K     7059\n",
       "B00BGGDVOO     6893\n",
       "B0098F5W0Q     6616\n",
       "B002MAPRYU     6599"
      ]
     },
     "execution_count": 53,
     "metadata": {},
     "output_type": "execute_result"
    }
   ],
   "source": [
    "most_popular = popular_products.sort_values('ratings', ascending=False)\n",
    "most_popular.head(20)\n",
    "# top 20 most popular"
   ]
  },
  {
   "cell_type": "code",
   "execution_count": 52,
   "metadata": {},
   "outputs": [
    {
     "data": {
      "text/plain": [
       "<matplotlib.axes._subplots.AxesSubplot at 0x204d8262d08>"
      ]
     },
     "execution_count": 52,
     "metadata": {},
     "output_type": "execute_result"
    },
    {
     "data": {
      "image/png": "[encoded data removed]",
      "text/plain": [
       "<Figure size 432x288 with 1 Axes>"
      ]
     },
     "metadata": {
      "needs_background": "light"
     },
     "output_type": "display_data"
    }
   ],
   "source": [
    "most_popular.head(30).plot(kind = \"bar\")"
   ]
  },
  {
   "cell_type": "code",
   "execution_count": null,
   "metadata": {},
   "outputs": [],
   "source": []
  },
  {
   "cell_type": "code",
   "execution_count": null,
   "metadata": {},
   "outputs": [],
   "source": []
  },
  {
   "cell_type": "code",
   "execution_count": 55,
   "metadata": {
    "colab": {},
    "colab_type": "code",
    "id": "W4n4fl31xgnc"
   },
   "outputs": [],
   "source": [
    "popularity_recommendations = most_popular.head(5) \n",
    "popularity_recommendations\n",
    "\n",
    "# Use popularity based recommender model to make predictions\n",
    "def recommend(user_id):     \n",
    "    userRecommendations = popularity_recommendations \n",
    "    userRecommendations['userId'] = user_id  \n",
    "    cols = userRecommendations.columns.tolist() \n",
    "    cols = cols[-1:] + cols[:-1] \n",
    "    userRecommendations = userRecommendations[cols] \n",
    "    return userRecommendations"
   ]
  },
  {
   "cell_type": "code",
   "execution_count": 56,
   "metadata": {
    "colab": {
     "base_uri": "https://localhost:8080/",
     "height": 646
    },
    "colab_type": "code",
    "id": "VwGBmmI0xgx2",
    "outputId": "61c3f5e9-44fd-49bd-d936-13faaadcaf21"
   },
   "outputs": [
    {
     "name": "stdout",
     "output_type": "stream",
     "text": [
      "Enter product Id (separated by commas): \n",
      "Recommendation for userId is: \n",
      "           userId  ratings\n",
      "productId                 \n",
      "B0074BW614           18244\n",
      "B00DR0PDNE           16454\n",
      "B007WTAJTO           14172\n",
      "B0019EHU8G           12285\n",
      "B006GWO5WK           12226\n",
      "\n",
      "\n"
     ]
    },
    {
     "name": "stderr",
     "output_type": "stream",
     "text": [
      "C:\\Users\\AMIT\\new anaconda\\lib\\site-packages\\ipykernel_launcher.py:7: SettingWithCopyWarning: \n",
      "A value is trying to be set on a copy of a slice from a DataFrame.\n",
      "Try using .loc[row_indexer,col_indexer] = value instead\n",
      "\n",
      "See the caveats in the documentation: http://pandas.pydata.org/pandas-docs/stable/user_guide/indexing.html#returning-a-view-versus-a-copy\n",
      "  import sys\n"
     ]
    }
   ],
   "source": [
    "iinput = input(\"Enter product Id (separated by commas): \") \n",
    "iinput = iinput.split(',')\n",
    "for i in iinput:\n",
    "    print(\"Recommendation for userId is:\", i) \n",
    "    print(recommend(i))    \n",
    "    print(\"\\n\")"
   ]
  },
  {
   "cell_type": "code",
   "execution_count": 57,
   "metadata": {
    "colab": {},
    "colab_type": "code",
    "id": "07RqHhH5xgvp"
   },
   "outputs": [
    {
     "name": "stderr",
     "output_type": "stream",
     "text": [
      "C:\\Users\\AMIT\\new anaconda\\lib\\site-packages\\sklearn\\externals\\joblib\\__init__.py:15: DeprecationWarning: sklearn.externals.joblib is deprecated in 0.21 and will be removed in 0.23. Please import this functionality directly from joblib, which can be installed with: pip install joblib. If this warning is raised when loading pickled models, you may need to re-serialize those models with scikit-learn 0.21+.\n",
      "  warnings.warn(msg, category=DeprecationWarning)\n"
     ]
    }
   ],
   "source": [
    "import warnings \n",
    "warnings.filterwarnings('ignore')\n",
    "\n",
    "import math\n",
    "import json\n",
    "import time\n",
    "import matplotlib.pyplot as plt\n",
    "import seaborn as sns\n",
    "from sklearn.metrics.pairwise import cosine_similarity\n",
    "from sklearn.model_selection import train_test_split\n",
    "from sklearn.neighbors import NearestNeighbors\n",
    "from sklearn.externals import joblib\n",
    "import scipy.sparse\n",
    "from scipy.sparse import csr_matrix"
   ]
  },
  {
   "cell_type": "markdown",
   "metadata": {
    "colab_type": "text",
    "id": "x9rmIpLwzvof"
   },
   "source": [
    "#Split the training and test data in the ratio 70:30"
   ]
  },
  {
   "cell_type": "code",
   "execution_count": 0,
   "metadata": {
    "colab": {},
    "colab_type": "code",
    "id": "kLgaW0ooxguF"
   },
   "outputs": [],
   "source": []
  },
  {
   "cell_type": "code",
   "execution_count": 0,
   "metadata": {
    "colab": {},
    "colab_type": "code",
    "id": "Sqj6j0OqxgrY"
   },
   "outputs": [],
   "source": []
  },
  {
   "cell_type": "code",
   "execution_count": 0,
   "metadata": {
    "colab": {},
    "colab_type": "code",
    "id": "XkOO7HW5zRzo"
   },
   "outputs": [],
   "source": []
  },
  {
   "cell_type": "code",
   "execution_count": 0,
   "metadata": {
    "colab": {},
    "colab_type": "code",
    "id": "iwkYNndNzRwa"
   },
   "outputs": [],
   "source": []
  },
  {
   "cell_type": "markdown",
   "metadata": {
    "colab_type": "text",
    "id": "0PJF5gr7rX_i"
   },
   "source": [
    "                                  SVD MODEL"
   ]
  },
  {
   "cell_type": "code",
   "execution_count": 0,
   "metadata": {
    "colab": {},
    "colab_type": "code",
    "id": "8_2fhqwtR7wY"
   },
   "outputs": [],
   "source": []
  },
  {
   "cell_type": "code",
   "execution_count": 58,
   "metadata": {
    "colab": {
     "base_uri": "https://localhost:8080/",
     "height": 255
    },
    "colab_type": "code",
    "id": "UnFp9QjFR74u",
    "outputId": "010cd031-8a00-4d8a-a3c4-866e33ac58de"
   },
   "outputs": [
    {
     "name": "stdout",
     "output_type": "stream",
     "text": [
      "(7824482, 3)\n"
     ]
    },
    {
     "data": {
      "text/html": [
       "<div>\n",
       "<style scoped>\n",
       "    .dataframe tbody tr th:only-of-type {\n",
       "        vertical-align: middle;\n",
       "    }\n",
       "\n",
       "    .dataframe tbody tr th {\n",
       "        vertical-align: top;\n",
       "    }\n",
       "\n",
       "    .dataframe thead th {\n",
       "        text-align: right;\n",
       "    }\n",
       "</style>\n",
       "<table border=\"1\" class=\"dataframe\">\n",
       "  <thead>\n",
       "    <tr style=\"text-align: right;\">\n",
       "      <th></th>\n",
       "      <th>userId</th>\n",
       "      <th>productId</th>\n",
       "      <th>ratings</th>\n",
       "    </tr>\n",
       "  </thead>\n",
       "  <tbody>\n",
       "    <tr>\n",
       "      <td>0</td>\n",
       "      <td>AKM1MP6P0OYPR</td>\n",
       "      <td>0132793040</td>\n",
       "      <td>5.0</td>\n",
       "    </tr>\n",
       "    <tr>\n",
       "      <td>1</td>\n",
       "      <td>A2CX7LUOHB2NDG</td>\n",
       "      <td>0321732944</td>\n",
       "      <td>5.0</td>\n",
       "    </tr>\n",
       "    <tr>\n",
       "      <td>2</td>\n",
       "      <td>A2NWSAGRHCP8N5</td>\n",
       "      <td>0439886341</td>\n",
       "      <td>1.0</td>\n",
       "    </tr>\n",
       "    <tr>\n",
       "      <td>3</td>\n",
       "      <td>A2WNBOD3WNDNKT</td>\n",
       "      <td>0439886341</td>\n",
       "      <td>3.0</td>\n",
       "    </tr>\n",
       "    <tr>\n",
       "      <td>4</td>\n",
       "      <td>A1GI0U4ZRJA8WN</td>\n",
       "      <td>0439886341</td>\n",
       "      <td>1.0</td>\n",
       "    </tr>\n",
       "  </tbody>\n",
       "</table>\n",
       "</div>"
      ],
      "text/plain": [
       "           userId   productId  ratings\n",
       "0   AKM1MP6P0OYPR  0132793040      5.0\n",
       "1  A2CX7LUOHB2NDG  0321732944      5.0\n",
       "2  A2NWSAGRHCP8N5  0439886341      1.0\n",
       "3  A2WNBOD3WNDNKT  0439886341      3.0\n",
       "4  A1GI0U4ZRJA8WN  0439886341      1.0"
      ]
     },
     "execution_count": 58,
     "metadata": {},
     "output_type": "execute_result"
    }
   ],
   "source": [
    "print(ratings_data.shape)\n",
    "ratings_data.head()\n"
   ]
  },
  {
   "cell_type": "code",
   "execution_count": 59,
   "metadata": {
    "colab": {},
    "colab_type": "code",
    "id": "wRi7nv-5R8OL"
   },
   "outputs": [
    {
     "data": {
      "text/html": [
       "<div>\n",
       "<style scoped>\n",
       "    .dataframe tbody tr th:only-of-type {\n",
       "        vertical-align: middle;\n",
       "    }\n",
       "\n",
       "    .dataframe tbody tr th {\n",
       "        vertical-align: top;\n",
       "    }\n",
       "\n",
       "    .dataframe thead th {\n",
       "        text-align: right;\n",
       "    }\n",
       "</style>\n",
       "<table border=\"1\" class=\"dataframe\">\n",
       "  <thead>\n",
       "    <tr style=\"text-align: right;\">\n",
       "      <th></th>\n",
       "      <th>userId</th>\n",
       "      <th>productId</th>\n",
       "      <th>ratings</th>\n",
       "    </tr>\n",
       "  </thead>\n",
       "  <tbody>\n",
       "    <tr>\n",
       "      <td>0</td>\n",
       "      <td>AKM1MP6P0OYPR</td>\n",
       "      <td>0132793040</td>\n",
       "      <td>5.0</td>\n",
       "    </tr>\n",
       "    <tr>\n",
       "      <td>1</td>\n",
       "      <td>A2CX7LUOHB2NDG</td>\n",
       "      <td>0321732944</td>\n",
       "      <td>5.0</td>\n",
       "    </tr>\n",
       "    <tr>\n",
       "      <td>2</td>\n",
       "      <td>A2NWSAGRHCP8N5</td>\n",
       "      <td>0439886341</td>\n",
       "      <td>1.0</td>\n",
       "    </tr>\n",
       "    <tr>\n",
       "      <td>3</td>\n",
       "      <td>A2WNBOD3WNDNKT</td>\n",
       "      <td>0439886341</td>\n",
       "      <td>3.0</td>\n",
       "    </tr>\n",
       "    <tr>\n",
       "      <td>4</td>\n",
       "      <td>A1GI0U4ZRJA8WN</td>\n",
       "      <td>0439886341</td>\n",
       "      <td>1.0</td>\n",
       "    </tr>\n",
       "    <tr>\n",
       "      <td>...</td>\n",
       "      <td>...</td>\n",
       "      <td>...</td>\n",
       "      <td>...</td>\n",
       "    </tr>\n",
       "    <tr>\n",
       "      <td>24995</td>\n",
       "      <td>A3IYOP4OHSP1QZ</td>\n",
       "      <td>B00001R3W5</td>\n",
       "      <td>5.0</td>\n",
       "    </tr>\n",
       "    <tr>\n",
       "      <td>24996</td>\n",
       "      <td>A1QG70RKPI86K1</td>\n",
       "      <td>B00001R3W5</td>\n",
       "      <td>5.0</td>\n",
       "    </tr>\n",
       "    <tr>\n",
       "      <td>24997</td>\n",
       "      <td>A3AEDUJ7MXBNEX</td>\n",
       "      <td>B00001R3W5</td>\n",
       "      <td>4.0</td>\n",
       "    </tr>\n",
       "    <tr>\n",
       "      <td>24998</td>\n",
       "      <td>AIJ8ZHYZLOUKZ</td>\n",
       "      <td>B00001R3W5</td>\n",
       "      <td>5.0</td>\n",
       "    </tr>\n",
       "    <tr>\n",
       "      <td>24999</td>\n",
       "      <td>AX04H2SPKO02S</td>\n",
       "      <td>B00001R3XS</td>\n",
       "      <td>5.0</td>\n",
       "    </tr>\n",
       "  </tbody>\n",
       "</table>\n",
       "<p>25000 rows × 3 columns</p>\n",
       "</div>"
      ],
      "text/plain": [
       "               userId   productId  ratings\n",
       "0       AKM1MP6P0OYPR  0132793040      5.0\n",
       "1      A2CX7LUOHB2NDG  0321732944      5.0\n",
       "2      A2NWSAGRHCP8N5  0439886341      1.0\n",
       "3      A2WNBOD3WNDNKT  0439886341      3.0\n",
       "4      A1GI0U4ZRJA8WN  0439886341      1.0\n",
       "...               ...         ...      ...\n",
       "24995  A3IYOP4OHSP1QZ  B00001R3W5      5.0\n",
       "24996  A1QG70RKPI86K1  B00001R3W5      5.0\n",
       "24997  A3AEDUJ7MXBNEX  B00001R3W5      4.0\n",
       "24998   AIJ8ZHYZLOUKZ  B00001R3W5      5.0\n",
       "24999   AX04H2SPKO02S  B00001R3XS      5.0\n",
       "\n",
       "[25000 rows x 3 columns]"
      ]
     },
     "execution_count": 59,
     "metadata": {},
     "output_type": "execute_result"
    }
   ],
   "source": [
    "#here we have taken a sample of 25000 data\n",
    "ratings_data_sample = ratings_data.head(25000)\n",
    "ratings_data_sample"
   ]
  },
  {
   "cell_type": "code",
   "execution_count": 60,
   "metadata": {},
   "outputs": [],
   "source": [
    "from sklearn.model_selection import train_test_split\n",
    "train_data, test_data=train_test_split(ratings_data_sample, test_size=0.30, random_state=1)"
   ]
  },
  {
   "cell_type": "code",
   "execution_count": 61,
   "metadata": {
    "colab": {
     "base_uri": "https://localhost:8080/",
     "height": 284
    },
    "colab_type": "code",
    "id": "VyPIjs8JR8WJ",
    "outputId": "015246df-9012-4c97-88cc-867a41828f40"
   },
   "outputs": [
    {
     "data": {
      "text/html": [
       "<div>\n",
       "<style scoped>\n",
       "    .dataframe tbody tr th:only-of-type {\n",
       "        vertical-align: middle;\n",
       "    }\n",
       "\n",
       "    .dataframe tbody tr th {\n",
       "        vertical-align: top;\n",
       "    }\n",
       "\n",
       "    .dataframe thead th {\n",
       "        text-align: right;\n",
       "    }\n",
       "</style>\n",
       "<table border=\"1\" class=\"dataframe\">\n",
       "  <thead>\n",
       "    <tr style=\"text-align: right;\">\n",
       "      <th>productId</th>\n",
       "      <th>0132793040</th>\n",
       "      <th>0321732944</th>\n",
       "      <th>0439886341</th>\n",
       "      <th>0511189877</th>\n",
       "      <th>0528881469</th>\n",
       "      <th>0558835155</th>\n",
       "      <th>059400232X</th>\n",
       "      <th>0594012015</th>\n",
       "      <th>0594017343</th>\n",
       "      <th>0594017580</th>\n",
       "      <th>...</th>\n",
       "      <th>B00001QHP5</th>\n",
       "      <th>B00001QHU4</th>\n",
       "      <th>B00001QHVK</th>\n",
       "      <th>B00001QHVT</th>\n",
       "      <th>B00001QHW0</th>\n",
       "      <th>B00001R3VY</th>\n",
       "      <th>B00001R3VZ</th>\n",
       "      <th>B00001R3W1</th>\n",
       "      <th>B00001R3W5</th>\n",
       "      <th>B00001R3XS</th>\n",
       "    </tr>\n",
       "    <tr>\n",
       "      <th>userId</th>\n",
       "      <th></th>\n",
       "      <th></th>\n",
       "      <th></th>\n",
       "      <th></th>\n",
       "      <th></th>\n",
       "      <th></th>\n",
       "      <th></th>\n",
       "      <th></th>\n",
       "      <th></th>\n",
       "      <th></th>\n",
       "      <th></th>\n",
       "      <th></th>\n",
       "      <th></th>\n",
       "      <th></th>\n",
       "      <th></th>\n",
       "      <th></th>\n",
       "      <th></th>\n",
       "      <th></th>\n",
       "      <th></th>\n",
       "      <th></th>\n",
       "      <th></th>\n",
       "    </tr>\n",
       "  </thead>\n",
       "  <tbody>\n",
       "    <tr>\n",
       "      <td>A001944026UMZ8T3K5QH1</td>\n",
       "      <td>0.0</td>\n",
       "      <td>0.0</td>\n",
       "      <td>0.0</td>\n",
       "      <td>0.0</td>\n",
       "      <td>0.0</td>\n",
       "      <td>0.0</td>\n",
       "      <td>0.0</td>\n",
       "      <td>0.0</td>\n",
       "      <td>0.0</td>\n",
       "      <td>0.0</td>\n",
       "      <td>...</td>\n",
       "      <td>0.0</td>\n",
       "      <td>0.0</td>\n",
       "      <td>0.0</td>\n",
       "      <td>0.0</td>\n",
       "      <td>0.0</td>\n",
       "      <td>0.0</td>\n",
       "      <td>0.0</td>\n",
       "      <td>0.0</td>\n",
       "      <td>0.0</td>\n",
       "      <td>0.0</td>\n",
       "    </tr>\n",
       "    <tr>\n",
       "      <td>A00766851QZZUBOVF4JFT</td>\n",
       "      <td>0.0</td>\n",
       "      <td>0.0</td>\n",
       "      <td>0.0</td>\n",
       "      <td>0.0</td>\n",
       "      <td>0.0</td>\n",
       "      <td>0.0</td>\n",
       "      <td>0.0</td>\n",
       "      <td>0.0</td>\n",
       "      <td>0.0</td>\n",
       "      <td>0.0</td>\n",
       "      <td>...</td>\n",
       "      <td>0.0</td>\n",
       "      <td>0.0</td>\n",
       "      <td>0.0</td>\n",
       "      <td>0.0</td>\n",
       "      <td>0.0</td>\n",
       "      <td>0.0</td>\n",
       "      <td>0.0</td>\n",
       "      <td>0.0</td>\n",
       "      <td>0.0</td>\n",
       "      <td>0.0</td>\n",
       "    </tr>\n",
       "    <tr>\n",
       "      <td>A01255851ZO1U93P8RKGE</td>\n",
       "      <td>0.0</td>\n",
       "      <td>0.0</td>\n",
       "      <td>0.0</td>\n",
       "      <td>0.0</td>\n",
       "      <td>0.0</td>\n",
       "      <td>0.0</td>\n",
       "      <td>0.0</td>\n",
       "      <td>0.0</td>\n",
       "      <td>0.0</td>\n",
       "      <td>0.0</td>\n",
       "      <td>...</td>\n",
       "      <td>0.0</td>\n",
       "      <td>0.0</td>\n",
       "      <td>0.0</td>\n",
       "      <td>0.0</td>\n",
       "      <td>0.0</td>\n",
       "      <td>0.0</td>\n",
       "      <td>0.0</td>\n",
       "      <td>0.0</td>\n",
       "      <td>0.0</td>\n",
       "      <td>0.0</td>\n",
       "    </tr>\n",
       "    <tr>\n",
       "      <td>A01852072Z7B68UHLI5UG</td>\n",
       "      <td>0.0</td>\n",
       "      <td>0.0</td>\n",
       "      <td>0.0</td>\n",
       "      <td>0.0</td>\n",
       "      <td>0.0</td>\n",
       "      <td>0.0</td>\n",
       "      <td>0.0</td>\n",
       "      <td>0.0</td>\n",
       "      <td>0.0</td>\n",
       "      <td>0.0</td>\n",
       "      <td>...</td>\n",
       "      <td>0.0</td>\n",
       "      <td>0.0</td>\n",
       "      <td>0.0</td>\n",
       "      <td>0.0</td>\n",
       "      <td>0.0</td>\n",
       "      <td>0.0</td>\n",
       "      <td>0.0</td>\n",
       "      <td>0.0</td>\n",
       "      <td>0.0</td>\n",
       "      <td>0.0</td>\n",
       "    </tr>\n",
       "    <tr>\n",
       "      <td>A0266076X6KPZ6CCHGVS</td>\n",
       "      <td>0.0</td>\n",
       "      <td>0.0</td>\n",
       "      <td>0.0</td>\n",
       "      <td>0.0</td>\n",
       "      <td>0.0</td>\n",
       "      <td>0.0</td>\n",
       "      <td>0.0</td>\n",
       "      <td>0.0</td>\n",
       "      <td>0.0</td>\n",
       "      <td>0.0</td>\n",
       "      <td>...</td>\n",
       "      <td>0.0</td>\n",
       "      <td>0.0</td>\n",
       "      <td>0.0</td>\n",
       "      <td>0.0</td>\n",
       "      <td>0.0</td>\n",
       "      <td>0.0</td>\n",
       "      <td>0.0</td>\n",
       "      <td>0.0</td>\n",
       "      <td>0.0</td>\n",
       "      <td>0.0</td>\n",
       "    </tr>\n",
       "  </tbody>\n",
       "</table>\n",
       "<p>5 rows × 2140 columns</p>\n",
       "</div>"
      ],
      "text/plain": [
       "productId              0132793040  0321732944  0439886341  0511189877  \\\n",
       "userId                                                                  \n",
       "A001944026UMZ8T3K5QH1         0.0         0.0         0.0         0.0   \n",
       "A00766851QZZUBOVF4JFT         0.0         0.0         0.0         0.0   \n",
       "A01255851ZO1U93P8RKGE         0.0         0.0         0.0         0.0   \n",
       "A01852072Z7B68UHLI5UG         0.0         0.0         0.0         0.0   \n",
       "A0266076X6KPZ6CCHGVS          0.0         0.0         0.0         0.0   \n",
       "\n",
       "productId              0528881469  0558835155  059400232X  0594012015  \\\n",
       "userId                                                                  \n",
       "A001944026UMZ8T3K5QH1         0.0         0.0         0.0         0.0   \n",
       "A00766851QZZUBOVF4JFT         0.0         0.0         0.0         0.0   \n",
       "A01255851ZO1U93P8RKGE         0.0         0.0         0.0         0.0   \n",
       "A01852072Z7B68UHLI5UG         0.0         0.0         0.0         0.0   \n",
       "A0266076X6KPZ6CCHGVS          0.0         0.0         0.0         0.0   \n",
       "\n",
       "productId              0594017343  0594017580  ...  B00001QHP5  B00001QHU4  \\\n",
       "userId                                         ...                           \n",
       "A001944026UMZ8T3K5QH1         0.0         0.0  ...         0.0         0.0   \n",
       "A00766851QZZUBOVF4JFT         0.0         0.0  ...         0.0         0.0   \n",
       "A01255851ZO1U93P8RKGE         0.0         0.0  ...         0.0         0.0   \n",
       "A01852072Z7B68UHLI5UG         0.0         0.0  ...         0.0         0.0   \n",
       "A0266076X6KPZ6CCHGVS          0.0         0.0  ...         0.0         0.0   \n",
       "\n",
       "productId              B00001QHVK  B00001QHVT  B00001QHW0  B00001R3VY  \\\n",
       "userId                                                                  \n",
       "A001944026UMZ8T3K5QH1         0.0         0.0         0.0         0.0   \n",
       "A00766851QZZUBOVF4JFT         0.0         0.0         0.0         0.0   \n",
       "A01255851ZO1U93P8RKGE         0.0         0.0         0.0         0.0   \n",
       "A01852072Z7B68UHLI5UG         0.0         0.0         0.0         0.0   \n",
       "A0266076X6KPZ6CCHGVS          0.0         0.0         0.0         0.0   \n",
       "\n",
       "productId              B00001R3VZ  B00001R3W1  B00001R3W5  B00001R3XS  \n",
       "userId                                                                 \n",
       "A001944026UMZ8T3K5QH1         0.0         0.0         0.0         0.0  \n",
       "A00766851QZZUBOVF4JFT         0.0         0.0         0.0         0.0  \n",
       "A01255851ZO1U93P8RKGE         0.0         0.0         0.0         0.0  \n",
       "A01852072Z7B68UHLI5UG         0.0         0.0         0.0         0.0  \n",
       "A0266076X6KPZ6CCHGVS          0.0         0.0         0.0         0.0  \n",
       "\n",
       "[5 rows x 2140 columns]"
      ]
     },
     "execution_count": 61,
     "metadata": {},
     "output_type": "execute_result"
    }
   ],
   "source": [
    "# We want the format of ratings matrix to be one row per user and one column per movie. \n",
    "#we can pivot ratings_df to get that and call the new variable R_df.\n",
    "R_df = ratings_data_sample.pivot(index = 'userId', columns ='productId', values = 'ratings').fillna(0)\n",
    "R_df.head()"
   ]
  },
  {
   "cell_type": "code",
   "execution_count": 62,
   "metadata": {
    "colab": {
     "base_uri": "https://localhost:8080/",
     "height": 34
    },
    "colab_type": "code",
    "id": "2Z520QOhR8pO",
    "outputId": "096b2de1-18b3-40ce-e436-8fdf6b19c944"
   },
   "outputs": [
    {
     "data": {
      "text/plain": [
       "(24035, 2140)"
      ]
     },
     "execution_count": 62,
     "metadata": {},
     "output_type": "execute_result"
    }
   ],
   "source": [
    "R_df.shape"
   ]
  },
  {
   "cell_type": "code",
   "execution_count": 63,
   "metadata": {
    "colab": {},
    "colab_type": "code",
    "id": "su2pflNWR8vF"
   },
   "outputs": [],
   "source": [
    "from scipy.sparse.linalg import svds\n",
    "U, sigma, Vt = svds(R_df, k = 5)"
   ]
  },
  {
   "cell_type": "code",
   "execution_count": 64,
   "metadata": {
    "colab": {
     "base_uri": "https://localhost:8080/",
     "height": 34
    },
    "colab_type": "code",
    "id": "f4ymJz4DR866",
    "outputId": "155385de-5a8e-4e62-96dd-a21dbec5c0c3"
   },
   "outputs": [
    {
     "data": {
      "text/plain": [
       "(5,)"
      ]
     },
     "execution_count": 64,
     "metadata": {},
     "output_type": "execute_result"
    }
   ],
   "source": [
    "sigma.shape"
   ]
  },
  {
   "cell_type": "code",
   "execution_count": 65,
   "metadata": {
    "colab": {},
    "colab_type": "code",
    "id": "LECcsineR84H"
   },
   "outputs": [],
   "source": [
    "#diag\n",
    "sigma = np.diag(sigma)"
   ]
  },
  {
   "cell_type": "code",
   "execution_count": 66,
   "metadata": {
    "colab": {
     "base_uri": "https://localhost:8080/",
     "height": 34
    },
    "colab_type": "code",
    "id": "FCJbXly8R81E",
    "outputId": "a1a3c7a4-b207-4e37-aa58-b1e700c5f69d"
   },
   "outputs": [
    {
     "data": {
      "text/plain": [
       "((24035, 5), (5, 2140), (5, 5))"
      ]
     },
     "execution_count": 66,
     "metadata": {},
     "output_type": "execute_result"
    }
   ],
   "source": [
    "U.shape, Vt.shape, sigma.shape"
   ]
  },
  {
   "cell_type": "code",
   "execution_count": 67,
   "metadata": {
    "colab": {
     "base_uri": "https://localhost:8080/",
     "height": 187
    },
    "colab_type": "code",
    "id": "nWpYSJx9R8zk",
    "outputId": "bfd4f16e-c403-4f6e-88ef-c7fc291699ec"
   },
   "outputs": [
    {
     "data": {
      "text/plain": [
       "array([[ 88.47341367,   0.        ,   0.        ,   0.        ,\n",
       "          0.        ],\n",
       "       [  0.        ,  90.15139058,   0.        ,   0.        ,\n",
       "          0.        ],\n",
       "       [  0.        ,   0.        ,  97.70570892,   0.        ,\n",
       "          0.        ],\n",
       "       [  0.        ,   0.        ,   0.        , 148.10554332,\n",
       "          0.        ],\n",
       "       [  0.        ,   0.        ,   0.        ,   0.        ,\n",
       "        207.5119058 ]])"
      ]
     },
     "execution_count": 67,
     "metadata": {},
     "output_type": "execute_result"
    }
   ],
   "source": [
    "sigma"
   ]
  },
  {
   "cell_type": "code",
   "execution_count": 68,
   "metadata": {
    "colab": {},
    "colab_type": "code",
    "id": "j1WLzwG6R8tT"
   },
   "outputs": [],
   "source": [
    "#I also need to add the user means back to get the predicted 5-star ratings\n",
    "all_user_predicted_ratings = np.dot(np.dot(U, sigma), Vt) \n",
    "preds_df = pd.DataFrame(all_user_predicted_ratings, columns = R_df.columns)"
   ]
  },
  {
   "cell_type": "code",
   "execution_count": 69,
   "metadata": {
    "colab": {
     "base_uri": "https://localhost:8080/",
     "height": 338
    },
    "colab_type": "code",
    "id": "Ax5y1zrUR8m2",
    "outputId": "55f7da6f-581b-4ba0-cce8-5ff2ca234aab"
   },
   "outputs": [
    {
     "data": {
      "text/html": [
       "<div>\n",
       "<style scoped>\n",
       "    .dataframe tbody tr th:only-of-type {\n",
       "        vertical-align: middle;\n",
       "    }\n",
       "\n",
       "    .dataframe tbody tr th {\n",
       "        vertical-align: top;\n",
       "    }\n",
       "\n",
       "    .dataframe thead th {\n",
       "        text-align: right;\n",
       "    }\n",
       "</style>\n",
       "<table border=\"1\" class=\"dataframe\">\n",
       "  <thead>\n",
       "    <tr style=\"text-align: right;\">\n",
       "      <th>productId</th>\n",
       "      <th>0132793040</th>\n",
       "      <th>0321732944</th>\n",
       "      <th>0439886341</th>\n",
       "      <th>0511189877</th>\n",
       "      <th>0528881469</th>\n",
       "      <th>0558835155</th>\n",
       "      <th>059400232X</th>\n",
       "      <th>0594012015</th>\n",
       "      <th>0594017343</th>\n",
       "      <th>0594017580</th>\n",
       "      <th>...</th>\n",
       "      <th>B00001QHP5</th>\n",
       "      <th>B00001QHU4</th>\n",
       "      <th>B00001QHVK</th>\n",
       "      <th>B00001QHVT</th>\n",
       "      <th>B00001QHW0</th>\n",
       "      <th>B00001R3VY</th>\n",
       "      <th>B00001R3VZ</th>\n",
       "      <th>B00001R3W1</th>\n",
       "      <th>B00001R3W5</th>\n",
       "      <th>B00001R3XS</th>\n",
       "    </tr>\n",
       "  </thead>\n",
       "  <tbody>\n",
       "    <tr>\n",
       "      <td>0</td>\n",
       "      <td>9.391665e-35</td>\n",
       "      <td>2.152855e-37</td>\n",
       "      <td>-1.641120e-34</td>\n",
       "      <td>-4.349795e-34</td>\n",
       "      <td>1.598123e-35</td>\n",
       "      <td>-5.331814e-35</td>\n",
       "      <td>3.805991e-34</td>\n",
       "      <td>-9.020569e-35</td>\n",
       "      <td>-3.145448e-22</td>\n",
       "      <td>-2.217191e-23</td>\n",
       "      <td>...</td>\n",
       "      <td>2.072872e-24</td>\n",
       "      <td>2.363478e-36</td>\n",
       "      <td>2.260280e-34</td>\n",
       "      <td>1.250319e-23</td>\n",
       "      <td>-8.017680e-35</td>\n",
       "      <td>1.551955e-34</td>\n",
       "      <td>2.203903e-34</td>\n",
       "      <td>-8.458344e-29</td>\n",
       "      <td>6.202922e-25</td>\n",
       "      <td>-1.393994e-35</td>\n",
       "    </tr>\n",
       "    <tr>\n",
       "      <td>1</td>\n",
       "      <td>1.384038e-34</td>\n",
       "      <td>3.242536e-37</td>\n",
       "      <td>-1.908595e-34</td>\n",
       "      <td>-1.017080e-33</td>\n",
       "      <td>7.149464e-35</td>\n",
       "      <td>-6.566163e-35</td>\n",
       "      <td>7.827809e-34</td>\n",
       "      <td>-1.735225e-34</td>\n",
       "      <td>-6.235432e-22</td>\n",
       "      <td>-4.395232e-23</td>\n",
       "      <td>...</td>\n",
       "      <td>9.227897e-24</td>\n",
       "      <td>2.384389e-36</td>\n",
       "      <td>4.352875e-34</td>\n",
       "      <td>6.460093e-23</td>\n",
       "      <td>-4.506847e-35</td>\n",
       "      <td>1.651211e-34</td>\n",
       "      <td>5.473289e-34</td>\n",
       "      <td>-2.054493e-28</td>\n",
       "      <td>3.259850e-24</td>\n",
       "      <td>-2.113311e-35</td>\n",
       "    </tr>\n",
       "    <tr>\n",
       "      <td>2</td>\n",
       "      <td>-3.953298e-34</td>\n",
       "      <td>-8.939358e-37</td>\n",
       "      <td>7.886190e-34</td>\n",
       "      <td>1.152504e-33</td>\n",
       "      <td>1.553153e-35</td>\n",
       "      <td>2.493291e-34</td>\n",
       "      <td>-1.199124e-33</td>\n",
       "      <td>3.062854e-34</td>\n",
       "      <td>1.007167e-21</td>\n",
       "      <td>7.099509e-23</td>\n",
       "      <td>...</td>\n",
       "      <td>1.035733e-25</td>\n",
       "      <td>-1.199139e-35</td>\n",
       "      <td>-7.651258e-34</td>\n",
       "      <td>3.181819e-23</td>\n",
       "      <td>4.717262e-34</td>\n",
       "      <td>-7.719390e-34</td>\n",
       "      <td>-5.286618e-34</td>\n",
       "      <td>2.149430e-28</td>\n",
       "      <td>1.732685e-24</td>\n",
       "      <td>5.758891e-35</td>\n",
       "    </tr>\n",
       "    <tr>\n",
       "      <td>3</td>\n",
       "      <td>-1.058474e-19</td>\n",
       "      <td>-2.293583e-22</td>\n",
       "      <td>2.854138e-19</td>\n",
       "      <td>-1.047755e-19</td>\n",
       "      <td>7.082667e-20</td>\n",
       "      <td>8.424877e-20</td>\n",
       "      <td>-9.284782e-20</td>\n",
       "      <td>3.713225e-20</td>\n",
       "      <td>-1.426305e-09</td>\n",
       "      <td>-9.898108e-11</td>\n",
       "      <td>...</td>\n",
       "      <td>9.707464e-09</td>\n",
       "      <td>-4.489918e-21</td>\n",
       "      <td>-7.809553e-20</td>\n",
       "      <td>9.463545e-08</td>\n",
       "      <td>2.195184e-19</td>\n",
       "      <td>-3.036359e-19</td>\n",
       "      <td>1.196196e-19</td>\n",
       "      <td>1.355710e-13</td>\n",
       "      <td>4.879750e-09</td>\n",
       "      <td>1.456771e-20</td>\n",
       "    </tr>\n",
       "    <tr>\n",
       "      <td>4</td>\n",
       "      <td>-6.169324e-23</td>\n",
       "      <td>-1.338718e-25</td>\n",
       "      <td>1.609762e-22</td>\n",
       "      <td>-3.770215e-23</td>\n",
       "      <td>3.747447e-23</td>\n",
       "      <td>4.814376e-23</td>\n",
       "      <td>-6.338207e-23</td>\n",
       "      <td>2.397208e-23</td>\n",
       "      <td>1.893351e-11</td>\n",
       "      <td>1.335252e-12</td>\n",
       "      <td>...</td>\n",
       "      <td>3.998261e-12</td>\n",
       "      <td>-2.566743e-24</td>\n",
       "      <td>-5.292446e-23</td>\n",
       "      <td>4.250477e-11</td>\n",
       "      <td>1.220623e-22</td>\n",
       "      <td>-1.683661e-22</td>\n",
       "      <td>5.475590e-23</td>\n",
       "      <td>6.059302e-17</td>\n",
       "      <td>2.200106e-12</td>\n",
       "      <td>8.473981e-24</td>\n",
       "    </tr>\n",
       "  </tbody>\n",
       "</table>\n",
       "<p>5 rows × 2140 columns</p>\n",
       "</div>"
      ],
      "text/plain": [
       "productId    0132793040    0321732944    0439886341    0511189877  \\\n",
       "0          9.391665e-35  2.152855e-37 -1.641120e-34 -4.349795e-34   \n",
       "1          1.384038e-34  3.242536e-37 -1.908595e-34 -1.017080e-33   \n",
       "2         -3.953298e-34 -8.939358e-37  7.886190e-34  1.152504e-33   \n",
       "3         -1.058474e-19 -2.293583e-22  2.854138e-19 -1.047755e-19   \n",
       "4         -6.169324e-23 -1.338718e-25  1.609762e-22 -3.770215e-23   \n",
       "\n",
       "productId    0528881469    0558835155    059400232X    0594012015  \\\n",
       "0          1.598123e-35 -5.331814e-35  3.805991e-34 -9.020569e-35   \n",
       "1          7.149464e-35 -6.566163e-35  7.827809e-34 -1.735225e-34   \n",
       "2          1.553153e-35  2.493291e-34 -1.199124e-33  3.062854e-34   \n",
       "3          7.082667e-20  8.424877e-20 -9.284782e-20  3.713225e-20   \n",
       "4          3.747447e-23  4.814376e-23 -6.338207e-23  2.397208e-23   \n",
       "\n",
       "productId    0594017343    0594017580  ...    B00001QHP5    B00001QHU4  \\\n",
       "0         -3.145448e-22 -2.217191e-23  ...  2.072872e-24  2.363478e-36   \n",
       "1         -6.235432e-22 -4.395232e-23  ...  9.227897e-24  2.384389e-36   \n",
       "2          1.007167e-21  7.099509e-23  ...  1.035733e-25 -1.199139e-35   \n",
       "3         -1.426305e-09 -9.898108e-11  ...  9.707464e-09 -4.489918e-21   \n",
       "4          1.893351e-11  1.335252e-12  ...  3.998261e-12 -2.566743e-24   \n",
       "\n",
       "productId    B00001QHVK    B00001QHVT    B00001QHW0    B00001R3VY  \\\n",
       "0          2.260280e-34  1.250319e-23 -8.017680e-35  1.551955e-34   \n",
       "1          4.352875e-34  6.460093e-23 -4.506847e-35  1.651211e-34   \n",
       "2         -7.651258e-34  3.181819e-23  4.717262e-34 -7.719390e-34   \n",
       "3         -7.809553e-20  9.463545e-08  2.195184e-19 -3.036359e-19   \n",
       "4         -5.292446e-23  4.250477e-11  1.220623e-22 -1.683661e-22   \n",
       "\n",
       "productId    B00001R3VZ    B00001R3W1    B00001R3W5    B00001R3XS  \n",
       "0          2.203903e-34 -8.458344e-29  6.202922e-25 -1.393994e-35  \n",
       "1          5.473289e-34 -2.054493e-28  3.259850e-24 -2.113311e-35  \n",
       "2         -5.286618e-34  2.149430e-28  1.732685e-24  5.758891e-35  \n",
       "3          1.196196e-19  1.355710e-13  4.879750e-09  1.456771e-20  \n",
       "4          5.475590e-23  6.059302e-17  2.200106e-12  8.473981e-24  \n",
       "\n",
       "[5 rows x 2140 columns]"
      ]
     },
     "execution_count": 69,
     "metadata": {},
     "output_type": "execute_result"
    }
   ],
   "source": [
    "preds_df.head()"
   ]
  },
  {
   "cell_type": "code",
   "execution_count": 70,
   "metadata": {
    "colab": {
     "base_uri": "https://localhost:8080/",
     "height": 187
    },
    "colab_type": "code",
    "id": "gcCW3YvUR8kI",
    "outputId": "a676af41-a552-4afc-ad45-c7b5c3210601"
   },
   "outputs": [
    {
     "data": {
      "text/plain": [
       "array([[ 88.47341367,   0.        ,   0.        ,   0.        ,\n",
       "          0.        ],\n",
       "       [  0.        ,  90.15139058,   0.        ,   0.        ,\n",
       "          0.        ],\n",
       "       [  0.        ,   0.        ,  97.70570892,   0.        ,\n",
       "          0.        ],\n",
       "       [  0.        ,   0.        ,   0.        , 148.10554332,\n",
       "          0.        ],\n",
       "       [  0.        ,   0.        ,   0.        ,   0.        ,\n",
       "        207.5119058 ]])"
      ]
     },
     "execution_count": 70,
     "metadata": {},
     "output_type": "execute_result"
    }
   ],
   "source": [
    "sigma"
   ]
  },
  {
   "cell_type": "code",
   "execution_count": 0,
   "metadata": {
    "colab": {},
    "colab_type": "code",
    "id": "Aik_Px9DR8hH"
   },
   "outputs": [],
   "source": [
    "# return the movies with the highest predicted rating that the specified user hasn’t already rated\n",
    "#Take specific user row from matrix from predictions\n",
    "def recommend_simple(predictions_df, userId, productId_df, original_ratings_df, num_recommendations=5):\n",
    "    \n",
    "    # Get and sort the user's predictions\n",
    "    user_row_number = userID - 1 # UserID starts at 1, not 0\n",
    "    sorted_user_predictions = predictions_df.iloc[user_row_number].sort_values(ascending=False)\n",
    "    \n",
    "    # Get the user's data and merge in the movie information.\n",
    "    user_data = original_ratings_df[original_ratings_df.userId == (userID)]\n",
    "    #Added title and genres\n",
    "    user_full = (user_data.merge(productId_df, how = 'left', left_on = 'productId', right_on = 'productId').\n",
    "                     sort_values(['ratings'], ascending=False)\n",
    "                 )\n",
    "\n",
    "    print ('User {0} has already rated {1} item.'.format(userID, user_full.shape[0]))\n",
    "    print ('Recommending the highest {0} predicted ratings movies not already rated.'.format(num_recommendations))\n",
    "    \n",
    "    # Recommend the highest predicted rating movies that the user hasn't seen yet.\n",
    "    # select the movie which are in user list and remove those movies from our movies list\n",
    "    # Then merge with the sorted user predictions with the movieIds with left join\n",
    "    # Rename the columns to 'predictions'\n",
    "    recommendations = (movies_df[~movies_df['productId'].isin(user_full['productId'])].\n",
    "         merge(pd.DataFrame(sorted_user_predictions).reset_index(), how = 'left', left_on = 'productId', right_on = 'productId').\n",
    "         rename(columns = {user_row_number: 'Predictions'}))\n",
    "    #sort the prediction values\n",
    "    recommendations = (recommendations.sort_values('Predictions', ascending = False).\n",
    "                       iloc[:num_recommendations, :-1]\n",
    "                      )\n",
    "\n",
    "    return user_full, recommendations, sorted_user_predictions, user_data, user_full\n",
    "\n",
    "already_rated, predictions, sorted_user_predictions, user_data, user_full = recommend_simple(preds_df, 2, ratings_data_sample, ratings, 10)"
   ]
  },
  {
   "cell_type": "code",
   "execution_count": 0,
   "metadata": {
    "colab": {},
    "colab_type": "code",
    "id": "_KFZ7scAR70o"
   },
   "outputs": [],
   "source": []
  },
  {
   "cell_type": "markdown",
   "metadata": {
    "colab_type": "text",
    "id": "1ROtakrzcLEk"
   },
   "source": [
    "user based Collaborative Filtering"
   ]
  },
  {
   "cell_type": "code",
   "execution_count": 0,
   "metadata": {
    "colab": {},
    "colab_type": "code",
    "id": "-Z0nH6E53FEg"
   },
   "outputs": [],
   "source": [
    "#USER USER COLAB"
   ]
  },
  {
   "cell_type": "code",
   "execution_count": 52,
   "metadata": {
    "colab": {
     "base_uri": "https://localhost:8080/",
     "height": 119
    },
    "colab_type": "code",
    "id": "1tVuzsVbgAyz",
    "outputId": "9fdf5b0d-a516-4520-87da-c345d7a2b522"
   },
   "outputs": [
    {
     "name": "stdout",
     "output_type": "stream",
     "text": [
      "Requirement already satisfied: surprise in /usr/local/lib/python3.6/dist-packages (0.1)\n",
      "Requirement already satisfied: scikit-surprise in /usr/local/lib/python3.6/dist-packages (from surprise) (1.1.0)\n",
      "Requirement already satisfied: scipy>=1.0.0 in /usr/local/lib/python3.6/dist-packages (from scikit-surprise->surprise) (1.4.1)\n",
      "Requirement already satisfied: numpy>=1.11.2 in /usr/local/lib/python3.6/dist-packages (from scikit-surprise->surprise) (1.17.5)\n",
      "Requirement already satisfied: six>=1.10.0 in /usr/local/lib/python3.6/dist-packages (from scikit-surprise->surprise) (1.12.0)\n",
      "Requirement already satisfied: joblib>=0.11 in /usr/local/lib/python3.6/dist-packages (from scikit-surprise->surprise) (0.14.1)\n"
     ]
    }
   ],
   "source": [
    "pip install surprise\n"
   ]
  },
  {
   "cell_type": "code",
   "execution_count": 0,
   "metadata": {
    "colab": {},
    "colab_type": "code",
    "id": "-eGIuU8h3FB-"
   },
   "outputs": [],
   "source": [
    "\n",
    "from surprise import KNNWithMeans\n",
    "from surprise import Dataset\n",
    "from surprise import accuracy\n",
    "from surprise import Reader\n",
    "from surprise.model_selection import train_test_split"
   ]
  },
  {
   "cell_type": "code",
   "execution_count": 0,
   "metadata": {
    "colab": {},
    "colab_type": "code",
    "id": "pBuD79nj3E_g"
   },
   "outputs": [],
   "source": [
    "reader = Reader(rating_scale=(1,5))\n",
    "data1 = Dataset.load_from_df(df1[['userId', 'productId','ratings']], reader)\n",
    "trainset, testset = train_test_split(data1, test_size=.30)"
   ]
  },
  {
   "cell_type": "code",
   "execution_count": 103,
   "metadata": {
    "colab": {
     "base_uri": "https://localhost:8080/",
     "height": 85
    },
    "colab_type": "code",
    "id": "vU23T6hn3E9O",
    "outputId": "e6030785-f8e5-4016-9736-5ae09ba8bb0b"
   },
   "outputs": [
    {
     "name": "stdout",
     "output_type": "stream",
     "text": [
      "Estimating biases using als...\n",
      "Computing the pearson_baseline similarity matrix...\n",
      "Done computing similarity matrix.\n"
     ]
    },
    {
     "data": {
      "text/plain": [
       "<surprise.prediction_algorithms.knns.KNNWithMeans at 0x7f2a3cb12fd0>"
      ]
     },
     "execution_count": 103,
     "metadata": {
      "tags": []
     },
     "output_type": "execute_result"
    }
   ],
   "source": [
    "algo = KNNWithMeans(k=50, sim_options={'name': 'pearson_baseline', 'user_based': True})\n",
    "algo.fit(trainset)"
   ]
  },
  {
   "cell_type": "code",
   "execution_count": 0,
   "metadata": {
    "colab": {},
    "colab_type": "code",
    "id": "P42OWqEE3E7l"
   },
   "outputs": [],
   "source": [
    "# we can now query for specific predicions\n",
    "uid = str('AT28RL25Q2OLK')  # raw user id\n",
    "iid = str('B005GVAWXS')  # raw item id"
   ]
  },
  {
   "cell_type": "code",
   "execution_count": 105,
   "metadata": {
    "colab": {
     "base_uri": "https://localhost:8080/",
     "height": 34
    },
    "colab_type": "code",
    "id": "g-3CN9jH3E43",
    "outputId": "d5136db8-324d-4fdf-c211-0561de12cb94"
   },
   "outputs": [
    {
     "name": "stdout",
     "output_type": "stream",
     "text": [
      "user: AT28RL25Q2OLK item: B005GVAWXS r_ui = None   est = 4.31   {'actual_k': 0, 'was_impossible': False}\n"
     ]
    }
   ],
   "source": [
    "pred = algo.predict(uid, iid, verbose=True)"
   ]
  },
  {
   "cell_type": "code",
   "execution_count": 58,
   "metadata": {
    "colab": {
     "base_uri": "https://localhost:8080/",
     "height": 34
    },
    "colab_type": "code",
    "id": "tbp1EvBR3EzM",
    "outputId": "084b6a49-0514-4321-faa1-17a5348779cb"
   },
   "outputs": [
    {
     "name": "stdout",
     "output_type": "stream",
     "text": [
      "user: 196        item: 302        r_ui = None   est = 4.26   {'actual_k': 50, 'was_impossible': False}\n"
     ]
    }
   ],
   "source": [
    "# get a prediction for specific users and items.\n",
    "pred = algo.predict(uid, iid, verbose=True)"
   ]
  },
  {
   "cell_type": "code",
   "execution_count": 0,
   "metadata": {
    "colab": {},
    "colab_type": "code",
    "id": "kiElCsyI3Ewu"
   },
   "outputs": [],
   "source": [
    "# run the trained model against the testset\n",
    "test_pred = algo.test(testset)"
   ]
  },
  {
   "cell_type": "code",
   "execution_count": 107,
   "metadata": {
    "colab": {
     "base_uri": "https://localhost:8080/",
     "height": 1000
    },
    "colab_type": "code",
    "id": "Uypu_phe3Eu2",
    "outputId": "9390fabd-ddb5-4993-a973-388786cf6982"
   },
   "outputs": [
    {
     "data": {
      "text/plain": [
       "[Prediction(uid='A15QYHQH80W30L', iid='B000M0JWIY', r_ui=3.0, est=4.264093338932459, details={'was_impossible': True, 'reason': 'User and/or item is unkown.'}),\n",
       " Prediction(uid='A17O9AHKHK66AI', iid='B003VQQVDU', r_ui=3.0, est=3.796875, details={'actual_k': 0, 'was_impossible': False}),\n",
       " Prediction(uid='A25TNBMJ4ZO7RD', iid='B00829TIEK', r_ui=4.0, est=4.570833333333333, details={'actual_k': 1, 'was_impossible': False}),\n",
       " Prediction(uid='ALHC64J88LVWO', iid='B005GINKRQ', r_ui=3.0, est=4.264093338932459, details={'was_impossible': True, 'reason': 'User and/or item is unkown.'}),\n",
       " Prediction(uid='A2Q2A6JKY95RTP', iid='B0012JCYPC', r_ui=4.0, est=3.8947368421052633, details={'actual_k': 0, 'was_impossible': False}),\n",
       " Prediction(uid='A3ER6ARJ23CIN8', iid='B003JL7XFM', r_ui=5.0, est=4.5625, details={'actual_k': 0, 'was_impossible': False}),\n",
       " Prediction(uid='A2S26YGSVXBCFL', iid='B0034CL2ZI', r_ui=5.0, est=4.203410008321284, details={'actual_k': 19, 'was_impossible': False}),\n",
       " Prediction(uid='ASJZT7DM51QEM', iid='B004CLYEI2', r_ui=5.0, est=4.446795184095216, details={'actual_k': 2, 'was_impossible': False}),\n",
       " Prediction(uid='A3EXWV8FNSSFL6', iid='B0002EZ2KM', r_ui=5.0, est=4.264093338932459, details={'was_impossible': True, 'reason': 'User and/or item is unkown.'}),\n",
       " Prediction(uid='A3HR0ZZOFKQ97N', iid='B0090IA4KE', r_ui=5.0, est=4.572267920094007, details={'actual_k': 1, 'was_impossible': False}),\n",
       " Prediction(uid='AZCE11PSTCH1L', iid='B0087OV77G', r_ui=5.0, est=4.314285714285714, details={'actual_k': 0, 'was_impossible': False}),\n",
       " Prediction(uid='A781ITP3HE2N5', iid='B00DQHOW4Y', r_ui=3.0, est=4.264093338932459, details={'was_impossible': True, 'reason': 'User and/or item is unkown.'}),\n",
       " Prediction(uid='ANTN61S4L7WG9', iid='B009PK9S90', r_ui=5.0, est=3.9652263134782295, details={'actual_k': 5, 'was_impossible': False}),\n",
       " Prediction(uid='A2JXS1JII6SAUD', iid='B00CCEH51Y', r_ui=5.0, est=4.490909090909091, details={'actual_k': 0, 'was_impossible': False}),\n",
       " Prediction(uid='A3VL4RXCWNSR3H', iid='B0001OYZTC', r_ui=4.0, est=4.357142857142857, details={'actual_k': 0, 'was_impossible': False}),\n",
       " Prediction(uid='A2BMZRO0H7TFCS', iid='B00007AKC1', r_ui=3.0, est=4.264093338932459, details={'was_impossible': True, 'reason': 'User and/or item is unkown.'}),\n",
       " Prediction(uid='AWNJAY0M5UI70', iid='B001TH7GUU', r_ui=5.0, est=5, details={'actual_k': 2, 'was_impossible': False}),\n",
       " Prediction(uid='A1LD5SE8IZ1H70', iid='B0040IUI46', r_ui=5.0, est=4.266666666666667, details={'actual_k': 0, 'was_impossible': False}),\n",
       " Prediction(uid='A379DLIAF0MFM5', iid='B000DZMC3K', r_ui=5.0, est=4.375, details={'actual_k': 0, 'was_impossible': False}),\n",
       " Prediction(uid='A3QQGPI3CTV9SX', iid='B000OE02G4', r_ui=5.0, est=4.264093338932459, details={'was_impossible': True, 'reason': 'User and/or item is unkown.'}),\n",
       " Prediction(uid='A250AXLRBVYKB4', iid='B00005NPWK', r_ui=5.0, est=4.094936708860759, details={'actual_k': 0, 'was_impossible': False}),\n",
       " Prediction(uid='A11EXFO14WEJM1', iid='B000VE4PNS', r_ui=5.0, est=4.410714285714286, details={'actual_k': 0, 'was_impossible': False}),\n",
       " Prediction(uid='A6XDZ1MJ0B1A2', iid='B00871SR68', r_ui=1.0, est=2.748525943396227, details={'actual_k': 1, 'was_impossible': False}),\n",
       " Prediction(uid='A16QODENBJVUI1', iid='B001MLZKAQ', r_ui=5.0, est=4.264093338932459, details={'was_impossible': True, 'reason': 'User and/or item is unkown.'}),\n",
       " Prediction(uid='A1XK4VP74IB9TQ', iid='B004NNU8E8', r_ui=2.0, est=4.264093338932459, details={'was_impossible': True, 'reason': 'User and/or item is unkown.'}),\n",
       " Prediction(uid='A1SFPA80X7TRBR', iid='B002WE6D44', r_ui=5.0, est=4.605263157894737, details={'actual_k': 0, 'was_impossible': False}),\n",
       " Prediction(uid='AO8NH0BV82XIE', iid='B004GUKGNQ', r_ui=2.0, est=4.264093338932459, details={'was_impossible': True, 'reason': 'User and/or item is unkown.'}),\n",
       " Prediction(uid='A2KYRPDKVBI2R4', iid='B003ES5ZUU', r_ui=5.0, est=5, details={'actual_k': 12, 'was_impossible': False}),\n",
       " Prediction(uid='A25FL6VLD7S23S', iid='B004BLK24S', r_ui=5.0, est=4.764705882352941, details={'actual_k': 0, 'was_impossible': False}),\n",
       " Prediction(uid='A2H4OMJLE7JFM2', iid='B000FIDTYG', r_ui=5.0, est=5, details={'actual_k': 1, 'was_impossible': False}),\n",
       " Prediction(uid='A1YEPFLLH42OU1', iid='B005CWJB5G', r_ui=5.0, est=4.30188679245283, details={'actual_k': 0, 'was_impossible': False}),\n",
       " Prediction(uid='A314KKDIJWCNMV', iid='B004LSNF04', r_ui=5.0, est=3.8187263556116013, details={'actual_k': 1, 'was_impossible': False}),\n",
       " Prediction(uid='A2WB7LZ595CR50', iid='B0049U3TVE', r_ui=4.0, est=2.9127241689273298, details={'actual_k': 4, 'was_impossible': False}),\n",
       " Prediction(uid='A3QNX5KWHDV0GD', iid='B009MPBEH2', r_ui=2.0, est=4.264093338932459, details={'was_impossible': True, 'reason': 'User and/or item is unkown.'}),\n",
       " Prediction(uid='A18HE80910BTZI', iid='B00829TIEK', r_ui=4.0, est=4.278707971842597, details={'actual_k': 33, 'was_impossible': False}),\n",
       " Prediction(uid='AKSFZ4G1AXYFC', iid='B00288Z4JO', r_ui=5.0, est=4.225, details={'actual_k': 0, 'was_impossible': False}),\n",
       " Prediction(uid='A31N0XY2UTB25C', iid='B000083JZG', r_ui=5.0, est=4.264093338932459, details={'was_impossible': True, 'reason': 'User and/or item is unkown.'}),\n",
       " Prediction(uid='A2ME89MSWVG9NF', iid='B00AVST3GS', r_ui=2.0, est=4.5879539420916835, details={'actual_k': 2, 'was_impossible': False}),\n",
       " Prediction(uid='AOJA1LC8PN7K1', iid='B000067SG2', r_ui=5.0, est=3.8, details={'actual_k': 0, 'was_impossible': False}),\n",
       " Prediction(uid='AYMD77ITD15PT', iid='B00BBAFUQC', r_ui=4.0, est=4.222222222222222, details={'actual_k': 0, 'was_impossible': False}),\n",
       " Prediction(uid='A3IJ4Z18FTIIP', iid='B001U3Y8Q8', r_ui=5.0, est=4.264093338932459, details={'was_impossible': True, 'reason': 'User and/or item is unkown.'}),\n",
       " Prediction(uid='A27M75LRSJ788H', iid='B0002XQDSS', r_ui=5.0, est=4.943661971830986, details={'actual_k': 0, 'was_impossible': False}),\n",
       " Prediction(uid='AGVWTYW0ULXHT', iid='B00FC2R7ZC', r_ui=4.0, est=3.7687108886107636, details={'actual_k': 1, 'was_impossible': False}),\n",
       " Prediction(uid='A20DZX38KRBIT8', iid='B002H9RL5O', r_ui=1.0, est=2.526315789473684, details={'actual_k': 0, 'was_impossible': False}),\n",
       " Prediction(uid='A35HNL2VEDK9Z1', iid='B000JG88JU', r_ui=5.0, est=4.206896551724138, details={'actual_k': 0, 'was_impossible': False}),\n",
       " Prediction(uid='A1PN2U0AWXGVML', iid='B001FA1NIC', r_ui=4.0, est=4.5606060606060606, details={'actual_k': 0, 'was_impossible': False}),\n",
       " Prediction(uid='A2XRMQA6PJ5ZJ8', iid='B00DZYEXPQ', r_ui=5.0, est=4.6, details={'actual_k': 0, 'was_impossible': False}),\n",
       " Prediction(uid='A2OT3PDH1AWLTG', iid='B000CSWZ6M', r_ui=4.0, est=4.766666666666667, details={'actual_k': 0, 'was_impossible': False}),\n",
       " Prediction(uid='AAEVGE52KL0DJ', iid='B00GN6PPXW', r_ui=4.0, est=4.654545454545454, details={'actual_k': 0, 'was_impossible': False}),\n",
       " Prediction(uid='A3NCIN6TNL0MGA', iid='B000FA9F74', r_ui=5.0, est=4.264093338932459, details={'was_impossible': True, 'reason': 'User and/or item is unkown.'}),\n",
       " Prediction(uid='AN81JUYW2SL24', iid='B002SGATH8', r_ui=4.0, est=4.870028816893894, details={'actual_k': 2, 'was_impossible': False}),\n",
       " Prediction(uid='A680RUE1FDO8B', iid='B000OLDG60', r_ui=3.0, est=5, details={'actual_k': 3, 'was_impossible': False}),\n",
       " Prediction(uid='A17NVM7IAPF2NS', iid='B008L1OCF4', r_ui=5.0, est=4.295454545454546, details={'actual_k': 0, 'was_impossible': False}),\n",
       " Prediction(uid='A1GNYV0RA0EQSS', iid='B00D96BMV8', r_ui=4.0, est=4.195121951219512, details={'actual_k': 0, 'was_impossible': False}),\n",
       " Prediction(uid='A2TN0U8173HM7A', iid='B001RQ2YF0', r_ui=5.0, est=5, details={'actual_k': 0, 'was_impossible': False}),\n",
       " Prediction(uid='A1FXT4VNDA25LY', iid='B00727FE5U', r_ui=4.0, est=4.282222222222222, details={'actual_k': 1, 'was_impossible': False}),\n",
       " Prediction(uid='A1XXMNLOLKNO0I', iid='B005NB44DA', r_ui=5.0, est=4.264093338932459, details={'was_impossible': True, 'reason': 'User and/or item is unkown.'}),\n",
       " Prediction(uid='A2XJMQ2COPGWJH', iid='B003VYH1UE', r_ui=5.0, est=3.9565217391304346, details={'actual_k': 0, 'was_impossible': False}),\n",
       " Prediction(uid='A2OT3PDH1AWLTG', iid='B000J325SS', r_ui=5.0, est=4.264093338932459, details={'was_impossible': True, 'reason': 'User and/or item is unkown.'}),\n",
       " Prediction(uid='A28LUOEY0ECT9G', iid='B005P2GTX0', r_ui=5.0, est=4.264093338932459, details={'was_impossible': True, 'reason': 'User and/or item is unkown.'}),\n",
       " Prediction(uid='AVSMRPI23DQI2', iid='B002KGLDXU', r_ui=3.0, est=4.264093338932459, details={'was_impossible': True, 'reason': 'User and/or item is unkown.'}),\n",
       " Prediction(uid='A2SGAJWXG65464', iid='B003GAEW6Y', r_ui=5.0, est=4.0588235294117645, details={'actual_k': 0, 'was_impossible': False}),\n",
       " Prediction(uid='A3J8A5L5AF5TX9', iid='B004G6002M', r_ui=4.0, est=4.526550553375695, details={'actual_k': 4, 'was_impossible': False}),\n",
       " Prediction(uid='A3U41ZL33SS92P', iid='B00F0H88AC', r_ui=5.0, est=4.67741935483871, details={'actual_k': 1, 'was_impossible': False}),\n",
       " Prediction(uid='A9J4UURM4OSDW', iid='B0009PYV6K', r_ui=5.0, est=4.264093338932459, details={'was_impossible': True, 'reason': 'User and/or item is unkown.'}),\n",
       " Prediction(uid='A1H0D7635GEEJ1', iid='B000Q82PIQ', r_ui=5.0, est=4.2105263157894735, details={'actual_k': 0, 'was_impossible': False}),\n",
       " Prediction(uid='A3NYBI5VMVEEIK', iid='B000OGX5AM', r_ui=5.0, est=4.145833333333333, details={'actual_k': 0, 'was_impossible': False}),\n",
       " Prediction(uid='A2XX2A4OJCDNLZ', iid='B004LSNF04', r_ui=5.0, est=4.538461538461538, details={'actual_k': 0, 'was_impossible': False}),\n",
       " Prediction(uid='A2QDOJFFLFGF18', iid='B003EYVEVS', r_ui=5.0, est=5, details={'actual_k': 1, 'was_impossible': False}),\n",
       " Prediction(uid='AG6TX1ZJHLMO7', iid='B000NLSGA2', r_ui=4.0, est=4.387530595448068, details={'actual_k': 2, 'was_impossible': False}),\n",
       " Prediction(uid='A3SX5MZTCZRQLF', iid='B00BEHQKP2', r_ui=4.0, est=3.5198223482890003, details={'actual_k': 3, 'was_impossible': False}),\n",
       " Prediction(uid='AOEDWQLH2WKKW', iid='B0073YY6KQ', r_ui=4.0, est=4.264093338932459, details={'was_impossible': True, 'reason': 'User and/or item is unkown.'}),\n",
       " Prediction(uid='A2YEOR4XJ8N3QE', iid='B007PTCFFW', r_ui=4.0, est=4.291499252777445, details={'actual_k': 7, 'was_impossible': False}),\n",
       " Prediction(uid='AQIJ3ZEEVCIKU', iid='B00DVFLJDS', r_ui=5.0, est=4.945308882096879, details={'actual_k': 1, 'was_impossible': False}),\n",
       " Prediction(uid='A1KY5G5FP31F2F', iid='B001IZ1KDC', r_ui=5.0, est=4.264093338932459, details={'was_impossible': True, 'reason': 'User and/or item is unkown.'}),\n",
       " Prediction(uid='A1UL2JH7XOUGM5', iid='B00HRQB28Y', r_ui=4.0, est=4.706543967280164, details={'actual_k': 1, 'was_impossible': False}),\n",
       " Prediction(uid='A32LX4XJ2LU740', iid='B0013FRNKG', r_ui=5.0, est=5, details={'actual_k': 1, 'was_impossible': False}),\n",
       " Prediction(uid='A1U5IJHJK84S54', iid='B0076UXKDG', r_ui=2.0, est=2.475609756097561, details={'actual_k': 1, 'was_impossible': False}),\n",
       " Prediction(uid='A3VTOLNB5N6FVP', iid='B00EOE4G4E', r_ui=5.0, est=4.3359831433307745, details={'actual_k': 2, 'was_impossible': False}),\n",
       " Prediction(uid='A3G5MOHY1U635N', iid='B0009NZ6M0', r_ui=4.0, est=4.056603773584905, details={'actual_k': 0, 'was_impossible': False}),\n",
       " Prediction(uid='A2UEB48LAWFUCW', iid='B002LITI7K', r_ui=4.0, est=4.020833333333333, details={'actual_k': 0, 'was_impossible': False}),\n",
       " Prediction(uid='A2WC9NFLG57W4H', iid='B0097CXWUW', r_ui=3.0, est=4.518504368614443, details={'actual_k': 8, 'was_impossible': False}),\n",
       " Prediction(uid='A3KTWUXXB8KKC7', iid='B0012YHQVE', r_ui=5.0, est=3.914285714285714, details={'actual_k': 0, 'was_impossible': False}),\n",
       " Prediction(uid='A3UQSOJW51UU9T', iid='B008U69LC4', r_ui=3.0, est=4.0, details={'actual_k': 0, 'was_impossible': False}),\n",
       " Prediction(uid='A2WCFDOCS73PNB', iid='B00C20KWP4', r_ui=5.0, est=5, details={'actual_k': 1, 'was_impossible': False}),\n",
       " Prediction(uid='A32AK8FOAZEPE2', iid='B0009KUHLI', r_ui=1.0, est=4.264093338932459, details={'was_impossible': True, 'reason': 'User and/or item is unkown.'}),\n",
       " Prediction(uid='AN9CP6J4JF91X', iid='B002JCSV8A', r_ui=5.0, est=4.786868754137274, details={'actual_k': 3, 'was_impossible': False}),\n",
       " Prediction(uid='A3QDY9I0CNMD2W', iid='B003J8RHKG', r_ui=4.0, est=4.264093338932459, details={'was_impossible': True, 'reason': 'User and/or item is unkown.'}),\n",
       " Prediction(uid='A1ILWPH1GHUXE2', iid='B007RZB3KM', r_ui=5.0, est=3.9242424242424243, details={'actual_k': 0, 'was_impossible': False}),\n",
       " Prediction(uid='A2YEZ8Z3BW2SKG', iid='B001H35TPK', r_ui=5.0, est=4.611111111111111, details={'actual_k': 0, 'was_impossible': False}),\n",
       " Prediction(uid='A21VM9WVF8EOSJ', iid='B003QKBVYK', r_ui=5.0, est=3.2222222222222223, details={'actual_k': 0, 'was_impossible': False}),\n",
       " Prediction(uid='AFM2J3HJNPIHV', iid='B000067SGI', r_ui=5.0, est=3.8333333333333335, details={'actual_k': 0, 'was_impossible': False}),\n",
       " Prediction(uid='A1TQZUSOU22E9M', iid='B001PNCNVK', r_ui=5.0, est=4.376442381653363, details={'actual_k': 2, 'was_impossible': False}),\n",
       " Prediction(uid='A3QQGPI3CTV9SX', iid='B001F51G16', r_ui=5.0, est=5, details={'actual_k': 5, 'was_impossible': False}),\n",
       " Prediction(uid='A2X06FP2PQ6EK0', iid='B000FE9AKW', r_ui=1.0, est=4.264093338932459, details={'was_impossible': True, 'reason': 'User and/or item is unkown.'}),\n",
       " Prediction(uid='A3CFU12GS5CZCN', iid='B001SVJUPG', r_ui=3.0, est=4.153846153846154, details={'actual_k': 0, 'was_impossible': False}),\n",
       " Prediction(uid='A1BZIM4WGZ6DZP', iid='B007B60SCG', r_ui=5.0, est=4.882352941176471, details={'actual_k': 0, 'was_impossible': False}),\n",
       " Prediction(uid='A1QOK9LU90ACF7', iid='B003X26VVO', r_ui=4.0, est=4.264093338932459, details={'was_impossible': True, 'reason': 'User and/or item is unkown.'}),\n",
       " Prediction(uid='AOQLV2LSI9B2W', iid='B004RCHX0W', r_ui=5.0, est=4.694444444444445, details={'actual_k': 0, 'was_impossible': False}),\n",
       " Prediction(uid='A8P6GIIQ6YQV8', iid='B00HCPX4CM', r_ui=4.0, est=4.264093338932459, details={'was_impossible': True, 'reason': 'User and/or item is unkown.'}),\n",
       " Prediction(uid='A2KYRPDKVBI2R4', iid='B007MYZE26', r_ui=5.0, est=4.264093338932459, details={'was_impossible': True, 'reason': 'User and/or item is unkown.'}),\n",
       " Prediction(uid='AGHZXQL9F94T9', iid='B00002EQD2', r_ui=5.0, est=4.264093338932459, details={'was_impossible': True, 'reason': 'User and/or item is unkown.'}),\n",
       " Prediction(uid='A30ADSBTWCORYC', iid='B003LSTD38', r_ui=5.0, est=4.794871794871795, details={'actual_k': 0, 'was_impossible': False}),\n",
       " Prediction(uid='A3E9O1VNJ3U324', iid='B001U8VL9K', r_ui=4.0, est=4.756756756756757, details={'actual_k': 0, 'was_impossible': False}),\n",
       " Prediction(uid='A1VUN4JU731CBH', iid='B002HWRJBM', r_ui=2.0, est=4.659855769230769, details={'actual_k': 1, 'was_impossible': False}),\n",
       " Prediction(uid='A3Q1J68QY1MZQ9', iid='B00DR0C96S', r_ui=5.0, est=3.210632911392405, details={'actual_k': 1, 'was_impossible': False}),\n",
       " Prediction(uid='AVBLGXSWRN666', iid='B000089GN3', r_ui=4.0, est=4.830553961322767, details={'actual_k': 3, 'was_impossible': False}),\n",
       " Prediction(uid='A1QNYLBG73QRNF', iid='B00475K64E', r_ui=4.0, est=4.125, details={'actual_k': 0, 'was_impossible': False}),\n",
       " Prediction(uid='A14X244VGHWPSX', iid='B007W0XHK6', r_ui=5.0, est=4.25531914893617, details={'actual_k': 0, 'was_impossible': False}),\n",
       " Prediction(uid='A12EVK82QUTSA6', iid='B001C4WIY4', r_ui=4.0, est=4.264093338932459, details={'was_impossible': True, 'reason': 'User and/or item is unkown.'}),\n",
       " Prediction(uid='A2BGZ52M908MJY', iid='B00004WHIL', r_ui=4.0, est=4.264093338932459, details={'was_impossible': True, 'reason': 'User and/or item is unkown.'}),\n",
       " Prediction(uid='A12R3YGEHW7D8G', iid='B001PS9UKW', r_ui=5.0, est=4.351851851851852, details={'actual_k': 0, 'was_impossible': False}),\n",
       " Prediction(uid='AWPODHOB4GFWL', iid='B00CMF0SO4', r_ui=5.0, est=3.7010133641076757, details={'actual_k': 6, 'was_impossible': False}),\n",
       " Prediction(uid='A2NVQZ4Y7Y0J1R', iid='B000NLLXUM', r_ui=3.0, est=3.8, details={'actual_k': 0, 'was_impossible': False}),\n",
       " Prediction(uid='A3OXHLG6DIBRW8', iid='B0009OAFI4', r_ui=5.0, est=5, details={'actual_k': 1, 'was_impossible': False}),\n",
       " Prediction(uid='A2LEIANN1UZTHP', iid='B00G0O79IQ', r_ui=4.0, est=4.264093338932459, details={'was_impossible': True, 'reason': 'User and/or item is unkown.'}),\n",
       " Prediction(uid='AGFSSC5DBY2HU', iid='B002R5AM7C', r_ui=4.0, est=4.239491684254103, details={'actual_k': 20, 'was_impossible': False}),\n",
       " Prediction(uid='A2Z9S2RQD542CP', iid='B00746LVOM', r_ui=4.0, est=4.2926829268292686, details={'actual_k': 0, 'was_impossible': False}),\n",
       " Prediction(uid='A1H98YV5K5BUX0', iid='B003QP41FG', r_ui=5.0, est=4.264093338932459, details={'was_impossible': True, 'reason': 'User and/or item is unkown.'}),\n",
       " Prediction(uid='AGATRDOFW48DK', iid='B001MJHCGI', r_ui=5.0, est=4.264093338932459, details={'was_impossible': True, 'reason': 'User and/or item is unkown.'}),\n",
       " Prediction(uid='ABSYIF0ONC2AF', iid='B005CLPP8E', r_ui=4.0, est=4.632597186568809, details={'actual_k': 3, 'was_impossible': False}),\n",
       " Prediction(uid='A4WEZJOIZIV4U', iid='B00E6N9GS4', r_ui=5.0, est=4.887502536011361, details={'actual_k': 1, 'was_impossible': False}),\n",
       " Prediction(uid='A2IFGGXG3YV3Y6', iid='B005MCXJHM', r_ui=3.0, est=2.0805810262126365, details={'actual_k': 2, 'was_impossible': False}),\n",
       " Prediction(uid='A1V3TRGWOMA8LC', iid='B00JC5Y6WM', r_ui=5.0, est=4.334337816301005, details={'actual_k': 3, 'was_impossible': False}),\n",
       " Prediction(uid='A4S2WAQVQR6PI', iid='B00C25WG62', r_ui=2.0, est=4.264093338932459, details={'was_impossible': True, 'reason': 'User and/or item is unkown.'}),\n",
       " Prediction(uid='A3T7V207KRDE2O', iid='B006IKGWWQ', r_ui=5.0, est=4.264093338932459, details={'was_impossible': True, 'reason': 'User and/or item is unkown.'}),\n",
       " Prediction(uid='A2L4W1M5YU5QX3', iid='B00176F2RC', r_ui=4.0, est=3.738095238095238, details={'actual_k': 0, 'was_impossible': False}),\n",
       " Prediction(uid='A32AFX2PUJ82HG', iid='B0002GWXLQ', r_ui=5.0, est=4.404761904761905, details={'actual_k': 0, 'was_impossible': False}),\n",
       " Prediction(uid='A17V9XL4CWTQ6G', iid='B004WJRTOK', r_ui=5.0, est=4.7272727272727275, details={'actual_k': 0, 'was_impossible': False}),\n",
       " Prediction(uid='A194Y47BF3CUTJ', iid='B004FLL5AY', r_ui=5.0, est=5, details={'actual_k': 0, 'was_impossible': False}),\n",
       " Prediction(uid='A2UOHALGF2X77Q', iid='B00AW48DS0', r_ui=3.0, est=5, details={'actual_k': 1, 'was_impossible': False}),\n",
       " Prediction(uid='AHQRU3MRORIWQ', iid='B000W2Z5M4', r_ui=4.0, est=4.293333333333333, details={'actual_k': 0, 'was_impossible': False}),\n",
       " Prediction(uid='A8CKH8XB33XGN', iid='B0044YPN0A', r_ui=5.0, est=4.194805194805195, details={'actual_k': 0, 'was_impossible': False}),\n",
       " Prediction(uid='AUCIFMWP3DU8R', iid='B008U3038I', r_ui=5.0, est=3.8333333333333335, details={'actual_k': 0, 'was_impossible': False}),\n",
       " Prediction(uid='A1ZCSSCAGBCD49', iid='B009AR2MD2', r_ui=4.0, est=3.7560975609756095, details={'actual_k': 0, 'was_impossible': False}),\n",
       " Prediction(uid='ARXU3FESTWMJJ', iid='B0002DOXKI', r_ui=5.0, est=4.264093338932459, details={'was_impossible': True, 'reason': 'User and/or item is unkown.'}),\n",
       " Prediction(uid='A1ROUMJOGO4QMB', iid='B002M3SOBU', r_ui=2.0, est=3.3095238095238093, details={'actual_k': 0, 'was_impossible': False}),\n",
       " Prediction(uid='ADPKRJ2BSFJ0I', iid='B00261DEGS', r_ui=2.0, est=4.264093338932459, details={'was_impossible': True, 'reason': 'User and/or item is unkown.'}),\n",
       " Prediction(uid='A2NSXY5L42ZUGO', iid='B001DYLGM8', r_ui=4.0, est=5, details={'actual_k': 1, 'was_impossible': False}),\n",
       " Prediction(uid='A8CKH8XB33XGN', iid='B000067RT6', r_ui=5.0, est=4.502497502497502, details={'actual_k': 1, 'was_impossible': False}),\n",
       " Prediction(uid='A31HOWJKEIY037', iid='B0097BEFYA', r_ui=4.0, est=4.470588235294118, details={'actual_k': 0, 'was_impossible': False}),\n",
       " Prediction(uid='A3PD8JD9L4WEII', iid='B004BTXQXY', r_ui=4.0, est=4.264093338932459, details={'was_impossible': True, 'reason': 'User and/or item is unkown.'}),\n",
       " Prediction(uid='A2SKEQT0WTB954', iid='B0076T9WZM', r_ui=1.0, est=4.264093338932459, details={'was_impossible': True, 'reason': 'User and/or item is unkown.'}),\n",
       " Prediction(uid='A1E1LEVQ9VQNK', iid='B00AIHYHJA', r_ui=5.0, est=5, details={'actual_k': 3, 'was_impossible': False}),\n",
       " Prediction(uid='A1FXT4VNDA25LY', iid='B008TNXC64', r_ui=4.0, est=4.264093338932459, details={'was_impossible': True, 'reason': 'User and/or item is unkown.'}),\n",
       " Prediction(uid='A3CW0ZLUO5X2B1', iid='B000PC4A0O', r_ui=4.0, est=4.19620253164557, details={'actual_k': 0, 'was_impossible': False}),\n",
       " Prediction(uid='A1V4A5U5O3TMMD', iid='B0015DYMVO', r_ui=5.0, est=4.073529411764706, details={'actual_k': 0, 'was_impossible': False}),\n",
       " Prediction(uid='AEN44U6T9R93', iid='B001ULD4L0', r_ui=5.0, est=4.217391304347826, details={'actual_k': 0, 'was_impossible': False}),\n",
       " Prediction(uid='AEL6CQNQXONBX', iid='B000JO7PIM', r_ui=5.0, est=5, details={'actual_k': 1, 'was_impossible': False}),\n",
       " Prediction(uid='A1ODOGXEYECQQ8', iid='B002V88HFE', r_ui=4.0, est=4.56859011377006, details={'actual_k': 12, 'was_impossible': False}),\n",
       " Prediction(uid='AGJRUK27RBVYS', iid='B0019EQ1RW', r_ui=5.0, est=4.125, details={'actual_k': 0, 'was_impossible': False}),\n",
       " Prediction(uid='A12R3YGEHW7D8G', iid='B00021EE4U', r_ui=4.0, est=4.351851851851852, details={'actual_k': 0, 'was_impossible': False}),\n",
       " Prediction(uid='A1X1CEGHTHMBL1', iid='B006E0634W', r_ui=5.0, est=4.264093338932459, details={'was_impossible': True, 'reason': 'User and/or item is unkown.'}),\n",
       " Prediction(uid='A328GLDSDNFYII', iid='B00483WRZ6', r_ui=4.0, est=4.117647058823529, details={'actual_k': 0, 'was_impossible': False}),\n",
       " Prediction(uid='A506HOOCVL8GW', iid='B0051OKCHG', r_ui=1.0, est=4.590909090909091, details={'actual_k': 0, 'was_impossible': False}),\n",
       " Prediction(uid='A1EVV74UQYVKRY', iid='B0064RY5PO', r_ui=4.0, est=4.626666666666667, details={'actual_k': 0, 'was_impossible': False}),\n",
       " Prediction(uid='A2WXURU33RBGQS', iid='B0000C0SCD', r_ui=4.0, est=4.264093338932459, details={'was_impossible': True, 'reason': 'User and/or item is unkown.'}),\n",
       " Prediction(uid='A3LQUEB84IR3VO', iid='B007WTAJTO', r_ui=5.0, est=4.724848405688678, details={'actual_k': 2, 'was_impossible': False}),\n",
       " Prediction(uid='AL1XV4L25FZ2S', iid='B0078I832O', r_ui=1.0, est=3.843137254901961, details={'actual_k': 0, 'was_impossible': False}),\n",
       " Prediction(uid='A2WB7LZ595CR50', iid='B005DLDO4U', r_ui=5.0, est=4.237125007035516, details={'actual_k': 1, 'was_impossible': False}),\n",
       " Prediction(uid='A11I1I9QLMAM1A', iid='B002V100LU', r_ui=3.0, est=4.264093338932459, details={'was_impossible': True, 'reason': 'User and/or item is unkown.'}),\n",
       " Prediction(uid='A2ZFBTGPDP6PH6', iid='B001FWXDZQ', r_ui=4.0, est=3.3125, details={'actual_k': 1, 'was_impossible': False}),\n",
       " Prediction(uid='A3T7V207KRDE2O', iid='B000NVR9SM', r_ui=3.0, est=4.753684210526316, details={'actual_k': 1, 'was_impossible': False}),\n",
       " Prediction(uid='A335QXPTV1RIV1', iid='B009Z4RGFY', r_ui=2.0, est=4.358974358974359, details={'actual_k': 0, 'was_impossible': False}),\n",
       " Prediction(uid='A1P3DDFL423B3C', iid='B0002GTNG4', r_ui=1.0, est=3.830188679245283, details={'actual_k': 0, 'was_impossible': False}),\n",
       " Prediction(uid='A1P4XD7IORSEFN', iid='B0024G48MO', r_ui=2.0, est=3.86, details={'actual_k': 0, 'was_impossible': False}),\n",
       " Prediction(uid='A2J0IBS4PFRO2C', iid='B000A3WS84', r_ui=4.0, est=3.7045454545454546, details={'actual_k': 0, 'was_impossible': False}),\n",
       " Prediction(uid='A1DQHS7MOVYYYA', iid='B0039NLS3I', r_ui=5.0, est=4.48836035497588, details={'actual_k': 2, 'was_impossible': False}),\n",
       " Prediction(uid='AEJAGHLC675A7', iid='B007MV7H8S', r_ui=5.0, est=4.77710843373494, details={'actual_k': 0, 'was_impossible': False}),\n",
       " Prediction(uid='A2X695AM08AIN1', iid='B00BSWZWM0', r_ui=5.0, est=4.133333333333334, details={'actual_k': 0, 'was_impossible': False}),\n",
       " Prediction(uid='A3R1WFO4KIUQXZ', iid='B003N2POXK', r_ui=5.0, est=4.012521840419336, details={'actual_k': 1, 'was_impossible': False}),\n",
       " Prediction(uid='ARXU3FESTWMJJ', iid='B00CI3R71C', r_ui=5.0, est=4.264093338932459, details={'was_impossible': True, 'reason': 'User and/or item is unkown.'}),\n",
       " Prediction(uid='A197T2N6RU7K56', iid='B00603RU8Q', r_ui=5.0, est=4.575757575757576, details={'actual_k': 0, 'was_impossible': False}),\n",
       " Prediction(uid='A3D01HLSUFEZQY', iid='B00030BE5W', r_ui=5.0, est=4.264093338932459, details={'was_impossible': True, 'reason': 'User and/or item is unkown.'}),\n",
       " Prediction(uid='A87N6UTYA6NOB', iid='B000M52X62', r_ui=5.0, est=4.264093338932459, details={'was_impossible': True, 'reason': 'User and/or item is unkown.'}),\n",
       " Prediction(uid='A23ZXHFLC6TBLD', iid='B001IE5NCC', r_ui=3.0, est=4.264093338932459, details={'was_impossible': True, 'reason': 'User and/or item is unkown.'}),\n",
       " Prediction(uid='A1X3ESYZ79H59E', iid='B0079UAT0A', r_ui=5.0, est=4.396511076733943, details={'actual_k': 24, 'was_impossible': False}),\n",
       " Prediction(uid='A1XE3M22N91451', iid='B00BF4P0ZA', r_ui=5.0, est=4.264093338932459, details={'was_impossible': True, 'reason': 'User and/or item is unkown.'}),\n",
       " Prediction(uid='A2WLNSZ9U0T1S3', iid='B002SQK2F2', r_ui=2.0, est=3.2137850310902514, details={'actual_k': 22, 'was_impossible': False}),\n",
       " Prediction(uid='A18U49406IPPIJ', iid='B00FCISG6K', r_ui=5.0, est=4.962962962962963, details={'actual_k': 0, 'was_impossible': False}),\n",
       " Prediction(uid='A1VTCSCH8FFC76', iid='B0035JCI6M', r_ui=5.0, est=4.460808328230251, details={'actual_k': 1, 'was_impossible': False}),\n",
       " Prediction(uid='A3L1VJMHFWONCB', iid='B001JHXOTW', r_ui=3.0, est=4.3232323232323235, details={'actual_k': 0, 'was_impossible': False}),\n",
       " Prediction(uid='A1J87SYB3JPQWH', iid='B00006RVPW', r_ui=5.0, est=4.825, details={'actual_k': 0, 'was_impossible': False}),\n",
       " Prediction(uid='ANSVB7OYSXZSL', iid='B00CRY250U', r_ui=2.0, est=3.878787878787879, details={'actual_k': 0, 'was_impossible': False}),\n",
       " Prediction(uid='A1RDHBBZE1NPS3', iid='B00BGA9WK2', r_ui=4.0, est=4.969913309535951, details={'actual_k': 1, 'was_impossible': False}),\n",
       " Prediction(uid='A29KJ32G75L7G9', iid='B00BQH8UEY', r_ui=5.0, est=4.566666666666666, details={'actual_k': 0, 'was_impossible': False}),\n",
       " Prediction(uid='A3HH340REI4J47', iid='B000W0BVTW', r_ui=5.0, est=4.513513513513513, details={'actual_k': 0, 'was_impossible': False}),\n",
       " Prediction(uid='A2BX8DDQGCCG2J', iid='B0017H8WQ4', r_ui=5.0, est=4.264093338932459, details={'was_impossible': True, 'reason': 'User and/or item is unkown.'}),\n",
       " Prediction(uid='A1ZBEIL78MLR9Z', iid='B0007NIJBC', r_ui=5.0, est=4.27906976744186, details={'actual_k': 0, 'was_impossible': False}),\n",
       " Prediction(uid='AOMEH9W6LHC4S', iid='B006JH8T3S', r_ui=5.0, est=5, details={'actual_k': 3, 'was_impossible': False}),\n",
       " Prediction(uid='A2LCE1D0TW2XY0', iid='B00H8Y62VC', r_ui=4.0, est=4.264093338932459, details={'was_impossible': True, 'reason': 'User and/or item is unkown.'}),\n",
       " Prediction(uid='A2WBVO6X3KPMDT', iid='B00346I5LI', r_ui=5.0, est=4.9375, details={'actual_k': 0, 'was_impossible': False}),\n",
       " Prediction(uid='A26877IWJGISYM', iid='B005QUQPDA', r_ui=5.0, est=4.208333333333333, details={'actual_k': 0, 'was_impossible': False}),\n",
       " Prediction(uid='A22CW0ZHY3NJH8', iid='B0092MD8OW', r_ui=4.0, est=3.9108720734985436, details={'actual_k': 6, 'was_impossible': False}),\n",
       " Prediction(uid='A2NPN06SYI5VL3', iid='B004MU8VCS', r_ui=3.0, est=4.264705882352941, details={'actual_k': 0, 'was_impossible': False}),\n",
       " Prediction(uid='A1TFDMY4YNTV97', iid='B0017H4EBG', r_ui=5.0, est=3.673076923076923, details={'actual_k': 0, 'was_impossible': False}),\n",
       " Prediction(uid='A1SB9BNNGKNX2Z', iid='B000067RBT', r_ui=5.0, est=4.636363636363637, details={'actual_k': 0, 'was_impossible': False}),\n",
       " Prediction(uid='A1QNYLBG73QRNF', iid='B001CHHVCU', r_ui=3.0, est=3.23476756564044, details={'actual_k': 5, 'was_impossible': False}),\n",
       " Prediction(uid='ABXANRX4GPYRZ', iid='B002PHRDO2', r_ui=5.0, est=4.264093338932459, details={'was_impossible': True, 'reason': 'User and/or item is unkown.'}),\n",
       " Prediction(uid='A3NVZTGPORNPRW', iid='B00IEZGWI2', r_ui=4.0, est=4.275, details={'actual_k': 0, 'was_impossible': False}),\n",
       " Prediction(uid='A5GPH59NDWJRB', iid='B0011ZCDKS', r_ui=4.0, est=3.857179356157384, details={'actual_k': 1, 'was_impossible': False}),\n",
       " Prediction(uid='A9ELHLPXF7JKD', iid='B004ZF0PXI', r_ui=2.0, est=3.275860297894196, details={'actual_k': 1, 'was_impossible': False}),\n",
       " Prediction(uid='A2SH7OWE8QJYNC', iid='B0073HSH8U', r_ui=4.0, est=4.238095238095238, details={'actual_k': 0, 'was_impossible': False}),\n",
       " Prediction(uid='A2EMUM49CE0JV4', iid='B00005NIMN', r_ui=5.0, est=4.264093338932459, details={'was_impossible': True, 'reason': 'User and/or item is unkown.'}),\n",
       " Prediction(uid='A22R9L5DAVYYWR', iid='B00001RMCY', r_ui=5.0, est=4.264093338932459, details={'was_impossible': True, 'reason': 'User and/or item is unkown.'}),\n",
       " Prediction(uid='A3HSDV9Y0TV5Z2', iid='B001TO3L8Y', r_ui=5.0, est=4.264093338932459, details={'was_impossible': True, 'reason': 'User and/or item is unkown.'}),\n",
       " Prediction(uid='AA91O96C1Z18W', iid='B009GA6CAW', r_ui=5.0, est=4.264093338932459, details={'was_impossible': True, 'reason': 'User and/or item is unkown.'}),\n",
       " Prediction(uid='A35HUT8MQMT21L', iid='B002E4UWWQ', r_ui=4.0, est=4.230769230769231, details={'actual_k': 0, 'was_impossible': False}),\n",
       " Prediction(uid='A3AYSYSLHU26U9', iid='B00295RB3S', r_ui=4.0, est=4.264093338932459, details={'was_impossible': True, 'reason': 'User and/or item is unkown.'}),\n",
       " Prediction(uid='A2PICNZWHEINQC', iid='B00006B7DA', r_ui=5.0, est=4.395833333333333, details={'actual_k': 1, 'was_impossible': False}),\n",
       " Prediction(uid='A20WUUD9EDWY4N', iid='B005DIT8MK', r_ui=3.0, est=4.264093338932459, details={'was_impossible': True, 'reason': 'User and/or item is unkown.'}),\n",
       " Prediction(uid='A313H6238N589', iid='B001DBIT08', r_ui=5.0, est=4.264093338932459, details={'was_impossible': True, 'reason': 'User and/or item is unkown.'}),\n",
       " Prediction(uid='ADLVFFE4VBT8', iid='B002MAPSQM', r_ui=5.0, est=5, details={'actual_k': 2, 'was_impossible': False}),\n",
       " Prediction(uid='A2FZQF0MH29VYN', iid='B001UW7YDS', r_ui=5.0, est=4.264093338932459, details={'was_impossible': True, 'reason': 'User and/or item is unkown.'}),\n",
       " Prediction(uid='A1BVE2ZIBKJ7YI', iid='B001A4KAFK', r_ui=4.0, est=4.264093338932459, details={'was_impossible': True, 'reason': 'User and/or item is unkown.'}),\n",
       " Prediction(uid='A274MXTX3DYLUV', iid='B007OCGF4W', r_ui=5.0, est=4.264093338932459, details={'was_impossible': True, 'reason': 'User and/or item is unkown.'}),\n",
       " Prediction(uid='ABIVKBMSIPEDY', iid='B004K6LETQ', r_ui=4.0, est=3.8365384615384617, details={'actual_k': 0, 'was_impossible': False}),\n",
       " Prediction(uid='A11LNPG39A2ZV4', iid='B003DNS88M', r_ui=4.0, est=4.28125, details={'actual_k': 0, 'was_impossible': False}),\n",
       " Prediction(uid='A2ZRG5NOFZ47RK', iid='B0009PAVI2', r_ui=5.0, est=4.585365853658536, details={'actual_k': 0, 'was_impossible': False}),\n",
       " Prediction(uid='A31ICLWQ9CSHRS', iid='B000FBK3QK', r_ui=5.0, est=4.981859410430839, details={'actual_k': 1, 'was_impossible': False}),\n",
       " Prediction(uid='A1UCAVBNJUZMPR', iid='B0049YQVHE', r_ui=3.0, est=4.714285714285714, details={'actual_k': 0, 'was_impossible': False}),\n",
       " Prediction(uid='A2NB2E5DXE319Z', iid='B00946XHI8', r_ui=4.0, est=5, details={'actual_k': 1, 'was_impossible': False}),\n",
       " Prediction(uid='A3ER6ARJ23CIN8', iid='B004HKIB6E', r_ui=5.0, est=5, details={'actual_k': 1, 'was_impossible': False}),\n",
       " Prediction(uid='A2Y1WNETD9AYHO', iid='B000TO1SMG', r_ui=5.0, est=4.15, details={'actual_k': 0, 'was_impossible': False}),\n",
       " Prediction(uid='AGGAQLXPVGM5D', iid='B0009WNA0Q', r_ui=5.0, est=4.264093338932459, details={'was_impossible': True, 'reason': 'User and/or item is unkown.'}),\n",
       " Prediction(uid='A1U11IP6K6NHAK', iid='B00EB7812C', r_ui=5.0, est=4.27697145621674, details={'actual_k': 1, 'was_impossible': False}),\n",
       " Prediction(uid='A1SC5OXLQNGPLN', iid='B00009XVCZ', r_ui=5.0, est=5, details={'actual_k': 2, 'was_impossible': False}),\n",
       " Prediction(uid='A19XMHRB3G4DIR', iid='B000YA6JA6', r_ui=5.0, est=4.264093338932459, details={'was_impossible': True, 'reason': 'User and/or item is unkown.'}),\n",
       " Prediction(uid='A2NYK9KWFMJV4Y', iid='B00I9HWVXK', r_ui=5.0, est=4.264093338932459, details={'was_impossible': True, 'reason': 'User and/or item is unkown.'}),\n",
       " Prediction(uid='A3LZA698SQPCXE', iid='B001DABPPK', r_ui=4.0, est=4.264093338932459, details={'was_impossible': True, 'reason': 'User and/or item is unkown.'}),\n",
       " Prediction(uid='A1ZU55TM45Y2R8', iid='B004BDOGL6', r_ui=5.0, est=4.602999109450057, details={'actual_k': 4, 'was_impossible': False}),\n",
       " Prediction(uid='AHROSV6WJOEGY', iid='B0000ACOBG', r_ui=2.0, est=3.5238095238095237, details={'actual_k': 0, 'was_impossible': False}),\n",
       " Prediction(uid='AOEAD7DPLZE53', iid='B0010XW1OE', r_ui=4.0, est=3.65625, details={'actual_k': 0, 'was_impossible': False}),\n",
       " Prediction(uid='A2503LT8PZIHAD', iid='B003LL19F0', r_ui=5.0, est=4.264093338932459, details={'was_impossible': True, 'reason': 'User and/or item is unkown.'}),\n",
       " Prediction(uid='A1J5HIF41ENSMZ', iid='B007477COO', r_ui=4.0, est=4.782196969696969, details={'actual_k': 1, 'was_impossible': False}),\n",
       " Prediction(uid='A3IRA0BHI9NE9U', iid='B00APP6694', r_ui=5.0, est=4.854166666666667, details={'actual_k': 0, 'was_impossible': False}),\n",
       " Prediction(uid='A20DZX38KRBIT8', iid='B000HZ9CCA', r_ui=1.0, est=2.526315789473684, details={'actual_k': 0, 'was_impossible': False}),\n",
       " Prediction(uid='A5QDZEOIMQ4LW', iid='B002C1SB0G', r_ui=5.0, est=4.717948717948718, details={'actual_k': 0, 'was_impossible': False}),\n",
       " Prediction(uid='A1URXSRV6WDHVY', iid='B00KJJW36G', r_ui=5.0, est=5, details={'actual_k': 1, 'was_impossible': False}),\n",
       " Prediction(uid='A8CKH8XB33XGN', iid='B0044XTJ10', r_ui=5.0, est=3.433935629587803, details={'actual_k': 1, 'was_impossible': False}),\n",
       " Prediction(uid='A3KZEGBTPH6MMF', iid='B000FBK3QK', r_ui=5.0, est=4.3, details={'actual_k': 0, 'was_impossible': False}),\n",
       " Prediction(uid='A1GW7V6S6XSXX3', iid='B00829TIA4', r_ui=5.0, est=4.244141674701895, details={'actual_k': 13, 'was_impossible': False}),\n",
       " Prediction(uid='A1T1YSCDW0PD25', iid='B007MJURAA', r_ui=2.0, est=4.264093338932459, details={'was_impossible': True, 'reason': 'User and/or item is unkown.'}),\n",
       " Prediction(uid='A20DZX38KRBIT8', iid='B0000AZW8X', r_ui=5.0, est=2.526315789473684, details={'actual_k': 0, 'was_impossible': False}),\n",
       " Prediction(uid='A19W47CXJJP1MI', iid='B000Q7IA5E', r_ui=2.0, est=4.525179856115108, details={'actual_k': 0, 'was_impossible': False}),\n",
       " Prediction(uid='A1N5FSCYN4796F', iid='B00DXFDHV8', r_ui=5.0, est=4.5404238618524335, details={'actual_k': 1, 'was_impossible': False}),\n",
       " Prediction(uid='A38CHSS1ZAE51B', iid='B005CS7JO0', r_ui=1.0, est=4.264093338932459, details={'was_impossible': True, 'reason': 'User and/or item is unkown.'}),\n",
       " Prediction(uid='A2SH7OWE8QJYNC', iid='B0047XUFH4', r_ui=4.0, est=4.238095238095238, details={'actual_k': 0, 'was_impossible': False}),\n",
       " Prediction(uid='A2YHXGPCTENZY3', iid='B000M51NOU', r_ui=2.0, est=2.482142857142857, details={'actual_k': 0, 'was_impossible': False}),\n",
       " Prediction(uid='A3F8T3BRXRX5P3', iid='B007RG2QNY', r_ui=4.0, est=4.041666666666667, details={'actual_k': 0, 'was_impossible': False}),\n",
       " Prediction(uid='AFHYEO3Y1IIDD', iid='B001B077PO', r_ui=1.0, est=4.071428571428571, details={'actual_k': 0, 'was_impossible': False}),\n",
       " Prediction(uid='A34BZM6S9L7QI4', iid='B00GZUKNJM', r_ui=4.0, est=4.5, details={'actual_k': 0, 'was_impossible': False}),\n",
       " Prediction(uid='A2XRMQA6PJ5ZJ8', iid='B008MWBY6W', r_ui=4.0, est=4.737103965894065, details={'actual_k': 2, 'was_impossible': False}),\n",
       " Prediction(uid='A38C12950IM24P', iid='B0058TUZT4', r_ui=5.0, est=4.7924528301886795, details={'actual_k': 0, 'was_impossible': False}),\n",
       " Prediction(uid='A3EFSLEMHNPP6A', iid='B007JELV8U', r_ui=3.0, est=4.421875, details={'actual_k': 0, 'was_impossible': False}),\n",
       " Prediction(uid='A250AXLRBVYKB4', iid='B0006AZ57M', r_ui=3.0, est=4.094936708860759, details={'actual_k': 0, 'was_impossible': False}),\n",
       " Prediction(uid='A1ZCSSCAGBCD49', iid='B00J0XR10A', r_ui=5.0, est=4.738569060873483, details={'actual_k': 2, 'was_impossible': False}),\n",
       " Prediction(uid='AO09RWV40IX78', iid='B00DQZQG3G', r_ui=4.0, est=4.714285714285714, details={'actual_k': 0, 'was_impossible': False}),\n",
       " Prediction(uid='A3KCETSIJNOK56', iid='B008KREIJO', r_ui=5.0, est=4.264093338932459, details={'was_impossible': True, 'reason': 'User and/or item is unkown.'}),\n",
       " Prediction(uid='A2QI2JHSIQ3SN3', iid='B00GTGETFG', r_ui=5.0, est=4.520833333333333, details={'actual_k': 0, 'was_impossible': False}),\n",
       " Prediction(uid='A3BVN2QBNPBHCR', iid='B00DJ6AGBU', r_ui=5.0, est=4.6625, details={'actual_k': 0, 'was_impossible': False}),\n",
       " Prediction(uid='A2CPP7BZKOF9TP', iid='B003VGUGBS', r_ui=5.0, est=4.514285714285714, details={'actual_k': 0, 'was_impossible': False}),\n",
       " Prediction(uid='A3T4OHEAHOJ700', iid='B008X9Z8NE', r_ui=4.0, est=4.310223156455037, details={'actual_k': 12, 'was_impossible': False}),\n",
       " Prediction(uid='A1R76R4E6A8S3B', iid='B00FH66AW4', r_ui=4.0, est=3.858270572299283, details={'actual_k': 3, 'was_impossible': False}),\n",
       " Prediction(uid='A2VIYTWXANL343', iid='B0013AV4M4', r_ui=5.0, est=4.636363636363637, details={'actual_k': 0, 'was_impossible': False}),\n",
       " Prediction(uid='A1ZA5SXZS8Z3CK', iid='B002PNL3IS', r_ui=3.0, est=4.264093338932459, details={'was_impossible': True, 'reason': 'User and/or item is unkown.'}),\n",
       " Prediction(uid='A2HNH4PKE5DPSI', iid='B0016O8HP4', r_ui=5.0, est=4.688524590163935, details={'actual_k': 0, 'was_impossible': False}),\n",
       " Prediction(uid='A2858RV2VLI14X', iid='B009W0ZFUY', r_ui=5.0, est=4.575757575757576, details={'actual_k': 0, 'was_impossible': False}),\n",
       " Prediction(uid='AMUP8DYE7EAN2', iid='B006IYWXW0', r_ui=3.0, est=4.084745762711864, details={'actual_k': 0, 'was_impossible': False}),\n",
       " Prediction(uid='AWH2AY17ZU7W2', iid='B002YCIN9W', r_ui=4.0, est=4.377777777777778, details={'actual_k': 0, 'was_impossible': False}),\n",
       " Prediction(uid='A18HE80910BTZI', iid='B0084JFLTY', r_ui=3.0, est=3.4169863969305894, details={'actual_k': 1, 'was_impossible': False}),\n",
       " Prediction(uid='A1SFPA80X7TRBR', iid='B0002Y5WZM', r_ui=5.0, est=4.605263157894737, details={'actual_k': 0, 'was_impossible': False}),\n",
       " Prediction(uid='A1BT6TL7UCIC5Y', iid='B004YHXXKO', r_ui=5.0, est=4.585220143874809, details={'actual_k': 5, 'was_impossible': False}),\n",
       " Prediction(uid='A33HIV8RXRDM88', iid='B00BFYVXYM', r_ui=3.0, est=3.457672095304735, details={'actual_k': 2, 'was_impossible': False}),\n",
       " Prediction(uid='A1X1CEGHTHMBL1', iid='B00168XBSS', r_ui=1.0, est=4.264093338932459, details={'was_impossible': True, 'reason': 'User and/or item is unkown.'}),\n",
       " Prediction(uid='A1EOTB1WHLSW6G', iid='B000067RT6', r_ui=1.0, est=4.951135174027876, details={'actual_k': 2, 'was_impossible': False}),\n",
       " Prediction(uid='A13WOT3RSXKRD5', iid='B004R6GELC', r_ui=5.0, est=4.264093338932459, details={'was_impossible': True, 'reason': 'User and/or item is unkown.'}),\n",
       " Prediction(uid='A2CIQEY05SPHTZ', iid='B004FLL5AE', r_ui=4.0, est=3.933333333333333, details={'actual_k': 0, 'was_impossible': False}),\n",
       " Prediction(uid='A3F3B6HY9RJI04', iid='B005AT2RB6', r_ui=2.0, est=4.264093338932459, details={'was_impossible': True, 'reason': 'User and/or item is unkown.'}),\n",
       " Prediction(uid='A2N75ADJSRW0AH', iid='B0095F5AFG', r_ui=4.0, est=4.470588235294118, details={'actual_k': 0, 'was_impossible': False}),\n",
       " Prediction(uid='A1FR68QH6Z4YZM', iid='B000WJCB9W', r_ui=5.0, est=4.511111111111111, details={'actual_k': 0, 'was_impossible': False}),\n",
       " Prediction(uid='A3SP7T2PZ3HSDE', iid='B003Y74AXY', r_ui=3.0, est=1.6879573170731703, details={'actual_k': 1, 'was_impossible': False}),\n",
       " Prediction(uid='A11YOTONCPRQ9S', iid='B00224ZDFY', r_ui=5.0, est=3.169811320754717, details={'actual_k': 0, 'was_impossible': False}),\n",
       " Prediction(uid='AEWYUPCNDV7HY', iid='B000J3G2CS', r_ui=4.0, est=4.264093338932459, details={'was_impossible': True, 'reason': 'User and/or item is unkown.'}),\n",
       " Prediction(uid='A1ZPUEHF4AES86', iid='B002OOWC3S', r_ui=4.0, est=3.9252450980392153, details={'actual_k': 1, 'was_impossible': False}),\n",
       " Prediction(uid='A3VONQL7YW8UPM', iid='B000SRKJI8', r_ui=5.0, est=4.264093338932459, details={'was_impossible': True, 'reason': 'User and/or item is unkown.'}),\n",
       " Prediction(uid='A38NHXL5257E3B', iid='B004FOW2VW', r_ui=3.0, est=4.264093338932459, details={'was_impossible': True, 'reason': 'User and/or item is unkown.'}),\n",
       " Prediction(uid='A1RPTVW5VEOSI', iid='B004MKNJAC', r_ui=4.0, est=4.264093338932459, details={'was_impossible': True, 'reason': 'User and/or item is unkown.'}),\n",
       " Prediction(uid='A250AXLRBVYKB4', iid='B001MRX4JO', r_ui=5.0, est=4.264093338932459, details={'was_impossible': True, 'reason': 'User and/or item is unkown.'}),\n",
       " Prediction(uid='A680RUE1FDO8B', iid='B000F6Y686', r_ui=5.0, est=4.264093338932459, details={'was_impossible': True, 'reason': 'User and/or item is unkown.'}),\n",
       " Prediction(uid='AIFLY2HF8NS8U', iid='B00ICU134C', r_ui=4.0, est=4.409836065573771, details={'actual_k': 0, 'was_impossible': False}),\n",
       " Prediction(uid='AEWYUPCNDV7HY', iid='B0049U3TVE', r_ui=2.0, est=3.5314708407634896, details={'actual_k': 1, 'was_impossible': False}),\n",
       " Prediction(uid='A1R377IPZOKLMM', iid='B002UT42UI', r_ui=5.0, est=4.853114806404148, details={'actual_k': 4, 'was_impossible': False}),\n",
       " Prediction(uid='ARX0KOX5Q01BJ', iid='B002FFT8Z6', r_ui=5.0, est=3.488888888888889, details={'actual_k': 0, 'was_impossible': False}),\n",
       " Prediction(uid='AIBRTGBN07D6A', iid='B0011FOOI2', r_ui=4.0, est=4.123832178685599, details={'actual_k': 2, 'was_impossible': False}),\n",
       " Prediction(uid='A33XMCG1UFDSY2', iid='B0018BQ0B8', r_ui=5.0, est=4.264093338932459, details={'was_impossible': True, 'reason': 'User and/or item is unkown.'}),\n",
       " Prediction(uid='A2GOHNFBHUU3UI', iid='B00I2N6NVC', r_ui=4.0, est=3.8627450980392157, details={'actual_k': 0, 'was_impossible': False}),\n",
       " Prediction(uid='A335QXPTV1RIV1', iid='B000IHGJ50', r_ui=5.0, est=4.358974358974359, details={'actual_k': 0, 'was_impossible': False}),\n",
       " Prediction(uid='A24ARANWS5E3T8', iid='B00149TXUY', r_ui=5.0, est=4.264093338932459, details={'was_impossible': True, 'reason': 'User and/or item is unkown.'}),\n",
       " Prediction(uid='A4U27URFECK1U', iid='B0049MV5OK', r_ui=5.0, est=4.264093338932459, details={'was_impossible': True, 'reason': 'User and/or item is unkown.'}),\n",
       " Prediction(uid='A38NHXL5257E3B', iid='B00F4714IG', r_ui=4.0, est=4.596774193548387, details={'actual_k': 0, 'was_impossible': False}),\n",
       " Prediction(uid='A1NJHKPHD4YWZV', iid='B005GTD5QQ', r_ui=5.0, est=4.264093338932459, details={'was_impossible': True, 'reason': 'User and/or item is unkown.'}),\n",
       " Prediction(uid='A1ODOGXEYECQQ8', iid='B005HNG266', r_ui=5.0, est=4.264093338932459, details={'was_impossible': True, 'reason': 'User and/or item is unkown.'}),\n",
       " Prediction(uid='A1IU7S4HCK1XK0', iid='B006GWO5WK', r_ui=3.0, est=4.430132890858846, details={'actual_k': 2, 'was_impossible': False}),\n",
       " Prediction(uid='A2UOHALGF2X77Q', iid='B000E5FOYS', r_ui=5.0, est=4.40251572327044, details={'actual_k': 0, 'was_impossible': False}),\n",
       " Prediction(uid='A1MEISNED4NP7U', iid='B008UG2W20', r_ui=5.0, est=4.264093338932459, details={'was_impossible': True, 'reason': 'User and/or item is unkown.'}),\n",
       " Prediction(uid='A3LDLV1GWQJLEQ', iid='B000EOPQ7E', r_ui=5.0, est=4.895551257253385, details={'actual_k': 1, 'was_impossible': False}),\n",
       " Prediction(uid='A1ILWPH1GHUXE2', iid='B0019OZ3OO', r_ui=2.0, est=4.480116349743858, details={'actual_k': 1, 'was_impossible': False}),\n",
       " Prediction(uid='AQIJ3ZEEVCIKU', iid='B006Q6QHDG', r_ui=5.0, est=4.264093338932459, details={'was_impossible': True, 'reason': 'User and/or item is unkown.'}),\n",
       " Prediction(uid='A1DO9LRCO23EOM', iid='B000O1QZW2', r_ui=5.0, est=4.264093338932459, details={'was_impossible': True, 'reason': 'User and/or item is unkown.'}),\n",
       " Prediction(uid='A225G2TFM76GYX', iid='B0013DKBX4', r_ui=5.0, est=4.264093338932459, details={'was_impossible': True, 'reason': 'User and/or item is unkown.'}),\n",
       " Prediction(uid='A2SL5IW096Z2BL', iid='B0021AFZOI', r_ui=5.0, est=4.318181818181818, details={'actual_k': 0, 'was_impossible': False}),\n",
       " Prediction(uid='A2J8T58Z4X15IO', iid='B00CF9MNQI', r_ui=4.0, est=4.264093338932459, details={'was_impossible': True, 'reason': 'User and/or item is unkown.'}),\n",
       " Prediction(uid='A27TN8D0CZ8LUY', iid='B00F96PUNW', r_ui=5.0, est=4.264093338932459, details={'was_impossible': True, 'reason': 'User and/or item is unkown.'}),\n",
       " Prediction(uid='A2LF07KCXDR70D', iid='B00CTUIT20', r_ui=5.0, est=3.717948717948718, details={'actual_k': 0, 'was_impossible': False}),\n",
       " Prediction(uid='A1PS4OYWUB0VX', iid='B007P71IM0', r_ui=5.0, est=4.264705882352941, details={'actual_k': 0, 'was_impossible': False}),\n",
       " Prediction(uid='A2VALCFTOWFYXZ', iid='B008P4ZULW', r_ui=5.0, est=4.264093338932459, details={'was_impossible': True, 'reason': 'User and/or item is unkown.'}),\n",
       " Prediction(uid='A1UQBFCERIP7VJ', iid='B0084Y47SK', r_ui=5.0, est=4.548571428571429, details={'actual_k': 0, 'was_impossible': False}),\n",
       " Prediction(uid='A5A4374R8I7NB', iid='B004QU5GJU', r_ui=4.0, est=4.264093338932459, details={'was_impossible': True, 'reason': 'User and/or item is unkown.'}),\n",
       " Prediction(uid='A3OXHLG6DIBRW8', iid='B00681YJRA', r_ui=5.0, est=4.264093338932459, details={'was_impossible': True, 'reason': 'User and/or item is unkown.'}),\n",
       " Prediction(uid='AEZJTA4KDIWY8', iid='B000FIVDIA', r_ui=5.0, est=5, details={'actual_k': 1, 'was_impossible': False}),\n",
       " Prediction(uid='A25C2M3QF9G7OQ', iid='B00DN27H58', r_ui=4.0, est=3.705224123781009, details={'actual_k': 2, 'was_impossible': False}),\n",
       " Prediction(uid='A1VHCO8RQFIGQJ', iid='B005HQ5O8K', r_ui=4.0, est=4.438356164383562, details={'actual_k': 0, 'was_impossible': False}),\n",
       " Prediction(uid='A2QRXQPHDMFCQV', iid='B00BR3ZYIW', r_ui=3.0, est=2.531216481089759, details={'actual_k': 3, 'was_impossible': False}),\n",
       " Prediction(uid='AYOTEJ617O60K', iid='B00299G80Q', r_ui=4.0, est=3.9672131147540983, details={'actual_k': 0, 'was_impossible': False}),\n",
       " Prediction(uid='AG6TX1ZJHLMO7', iid='B00004TWM6', r_ui=5.0, est=4.4222222222222225, details={'actual_k': 0, 'was_impossible': False}),\n",
       " Prediction(uid='A3LSEIG2PIJYBL', iid='B0079RY5AI', r_ui=4.0, est=4.264093338932459, details={'was_impossible': True, 'reason': 'User and/or item is unkown.'}),\n",
       " Prediction(uid='AFFVUZEGP1FDQ', iid='B004CZ9U96', r_ui=2.0, est=2.546985797517203, details={'actual_k': 3, 'was_impossible': False}),\n",
       " Prediction(uid='AEWYUPCNDV7HY', iid='B000I68BD4', r_ui=4.0, est=4.745623969776805, details={'actual_k': 2, 'was_impossible': False}),\n",
       " Prediction(uid='A11EXFO14WEJM1', iid='B0006FNEBQ', r_ui=5.0, est=4.264093338932459, details={'was_impossible': True, 'reason': 'User and/or item is unkown.'}),\n",
       " Prediction(uid='A2V5M5EJPOD2IU', iid='B003XIJ3MW', r_ui=5.0, est=5, details={'actual_k': 1, 'was_impossible': False}),\n",
       " Prediction(uid='A303SNZ4AR7TDQ', iid='B007RQ0MDA', r_ui=4.0, est=4.125, details={'actual_k': 0, 'was_impossible': False}),\n",
       " Prediction(uid='A2UOHALGF2X77Q', iid='B00EDSI7QO', r_ui=3.0, est=4.40251572327044, details={'actual_k': 0, 'was_impossible': False}),\n",
       " Prediction(uid='A3OXHLG6DIBRW8', iid='B000V5IT3Y', r_ui=5.0, est=4.264093338932459, details={'was_impossible': True, 'reason': 'User and/or item is unkown.'}),\n",
       " Prediction(uid='A18GJ9MYYO6GCQ', iid='B002MPPHKY', r_ui=4.0, est=4.260822510822511, details={'actual_k': 1, 'was_impossible': False}),\n",
       " Prediction(uid='A14X244VGHWPSX', iid='B00CBQP718', r_ui=5.0, est=4.25531914893617, details={'actual_k': 0, 'was_impossible': False}),\n",
       " Prediction(uid='AUCIFMWP3DU8R', iid='B00HSQAIQU', r_ui=4.0, est=3.884746651491913, details={'actual_k': 5, 'was_impossible': False}),\n",
       " Prediction(uid='A3RGHO0Q938FRS', iid='B003DQPE40', r_ui=3.0, est=4.232558139534884, details={'actual_k': 0, 'was_impossible': False}),\n",
       " Prediction(uid='A20DZX38KRBIT8', iid='B0016OJXGQ', r_ui=1.0, est=2.526315789473684, details={'actual_k': 0, 'was_impossible': False}),\n",
       " Prediction(uid='A1YVO5V1SO18DZ', iid='B0057YI48O', r_ui=1.0, est=4.264093338932459, details={'was_impossible': True, 'reason': 'User and/or item is unkown.'}),\n",
       " Prediction(uid='A2OTQMC69J8MUI', iid='B005LAB07Q', r_ui=4.0, est=4.264093338932459, details={'was_impossible': True, 'reason': 'User and/or item is unkown.'}),\n",
       " Prediction(uid='A3F7USIDJBR8WU', iid='B008V226YC', r_ui=5.0, est=4.446428571428571, details={'actual_k': 0, 'was_impossible': False}),\n",
       " Prediction(uid='A3VBXQKRM7A4JR', iid='B000097O5F', r_ui=5.0, est=4.051282051282051, details={'actual_k': 0, 'was_impossible': False}),\n",
       " Prediction(uid='A3T8WOFS5RD2IR', iid='B00AZMYSYM', r_ui=2.0, est=4.54054054054054, details={'actual_k': 0, 'was_impossible': False}),\n",
       " Prediction(uid='A28BX3MM90A6FI', iid='B00009R6UJ', r_ui=4.0, est=4.442105263157895, details={'actual_k': 1, 'was_impossible': False}),\n",
       " Prediction(uid='A1F1A0QQP2XVH5', iid='B00BEGS4R0', r_ui=4.0, est=2.9156665474909023, details={'actual_k': 7, 'was_impossible': False}),\n",
       " Prediction(uid='A1AKW788238PWQ', iid='B0007MWE28', r_ui=5.0, est=4.32258064516129, details={'actual_k': 0, 'was_impossible': False}),\n",
       " Prediction(uid='A1CMD08Z49PGKQ', iid='B0055CR9R0', r_ui=5.0, est=4.264093338932459, details={'was_impossible': True, 'reason': 'User and/or item is unkown.'}),\n",
       " Prediction(uid='A141OPVE376YFI', iid='B00126V8WU', r_ui=2.0, est=4.73469387755102, details={'actual_k': 0, 'was_impossible': False}),\n",
       " Prediction(uid='A3OA4DV4L81N1D', iid='B004XYZI0Q', r_ui=4.0, est=3.9688116857481255, details={'actual_k': 1, 'was_impossible': False}),\n",
       " Prediction(uid='A2ZWJVKITA32OV', iid='B00EEOSZK0', r_ui=3.0, est=4.142857142857143, details={'actual_k': 0, 'was_impossible': False}),\n",
       " Prediction(uid='A2AF0NOCM71J0B', iid='B000TYHHGC', r_ui=5.0, est=4.264093338932459, details={'was_impossible': True, 'reason': 'User and/or item is unkown.'}),\n",
       " Prediction(uid='AH5BCMZELZSKG', iid='B000ECAW66', r_ui=2.0, est=4.264093338932459, details={'was_impossible': True, 'reason': 'User and/or item is unkown.'}),\n",
       " Prediction(uid='A2PICNZWHEINQC', iid='B004SD26Z2', r_ui=5.0, est=4.5, details={'actual_k': 0, 'was_impossible': False}),\n",
       " Prediction(uid='ATFBVUXDIRXT6', iid='B003WOWB5S', r_ui=4.0, est=4.422535211267606, details={'actual_k': 0, 'was_impossible': False}),\n",
       " Prediction(uid='A1X1CEGHTHMBL1', iid='B004X8EODY', r_ui=5.0, est=4.661538461538461, details={'actual_k': 1, 'was_impossible': False}),\n",
       " Prediction(uid='ABUE0ALHKWKHC', iid='B009CQNPXW', r_ui=5.0, est=4.264093338932459, details={'was_impossible': True, 'reason': 'User and/or item is unkown.'}),\n",
       " Prediction(uid='AROQO2VDODT7', iid='B002K42W50', r_ui=5.0, est=4.381818181818182, details={'actual_k': 0, 'was_impossible': False}),\n",
       " Prediction(uid='AK3GKIV8DEY8B', iid='B001Q2FM5E', r_ui=5.0, est=4.590361445783133, details={'actual_k': 0, 'was_impossible': False}),\n",
       " Prediction(uid='A2F2GLVFRNV7JJ', iid='B0001FTVEK', r_ui=5.0, est=4.533333333333333, details={'actual_k': 0, 'was_impossible': False}),\n",
       " Prediction(uid='AG35JCCQWDRCS', iid='B003UNOJ24', r_ui=5.0, est=4.264093338932459, details={'was_impossible': True, 'reason': 'User and/or item is unkown.'}),\n",
       " Prediction(uid='A1QNYLBG73QRNF', iid='B00006HOO1', r_ui=5.0, est=4.264093338932459, details={'was_impossible': True, 'reason': 'User and/or item is unkown.'}),\n",
       " Prediction(uid='A9Y5O2R4D6EH5', iid='B00004WCG6', r_ui=4.0, est=1, details={'actual_k': 1, 'was_impossible': False}),\n",
       " Prediction(uid='A2OBDNQ5ZYU1L8', iid='B002HEWA28', r_ui=5.0, est=4.17910447761194, details={'actual_k': 0, 'was_impossible': False}),\n",
       " Prediction(uid='A9LNWA25IM2DX', iid='B009SYZ8OC', r_ui=3.0, est=3.367393885359746, details={'actual_k': 4, 'was_impossible': False}),\n",
       " Prediction(uid='A1C5WS021EL3WO', iid='B001KN6WL2', r_ui=3.0, est=4.212590343411881, details={'actual_k': 1, 'was_impossible': False}),\n",
       " Prediction(uid='A1UCAVBNJUZMPR', iid='B0084OIY0M', r_ui=5.0, est=4.714285714285714, details={'actual_k': 0, 'was_impossible': False}),\n",
       " Prediction(uid='A274MXTX3DYLUV', iid='B007YXA5TC', r_ui=5.0, est=4.239130434782608, details={'actual_k': 0, 'was_impossible': False}),\n",
       " Prediction(uid='A3UQSOJW51UU9T', iid='B009SS0FZK', r_ui=5.0, est=4.0, details={'actual_k': 0, 'was_impossible': False}),\n",
       " Prediction(uid='A3IK2VCQ007CJ', iid='B0042LPLIE', r_ui=5.0, est=4.264093338932459, details={'was_impossible': True, 'reason': 'User and/or item is unkown.'}),\n",
       " Prediction(uid='A1MJMYLRTZ76ZX', iid='B00004ZCJE', r_ui=5.0, est=4.220588235294118, details={'actual_k': 0, 'was_impossible': False}),\n",
       " Prediction(uid='A2EW01G2LNJN06', iid='B003UBY03O', r_ui=4.0, est=4.264093338932459, details={'was_impossible': True, 'reason': 'User and/or item is unkown.'}),\n",
       " Prediction(uid='A3P69DTOXII004', iid='B00HRLSSF4', r_ui=4.0, est=4.264093338932459, details={'was_impossible': True, 'reason': 'User and/or item is unkown.'}),\n",
       " Prediction(uid='AS2II0671KT2C', iid='B003U4IROY', r_ui=5.0, est=4.666666666666667, details={'actual_k': 0, 'was_impossible': False}),\n",
       " Prediction(uid='A36A1ZYZH8568P', iid='B004Q3R9AQ', r_ui=5.0, est=3.179694968792445, details={'actual_k': 4, 'was_impossible': False}),\n",
       " Prediction(uid='A3PPO2X5PJE1L9', iid='B003ES61EE', r_ui=3.0, est=4.435897435897436, details={'actual_k': 0, 'was_impossible': False}),\n",
       " Prediction(uid='A3IJ4Z18FTIIP', iid='B0036Q7MV0', r_ui=4.0, est=3.914285714285714, details={'actual_k': 0, 'was_impossible': False}),\n",
       " Prediction(uid='A2V5M5EJPOD2IU', iid='B001V9LQC0', r_ui=5.0, est=4.790123456790123, details={'actual_k': 0, 'was_impossible': False}),\n",
       " Prediction(uid='A32AK8FOAZEPE2', iid='B007DZIC6E', r_ui=3.0, est=4.264093338932459, details={'was_impossible': True, 'reason': 'User and/or item is unkown.'}),\n",
       " Prediction(uid='A1F7YU6O5RU432', iid='B0064RY5PO', r_ui=5.0, est=4.2123096998695075, details={'actual_k': 1, 'was_impossible': False}),\n",
       " Prediction(uid='A2PL06HW6KZH2', iid='B0028E4SHC', r_ui=2.0, est=4.264093338932459, details={'was_impossible': True, 'reason': 'User and/or item is unkown.'}),\n",
       " Prediction(uid='A3E3EQ39FZTZEK', iid='B003YFHE9I', r_ui=5.0, est=3.340909090909091, details={'actual_k': 0, 'was_impossible': False}),\n",
       " Prediction(uid='ASCBJEPXTOU0V', iid='B00DN7ADIQ', r_ui=5.0, est=4.264093338932459, details={'was_impossible': True, 'reason': 'User and/or item is unkown.'}),\n",
       " Prediction(uid='A2O6HZ2B9YSRXR', iid='B002G1YPHA', r_ui=5.0, est=4.666238767650834, details={'actual_k': 1, 'was_impossible': False}),\n",
       " Prediction(uid='A28P7V9KI7MXP', iid='B00AASWYE2', r_ui=5.0, est=4.264093338932459, details={'was_impossible': True, 'reason': 'User and/or item is unkown.'}),\n",
       " Prediction(uid='A3SOJO7Z7R9WIA', iid='B004EXTGMM', r_ui=4.0, est=4.264093338932459, details={'was_impossible': True, 'reason': 'User and/or item is unkown.'}),\n",
       " Prediction(uid='A3LDPF5FMB782Z', iid='B000NOUP0S', r_ui=5.0, est=4.098039215686274, details={'actual_k': 0, 'was_impossible': False}),\n",
       " Prediction(uid='A3PD8JD9L4WEII', iid='B009WG6LLA', r_ui=4.0, est=3.5996866431649046, details={'actual_k': 1, 'was_impossible': False}),\n",
       " Prediction(uid='AULFLNWJP1QXY', iid='B001AYW91I', r_ui=4.0, est=3.5286414340992036, details={'actual_k': 3, 'was_impossible': False}),\n",
       " Prediction(uid='A7QMQBGJ2TCQG', iid='B00009R988', r_ui=5.0, est=4.264093338932459, details={'was_impossible': True, 'reason': 'User and/or item is unkown.'}),\n",
       " Prediction(uid='A2XU6J41ZQOJ2V', iid='B000PHW1UK', r_ui=3.0, est=4.264093338932459, details={'was_impossible': True, 'reason': 'User and/or item is unkown.'}),\n",
       " Prediction(uid='A1UQBFCERIP7VJ', iid='B00CY9Q9ZU', r_ui=5.0, est=4.264093338932459, details={'was_impossible': True, 'reason': 'User and/or item is unkown.'}),\n",
       " Prediction(uid='A2QNS95WGN35G9', iid='B0036WT4EW', r_ui=5.0, est=4.72972972972973, details={'actual_k': 0, 'was_impossible': False}),\n",
       " Prediction(uid='A3OXHLG6DIBRW8', iid='B000BYH8EQ', r_ui=5.0, est=4.698224435154305, details={'actual_k': 1, 'was_impossible': False}),\n",
       " Prediction(uid='A2TA40MV2H4O6F', iid='B003AM7V0C', r_ui=5.0, est=4.604166666666667, details={'actual_k': 0, 'was_impossible': False}),\n",
       " Prediction(uid='A1MJMYLRTZ76ZX', iid='B000059MSI', r_ui=4.0, est=4.220588235294118, details={'actual_k': 0, 'was_impossible': False}),\n",
       " Prediction(uid='A1TDR7Y90SVCHL', iid='B002RCNX8K', r_ui=5.0, est=4.346756459087278, details={'actual_k': 3, 'was_impossible': False}),\n",
       " Prediction(uid='AK3GKIV8DEY8B', iid='B002NU5O7O', r_ui=3.0, est=4.264093338932459, details={'was_impossible': True, 'reason': 'User and/or item is unkown.'}),\n",
       " Prediction(uid='AV9PIER7NE448', iid='B002AV7DIY', r_ui=5.0, est=4.264093338932459, details={'was_impossible': True, 'reason': 'User and/or item is unkown.'}),\n",
       " Prediction(uid='A2K5RRMPICZ606', iid='B004RTE5BA', r_ui=5.0, est=4.264093338932459, details={'was_impossible': True, 'reason': 'User and/or item is unkown.'}),\n",
       " Prediction(uid='ARX0KOX5Q01BJ', iid='B000LQFI2I', r_ui=5.0, est=3.488888888888889, details={'actual_k': 0, 'was_impossible': False}),\n",
       " Prediction(uid='A1NZLRAZJGD99W', iid='B0000222MY', r_ui=3.0, est=4.264093338932459, details={'was_impossible': True, 'reason': 'User and/or item is unkown.'}),\n",
       " Prediction(uid='A2W9GX82SLKROQ', iid='B002P370AI', r_ui=5.0, est=3.9789473684210526, details={'actual_k': 0, 'was_impossible': False}),\n",
       " Prediction(uid='A1VHCO8RQFIGQJ', iid='B005OU4Q9W', r_ui=5.0, est=4.438356164383562, details={'actual_k': 0, 'was_impossible': False}),\n",
       " Prediction(uid='A20UU20K7M9ZPF', iid='B009STMN9K', r_ui=1.0, est=4.211538461538462, details={'actual_k': 1, 'was_impossible': False}),\n",
       " Prediction(uid='A15QYHQH80W30L', iid='B000EE7E10', r_ui=5.0, est=4.264093338932459, details={'was_impossible': True, 'reason': 'User and/or item is unkown.'}),\n",
       " Prediction(uid='A2F92M62KN324B', iid='B002TPL260', r_ui=5.0, est=4.2631578947368425, details={'actual_k': 0, 'was_impossible': False}),\n",
       " Prediction(uid='A38QEATH3NODFM', iid='B000LD14PQ', r_ui=5.0, est=5, details={'actual_k': 1, 'was_impossible': False}),\n",
       " Prediction(uid='AVU1ILDDYW301', iid='B003FGF2MC', r_ui=4.0, est=3.4851916376306615, details={'actual_k': 1, 'was_impossible': False}),\n",
       " Prediction(uid='A3J6Q0Y0SKY7AR', iid='B000EI3W8U', r_ui=5.0, est=4.435897435897436, details={'actual_k': 0, 'was_impossible': False}),\n",
       " Prediction(uid='AYB4ELCS5AM8P', iid='B00DU4GE30', r_ui=5.0, est=4.264093338932459, details={'was_impossible': True, 'reason': 'User and/or item is unkown.'}),\n",
       " Prediction(uid='A2T3S3VTW65VO5', iid='B000EOPQ7E', r_ui=5.0, est=4.5636363636363635, details={'actual_k': 0, 'was_impossible': False}),\n",
       " Prediction(uid='AC9QEWWN4W9MC', iid='B0068Z8JBS', r_ui=4.0, est=4.264093338932459, details={'was_impossible': True, 'reason': 'User and/or item is unkown.'}),\n",
       " Prediction(uid='ADLVFFE4VBT8', iid='B005G0CUP2', r_ui=3.0, est=4.196785654543712, details={'actual_k': 2, 'was_impossible': False}),\n",
       " Prediction(uid='ALRCAGJOJ9583', iid='B002RQNVGA', r_ui=5.0, est=4.264093338932459, details={'was_impossible': True, 'reason': 'User and/or item is unkown.'}),\n",
       " Prediction(uid='A26BDXG9KVH7SU', iid='B005QCDY50', r_ui=4.0, est=3.3834714170252687, details={'actual_k': 12, 'was_impossible': False}),\n",
       " Prediction(uid='A11T807LX2EF00', iid='B000S5OWTM', r_ui=5.0, est=4.264093338932459, details={'was_impossible': True, 'reason': 'User and/or item is unkown.'}),\n",
       " Prediction(uid='A3CW0ZLUO5X2B1', iid='B000BRWHMQ', r_ui=4.0, est=4.19620253164557, details={'actual_k': 0, 'was_impossible': False}),\n",
       " Prediction(uid='A250AXLRBVYKB4', iid='B000GC98H8', r_ui=5.0, est=4.264093338932459, details={'was_impossible': True, 'reason': 'User and/or item is unkown.'}),\n",
       " Prediction(uid='A2Q204DY2L7YRP', iid='B002V88HFE', r_ui=5.0, est=5, details={'actual_k': 1, 'was_impossible': False}),\n",
       " Prediction(uid='A16QODENBJVUI1', iid='B000EXRSVM', r_ui=5.0, est=3.9450406504065034, details={'actual_k': 1, 'was_impossible': False}),\n",
       " Prediction(uid='A1ZCSSCAGBCD49', iid='B006EKIQYM', r_ui=5.0, est=4.448609718156253, details={'actual_k': 5, 'was_impossible': False}),\n",
       " Prediction(uid='A2SPV96SGOEO2', iid='B0069J29P0', r_ui=4.0, est=4.333333333333333, details={'actual_k': 0, 'was_impossible': False}),\n",
       " Prediction(uid='A2OS3TIVAKUAHG', iid='B00275EVAQ', r_ui=3.0, est=3.9583333333333335, details={'actual_k': 0, 'was_impossible': False}),\n",
       " Prediction(uid='A2J7FHZFKOKGZ6', iid='B009WRN6MQ', r_ui=5.0, est=4.264093338932459, details={'was_impossible': True, 'reason': 'User and/or item is unkown.'}),\n",
       " Prediction(uid='A26BDXG9KVH7SU', iid='B005TDWSJ4', r_ui=3.0, est=3.4664615931033294, details={'actual_k': 2, 'was_impossible': False}),\n",
       " Prediction(uid='AMKNPIDFLRFMP', iid='B0092MD8OW', r_ui=2.0, est=4.08, details={'actual_k': 0, 'was_impossible': False}),\n",
       " Prediction(uid='A2XRMQA6PJ5ZJ8', iid='B00E3AKF1C', r_ui=4.0, est=4.6, details={'actual_k': 0, 'was_impossible': False}),\n",
       " Prediction(uid='A1MNN0ZMHYPJDU', iid='B00281GS28', r_ui=5.0, est=4.264093338932459, details={'was_impossible': True, 'reason': 'User and/or item is unkown.'}),\n",
       " Prediction(uid='A2K5RRMPICZ606', iid='B0007Z1M50', r_ui=5.0, est=4.845505617977528, details={'actual_k': 1, 'was_impossible': False}),\n",
       " Prediction(uid='A38NHXL5257E3B', iid='B0042BUXG4', r_ui=2.0, est=4.596774193548387, details={'actual_k': 0, 'was_impossible': False}),\n",
       " Prediction(uid='AWNBZSEZ9P8BE', iid='B00BE68UZ6', r_ui=3.0, est=4.024127773968517, details={'actual_k': 2, 'was_impossible': False}),\n",
       " Prediction(uid='A19W47CXJJP1MI', iid='B00511PS3C', r_ui=5.0, est=4.570958380471543, details={'actual_k': 2, 'was_impossible': False}),\n",
       " Prediction(uid='AT28RL25Q2OLK', iid='B00BD7UXXS', r_ui=4.0, est=4.305357142857143, details={'actual_k': 1, 'was_impossible': False}),\n",
       " Prediction(uid='A2ULZRSHXS3HL7', iid='B00AUKBUHW', r_ui=1.0, est=4.275, details={'actual_k': 0, 'was_impossible': False}),\n",
       " Prediction(uid='A2TN0U8173HM7A', iid='B002HEQDA8', r_ui=5.0, est=4.264093338932459, details={'was_impossible': True, 'reason': 'User and/or item is unkown.'}),\n",
       " Prediction(uid='A1V4A5U5O3TMMD', iid='B009SOH9HG', r_ui=5.0, est=4.264093338932459, details={'was_impossible': True, 'reason': 'User and/or item is unkown.'}),\n",
       " Prediction(uid='A1SFPA80X7TRBR', iid='B000QUUFRW', r_ui=5.0, est=5, details={'actual_k': 2, 'was_impossible': False}),\n",
       " Prediction(uid='AHS6PX6H22WW1', iid='B000816CH6', r_ui=4.0, est=4.264093338932459, details={'was_impossible': True, 'reason': 'User and/or item is unkown.'}),\n",
       " Prediction(uid='A3DQWFWINN3V5A', iid='B00007IT9B', r_ui=4.0, est=4.264093338932459, details={'was_impossible': True, 'reason': 'User and/or item is unkown.'}),\n",
       " Prediction(uid='A1YN5I4FINMBTI', iid='B004W2JKWG', r_ui=5.0, est=3.9564902492029583, details={'actual_k': 5, 'was_impossible': False}),\n",
       " Prediction(uid='AN81JUYW2SL24', iid='B0030HO6SM', r_ui=4.0, est=4.264093338932459, details={'was_impossible': True, 'reason': 'User and/or item is unkown.'}),\n",
       " Prediction(uid='A1ZCSSCAGBCD49', iid='B001L2MJO6', r_ui=4.0, est=3.7249637044523842, details={'actual_k': 3, 'was_impossible': False}),\n",
       " Prediction(uid='A2XX2A4OJCDNLZ', iid='B005I7X3RC', r_ui=5.0, est=4.323437274154029, details={'actual_k': 3, 'was_impossible': False}),\n",
       " Prediction(uid='A1QRST0A3IQIEF', iid='B008VD4TLY', r_ui=5.0, est=4.944444444444445, details={'actual_k': 0, 'was_impossible': False}),\n",
       " Prediction(uid='AAR7CEPXYJA0T', iid='B00002EQCW', r_ui=2.0, est=3.647887323943662, details={'actual_k': 0, 'was_impossible': False}),\n",
       " Prediction(uid='A3N4VTNFPMTHEF', iid='B001A834C2', r_ui=5.0, est=4.264093338932459, details={'was_impossible': True, 'reason': 'User and/or item is unkown.'}),\n",
       " Prediction(uid='A25QJBK33C4O0R', iid='B003XMAD22', r_ui=2.0, est=3.84375, details={'actual_k': 0, 'was_impossible': False}),\n",
       " Prediction(uid='A1TDR7Y90SVCHL', iid='B002A17OG0', r_ui=5.0, est=4.338709677419355, details={'actual_k': 0, 'was_impossible': False}),\n",
       " Prediction(uid='A353U0L2HAMSHV', iid='B00BUHXQWQ', r_ui=5.0, est=4.504411764705883, details={'actual_k': 1, 'was_impossible': False}),\n",
       " Prediction(uid='A2SATO5BNKWY3Y', iid='B001JT5J1G', r_ui=5.0, est=4.264093338932459, details={'was_impossible': True, 'reason': 'User and/or item is unkown.'}),\n",
       " Prediction(uid='A3SQCTNYQFVBWM', iid='B000R4X7PY', r_ui=5.0, est=4.264093338932459, details={'was_impossible': True, 'reason': 'User and/or item is unkown.'}),\n",
       " Prediction(uid='A25RTRAPQAJBDJ', iid='B00JY4QCJQ', r_ui=4.0, est=4.333333333333333, details={'actual_k': 0, 'was_impossible': False}),\n",
       " Prediction(uid='A3IJL9A50KVVZ1', iid='B003O55U8K', r_ui=5.0, est=4.761904761904762, details={'actual_k': 0, 'was_impossible': False}),\n",
       " Prediction(uid='A23R3EOZ837242', iid='B005OKJW1Y', r_ui=4.0, est=4.065217391304348, details={'actual_k': 0, 'was_impossible': False}),\n",
       " Prediction(uid='A3S0EHEIR52HP1', iid='B000BZATW8', r_ui=5.0, est=4.701754385964913, details={'actual_k': 0, 'was_impossible': False}),\n",
       " Prediction(uid='A2LB4FLRZG6CUV', iid='B000WAHFBK', r_ui=4.0, est=4.318840579710145, details={'actual_k': 0, 'was_impossible': False}),\n",
       " Prediction(uid='A3CW0ZLUO5X2B1', iid='B000NZVR3Q', r_ui=4.0, est=3.7936868083751296, details={'actual_k': 1, 'was_impossible': False}),\n",
       " Prediction(uid='A3MQ15651KGVLJ', iid='B000N99BBC', r_ui=5.0, est=5, details={'actual_k': 17, 'was_impossible': False}),\n",
       " Prediction(uid='A319Y83RT0MRVR', iid='B00E5UHRIO', r_ui=5.0, est=3.8624721296104108, details={'actual_k': 7, 'was_impossible': False}),\n",
       " Prediction(uid='A1EXGL6L0QQ0M5', iid='B004Y1AYAC', r_ui=5.0, est=5, details={'actual_k': 2, 'was_impossible': False}),\n",
       " Prediction(uid='AW6FQE5QRF2LM', iid='B008DVMRXG', r_ui=4.0, est=4.7105263157894735, details={'actual_k': 0, 'was_impossible': False}),\n",
       " Prediction(uid='A3L9E0YI7C5G0W', iid='B000OFWJO6', r_ui=5.0, est=4.559770540340488, details={'actual_k': 1, 'was_impossible': False}),\n",
       " Prediction(uid='A3JU16JTNLVK1J', iid='B000MD7148', r_ui=2.0, est=4.264093338932459, details={'was_impossible': True, 'reason': 'User and/or item is unkown.'}),\n",
       " Prediction(uid='AAEVGE52KL0DJ', iid='B004CLYEI2', r_ui=5.0, est=4.654545454545454, details={'actual_k': 0, 'was_impossible': False}),\n",
       " Prediction(uid='A2EN82VBJT44QP', iid='B000WH86BQ', r_ui=5.0, est=4.379310344827586, details={'actual_k': 0, 'was_impossible': False}),\n",
       " Prediction(uid='A2XA8CW5DF4MNZ', iid='B001F51G0W', r_ui=5.0, est=4.523809523809524, details={'actual_k': 0, 'was_impossible': False}),\n",
       " Prediction(uid='A2EMUM49CE0JV4', iid='B001GGAIGI', r_ui=5.0, est=4.880952380952381, details={'actual_k': 0, 'was_impossible': False}),\n",
       " Prediction(uid='A35HNL2VEDK9Z1', iid='B0050DQSLW', r_ui=4.0, est=4.264093338932459, details={'was_impossible': True, 'reason': 'User and/or item is unkown.'}),\n",
       " Prediction(uid='A2WBVO6X3KPMDT', iid='B004GGMU4I', r_ui=5.0, est=4.264093338932459, details={'was_impossible': True, 'reason': 'User and/or item is unkown.'}),\n",
       " Prediction(uid='A3NHUQ33CFH3VM', iid='B00CB25RCQ', r_ui=5.0, est=4.264093338932459, details={'was_impossible': True, 'reason': 'User and/or item is unkown.'}),\n",
       " Prediction(uid='A1NGFGBX2VCQS8', iid='B008HO9DK4', r_ui=5.0, est=4.578489702517163, details={'actual_k': 1, 'was_impossible': False}),\n",
       " Prediction(uid='A32QOZWIKQDNZX', iid='B0007GIXS8', r_ui=5.0, est=4.442857142857143, details={'actual_k': 0, 'was_impossible': False}),\n",
       " Prediction(uid='A1TQBAHI3M4ZBQ', iid='B00007M1TZ', r_ui=5.0, est=4.738095238095238, details={'actual_k': 0, 'was_impossible': False}),\n",
       " Prediction(uid='A3094EPI56GKZ6', iid='B0002J26LA', r_ui=5.0, est=4.264093338932459, details={'was_impossible': True, 'reason': 'User and/or item is unkown.'}),\n",
       " Prediction(uid='A2PSD2R9A1CXG7', iid='B003656Q7C', r_ui=4.0, est=1.7184278350515463, details={'actual_k': 1, 'was_impossible': False}),\n",
       " Prediction(uid='A2YEOR4XJ8N3QE', iid='B000N7DY7Q', r_ui=5.0, est=4.188679245283019, details={'actual_k': 0, 'was_impossible': False}),\n",
       " Prediction(uid='A21T0D2F7SKG5S', iid='B000BH5OW6', r_ui=4.0, est=3.902439024390244, details={'actual_k': 0, 'was_impossible': False}),\n",
       " Prediction(uid='A2XPK6XCL0UH1S', iid='B00063ZVJQ', r_ui=1.0, est=4.026315789473684, details={'actual_k': 0, 'was_impossible': False}),\n",
       " Prediction(uid='A2ZY49IDE6TY5I', iid='B000VZP040', r_ui=4.0, est=4.036585365853658, details={'actual_k': 0, 'was_impossible': False}),\n",
       " Prediction(uid='A3VC74TJ06WDDD', iid='B007KZQM9G', r_ui=5.0, est=4.297872340425532, details={'actual_k': 0, 'was_impossible': False}),\n",
       " Prediction(uid='A32T2H8150OJLU', iid='B0011ZCDKS', r_ui=5.0, est=4.5813953488372094, details={'actual_k': 0, 'was_impossible': False}),\n",
       " Prediction(uid='A33YZNZIRA3H97', iid='B000MX48VM', r_ui=5.0, est=4.628966345353258, details={'actual_k': 3, 'was_impossible': False}),\n",
       " Prediction(uid='A2RIXSMGE9VIBG', iid='B009NHAEXE', r_ui=4.0, est=3.707317073170732, details={'actual_k': 0, 'was_impossible': False}),\n",
       " Prediction(uid='A1VQHH85U7PX0', iid='B000V5CVU6', r_ui=5.0, est=4.264093338932459, details={'was_impossible': True, 'reason': 'User and/or item is unkown.'}),\n",
       " Prediction(uid='AS269J1OGZT1V', iid='B005CLMVZO', r_ui=4.0, est=3.769230769230769, details={'actual_k': 0, 'was_impossible': False}),\n",
       " Prediction(uid='A178M2AHNWQZB0', iid='B003KKFKSY', r_ui=4.0, est=4.264093338932459, details={'was_impossible': True, 'reason': 'User and/or item is unkown.'}),\n",
       " Prediction(uid='A2L0F2T1DLTNT8', iid='B001G48SEY', r_ui=5.0, est=4.264093338932459, details={'was_impossible': True, 'reason': 'User and/or item is unkown.'}),\n",
       " Prediction(uid='A253IOATGMT2UP', iid='B0092HP3GS', r_ui=5.0, est=4.4655172413793105, details={'actual_k': 0, 'was_impossible': False}),\n",
       " Prediction(uid='A2BCDZO1XQLDH', iid='B00063KO5C', r_ui=5.0, est=4.264093338932459, details={'was_impossible': True, 'reason': 'User and/or item is unkown.'}),\n",
       " Prediction(uid='A2OKRGHIYTBQ6P', iid='B00076RJV0', r_ui=1.0, est=4.477611940298507, details={'actual_k': 0, 'was_impossible': False}),\n",
       " Prediction(uid='A2BCDZO1XQLDH', iid='B000I5PGOM', r_ui=5.0, est=4.264093338932459, details={'was_impossible': True, 'reason': 'User and/or item is unkown.'}),\n",
       " Prediction(uid='AONUCJBC85BL', iid='B001QFZFS0', r_ui=4.0, est=3.941747572815534, details={'actual_k': 0, 'was_impossible': False}),\n",
       " Prediction(uid='A2IFGGXG3YV3Y6', iid='B004UUSDIM', r_ui=2.0, est=4.264093338932459, details={'was_impossible': True, 'reason': 'User and/or item is unkown.'}),\n",
       " Prediction(uid='A2HV76MYH7UL3S', iid='B008E3M4QS', r_ui=5.0, est=4.264093338932459, details={'was_impossible': True, 'reason': 'User and/or item is unkown.'}),\n",
       " Prediction(uid='A2503LT8PZIHAD', iid='B004CLYJ1Y', r_ui=3.0, est=3.232775048190308, details={'actual_k': 4, 'was_impossible': False}),\n",
       " Prediction(uid='A31ICLWQ9CSHRS', iid='B004FEEY9A', r_ui=5.0, est=4.204081632653061, details={'actual_k': 0, 'was_impossible': False}),\n",
       " Prediction(uid='A2TKWMX4563NR6', iid='B00884QRPM', r_ui=5.0, est=4.264093338932459, details={'was_impossible': True, 'reason': 'User and/or item is unkown.'}),\n",
       " Prediction(uid='A3R19YKNL641X3', iid='B0011FOOI2', r_ui=4.0, est=4.3299163382321435, details={'actual_k': 4, 'was_impossible': False}),\n",
       " Prediction(uid='A2J96FILPQA01', iid='B000VX6XL6', r_ui=5.0, est=5, details={'actual_k': 1, 'was_impossible': False}),\n",
       " Prediction(uid='A34CSXOGVYF94S', iid='B008X9Z3UC', r_ui=5.0, est=4.406525877191668, details={'actual_k': 4, 'was_impossible': False}),\n",
       " Prediction(uid='A3CG93783LP0FO', iid='B00336EHEI', r_ui=3.0, est=4.137931034482759, details={'actual_k': 0, 'was_impossible': False}),\n",
       " Prediction(uid='A3PD8JD9L4WEII', iid='B00C20KWP4', r_ui=5.0, est=5, details={'actual_k': 1, 'was_impossible': False}),\n",
       " Prediction(uid='AR1T36GLLAFFX', iid='B003HD68C6', r_ui=5.0, est=4.264093338932459, details={'was_impossible': True, 'reason': 'User and/or item is unkown.'}),\n",
       " Prediction(uid='A1K4G5YJDJQI6Q', iid='B0018Q09C4', r_ui=1.0, est=4.264093338932459, details={'was_impossible': True, 'reason': 'User and/or item is unkown.'}),\n",
       " Prediction(uid='A15QYHQH80W30L', iid='B00009R93R', r_ui=2.0, est=4.264093338932459, details={'was_impossible': True, 'reason': 'User and/or item is unkown.'}),\n",
       " Prediction(uid='A1ZTR0FR5AW9B4', iid='B00448MV88', r_ui=4.0, est=4.264093338932459, details={'was_impossible': True, 'reason': 'User and/or item is unkown.'}),\n",
       " Prediction(uid='A3223W5IROMYTY', iid='B004NBZAES', r_ui=5.0, est=4.833914053426248, details={'actual_k': 1, 'was_impossible': False}),\n",
       " Prediction(uid='A2JOPUWVV0XQJ3', iid='B004UR16ES', r_ui=5.0, est=3.6818181818181817, details={'actual_k': 0, 'was_impossible': False}),\n",
       " Prediction(uid='A1RL1OTV8IJMVD', iid='B006FXVT6K', r_ui=4.0, est=3.3857736935604663, details={'actual_k': 3, 'was_impossible': False}),\n",
       " Prediction(uid='A28RSMADFCBJDT', iid='B00452V66G', r_ui=2.0, est=4.3441558441558445, details={'actual_k': 1, 'was_impossible': False}),\n",
       " Prediction(uid='A3FPSY1M6G7XIB', iid='B000FG6CO2', r_ui=5.0, est=4.428571428571429, details={'actual_k': 0, 'was_impossible': False}),\n",
       " Prediction(uid='A1Z4GII5CHCDG7', iid='B003XKL7ME', r_ui=4.0, est=4.264093338932459, details={'was_impossible': True, 'reason': 'User and/or item is unkown.'}),\n",
       " Prediction(uid='A28UMA3GW9L124', iid='B002O3W2OI', r_ui=3.0, est=3.330526223811779, details={'actual_k': 3, 'was_impossible': False}),\n",
       " Prediction(uid='ASRA2UZ3JV87B', iid='B0036VO4M0', r_ui=4.0, est=4.264093338932459, details={'was_impossible': True, 'reason': 'User and/or item is unkown.'}),\n",
       " Prediction(uid='A3QD59N3M7O7KB', iid='B000JV9NL2', r_ui=4.0, est=4.333333333333333, details={'actual_k': 0, 'was_impossible': False}),\n",
       " Prediction(uid='ARBKYIVNYWK3C', iid='B000I96B2O', r_ui=5.0, est=4.264093338932459, details={'was_impossible': True, 'reason': 'User and/or item is unkown.'}),\n",
       " Prediction(uid='A27H61OHW44XA7', iid='B000MSC4Z4', r_ui=5.0, est=4.512820512820513, details={'actual_k': 0, 'was_impossible': False}),\n",
       " Prediction(uid='A2ZGDHLJ85T6AD', iid='B008DH4XJQ', r_ui=5.0, est=4.486486486486487, details={'actual_k': 0, 'was_impossible': False}),\n",
       " Prediction(uid='A2X78O6G89CB30', iid='B000RFR696', r_ui=5.0, est=4.6, details={'actual_k': 0, 'was_impossible': False}),\n",
       " Prediction(uid='A2EW01G2LNJN06', iid='B007ZSYHYU', r_ui=5.0, est=4.264093338932459, details={'was_impossible': True, 'reason': 'User and/or item is unkown.'}),\n",
       " Prediction(uid='A2PY5ED630H0QJ', iid='B00113LKZY', r_ui=5.0, est=4.264093338932459, details={'was_impossible': True, 'reason': 'User and/or item is unkown.'}),\n",
       " Prediction(uid='A3KZEGBTPH6MMF', iid='B00EMHVVLY', r_ui=5.0, est=3.4486711648924127, details={'actual_k': 3, 'was_impossible': False}),\n",
       " Prediction(uid='AGXV8E7XK9J6H', iid='B00004WCG6', r_ui=4.0, est=1, details={'actual_k': 1, 'was_impossible': False}),\n",
       " Prediction(uid='A1M7HP5CHDXXOU', iid='B0018OPKFW', r_ui=4.0, est=4.428571428571429, details={'actual_k': 0, 'was_impossible': False}),\n",
       " Prediction(uid='A2D1LPEUCTNT8X', iid='B000VY2BC0', r_ui=5.0, est=4.53932584269663, details={'actual_k': 0, 'was_impossible': False}),\n",
       " Prediction(uid='A233TZONT1OGR0', iid='B002C73WRM', r_ui=5.0, est=4.264093338932459, details={'was_impossible': True, 'reason': 'User and/or item is unkown.'}),\n",
       " Prediction(uid='A3OXHLG6DIBRW8', iid='B0018M7ZES', r_ui=4.0, est=5, details={'actual_k': 1, 'was_impossible': False}),\n",
       " Prediction(uid='A1REY92IEZJUSX', iid='B00AE1L59K', r_ui=5.0, est=4.264093338932459, details={'was_impossible': True, 'reason': 'User and/or item is unkown.'}),\n",
       " Prediction(uid='A1LYMYNURB9EWW', iid='B00884WH74', r_ui=4.0, est=4.492317263293209, details={'actual_k': 4, 'was_impossible': False}),\n",
       " Prediction(uid='A3EFSLEMHNPP6A', iid='B0035JJJPU', r_ui=4.0, est=4.323685396218143, details={'actual_k': 2, 'was_impossible': False}),\n",
       " Prediction(uid='A3S5WYWYKSAI9C', iid='B00HGLOQ24', r_ui=4.0, est=3.7688445764410834, details={'actual_k': 3, 'was_impossible': False}),\n",
       " Prediction(uid='A1IDAKX7OM3QIE', iid='B000X38ZO2', r_ui=4.0, est=3.3870967741935485, details={'actual_k': 0, 'was_impossible': False}),\n",
       " Prediction(uid='A1Z3598J0371ND', iid='B00FGOTBQO', r_ui=5.0, est=4.5813953488372094, details={'actual_k': 0, 'was_impossible': False}),\n",
       " Prediction(uid='A1M7HP5CHDXXOU', iid='B0012WXFO8', r_ui=5.0, est=4.428571428571429, details={'actual_k': 0, 'was_impossible': False}),\n",
       " Prediction(uid='A2MJ8OL2FYN7CW', iid='B00CPGYNV4', r_ui=5.0, est=4.363636363636363, details={'actual_k': 0, 'was_impossible': False}),\n",
       " Prediction(uid='A2J8T58Z4X15IO', iid='B001B99I34', r_ui=4.0, est=4.380053908355795, details={'actual_k': 1, 'was_impossible': False}),\n",
       " Prediction(uid='A2Y1WNETD9AYHO', iid='B002O1S8IE', r_ui=5.0, est=4.15, details={'actual_k': 0, 'was_impossible': False}),\n",
       " Prediction(uid='A1J75JJ0Q2OEJN', iid='B005DSPLCQ', r_ui=5.0, est=4.360972121022211, details={'actual_k': 7, 'was_impossible': False}),\n",
       " Prediction(uid='AP53MVRC8ZEW2', iid='B003LL1X1A', r_ui=5.0, est=4.264093338932459, details={'was_impossible': True, 'reason': 'User and/or item is unkown.'}),\n",
       " Prediction(uid='AL5CUWBFBMWYQ', iid='B001BAWX80', r_ui=3.0, est=2.869343891402715, details={'actual_k': 1, 'was_impossible': False}),\n",
       " Prediction(uid='A2ZR3YTMEEIIZ4', iid='B000IQUQXM', r_ui=5.0, est=4.264093338932459, details={'was_impossible': True, 'reason': 'User and/or item is unkown.'}),\n",
       " Prediction(uid='A15J9K7O10A3M6', iid='B000KZALSG', r_ui=5.0, est=4.295454545454546, details={'actual_k': 0, 'was_impossible': False}),\n",
       " Prediction(uid='AOWF9T81XMX2S', iid='B00DIFIM36', r_ui=2.0, est=3.431793770139635, details={'actual_k': 1, 'was_impossible': False}),\n",
       " Prediction(uid='A3UW0PQLDUACMH', iid='B00FRMAOIO', r_ui=5.0, est=5, details={'actual_k': 2, 'was_impossible': False}),\n",
       " Prediction(uid='A1MRPX3RM48T2I', iid='B00E40QPX8', r_ui=4.0, est=4.443181818181818, details={'actual_k': 0, 'was_impossible': False}),\n",
       " Prediction(uid='A231WM2Z2JL0U3', iid='B00006HCCK', r_ui=5.0, est=4.344262295081967, details={'actual_k': 0, 'was_impossible': False}),\n",
       " Prediction(uid='A1KDUQ2HU0WD68', iid='B0081H8TRA', r_ui=5.0, est=4.578639086261882, details={'actual_k': 5, 'was_impossible': False}),\n",
       " Prediction(uid='A1F9Z42CFF9IAY', iid='B001CONJ74', r_ui=4.0, est=4.264093338932459, details={'was_impossible': True, 'reason': 'User and/or item is unkown.'}),\n",
       " Prediction(uid='A27T4RQ3XA661C', iid='B00B7MWQE8', r_ui=5.0, est=4.264093338932459, details={'was_impossible': True, 'reason': 'User and/or item is unkown.'}),\n",
       " Prediction(uid='AT09WGFUM934H', iid='B009WESJEY', r_ui=4.0, est=4.264093338932459, details={'was_impossible': True, 'reason': 'User and/or item is unkown.'}),\n",
       " Prediction(uid='A1CST2WUA32GP0', iid='B003VANO7C', r_ui=5.0, est=3.951219512195122, details={'actual_k': 0, 'was_impossible': False}),\n",
       " Prediction(uid='A2X78O6G89CB30', iid='B001EPVOQY', r_ui=5.0, est=4.6, details={'actual_k': 0, 'was_impossible': False}),\n",
       " Prediction(uid='ACH055GTTIGC9', iid='B0016BENFA', r_ui=5.0, est=4.264093338932459, details={'was_impossible': True, 'reason': 'User and/or item is unkown.'}),\n",
       " Prediction(uid='A5KMMY627T3W', iid='B0009JR3N4', r_ui=5.0, est=4.264093338932459, details={'was_impossible': True, 'reason': 'User and/or item is unkown.'}),\n",
       " Prediction(uid='A2TKWMX4563NR6', iid='B002STGF6O', r_ui=5.0, est=4.264093338932459, details={'was_impossible': True, 'reason': 'User and/or item is unkown.'}),\n",
       " Prediction(uid='A2PZXXPGLXXKZU', iid='B007JGB6X8', r_ui=3.0, est=4.264093338932459, details={'was_impossible': True, 'reason': 'User and/or item is unkown.'}),\n",
       " Prediction(uid='A2F92M62KN324B', iid='B002JQNXZC', r_ui=2.0, est=4.2631578947368425, details={'actual_k': 0, 'was_impossible': False}),\n",
       " Prediction(uid='A213J54E63SYOP', iid='B002YKPWH0', r_ui=5.0, est=4.264093338932459, details={'was_impossible': True, 'reason': 'User and/or item is unkown.'}),\n",
       " Prediction(uid='A1V4A5U5O3TMMD', iid='B0021AEM3S', r_ui=5.0, est=4.264093338932459, details={'was_impossible': True, 'reason': 'User and/or item is unkown.'}),\n",
       " Prediction(uid='A2AF0NOCM71J0B', iid='B0088CJT4U', r_ui=4.0, est=4.409673245705234, details={'actual_k': 14, 'was_impossible': False}),\n",
       " Prediction(uid='A2JAEZ0FMAMJVW', iid='B00EOI2TD0', r_ui=4.0, est=3.3420689655172415, details={'actual_k': 1, 'was_impossible': False}),\n",
       " Prediction(uid='ARX7Z3NI6O0F7', iid='B004L0L37Y', r_ui=5.0, est=4.341772151898734, details={'actual_k': 0, 'was_impossible': False}),\n",
       " Prediction(uid='A2RWHTNM5P3I8Y', iid='B006I5MKZY', r_ui=3.0, est=3.750022958890108, details={'actual_k': 8, 'was_impossible': False}),\n",
       " Prediction(uid='A213J54E63SYOP', iid='B000HGMM9Y', r_ui=4.0, est=4.264093338932459, details={'was_impossible': True, 'reason': 'User and/or item is unkown.'}),\n",
       " Prediction(uid='A3OA4DV4L81N1D', iid='B007SG98CA', r_ui=4.0, est=4.557046979865772, details={'actual_k': 0, 'was_impossible': False}),\n",
       " Prediction(uid='A7UPJYPAH73NC', iid='B008HU9R7W', r_ui=5.0, est=2.3792207792207796, details={'actual_k': 1, 'was_impossible': False}),\n",
       " Prediction(uid='AKSFZ4G1AXYFC', iid='B000PD9TG8', r_ui=4.0, est=4.264093338932459, details={'was_impossible': True, 'reason': 'User and/or item is unkown.'}),\n",
       " Prediction(uid='ADLVFFE4VBT8', iid='B002PJVUFS', r_ui=4.0, est=4.264093338932459, details={'was_impossible': True, 'reason': 'User and/or item is unkown.'}),\n",
       " Prediction(uid='A2503LT8PZIHAD', iid='B001CZF318', r_ui=5.0, est=4.264093338932459, details={'was_impossible': True, 'reason': 'User and/or item is unkown.'}),\n",
       " Prediction(uid='A2OOXVZ6B1VZ9A', iid='B004SOLALC', r_ui=3.0, est=4.264093338932459, details={'was_impossible': True, 'reason': 'User and/or item is unkown.'}),\n",
       " Prediction(uid='AAXAKFQEAQPWC', iid='B000U39Y9K', r_ui=3.0, est=4.264093338932459, details={'was_impossible': True, 'reason': 'User and/or item is unkown.'}),\n",
       " Prediction(uid='A20DDH4NT6Q1E8', iid='B00HFW1E1A', r_ui=4.0, est=5, details={'actual_k': 1, 'was_impossible': False}),\n",
       " Prediction(uid='A10AFVU66A79Y1', iid='B00CT0BWHE', r_ui=5.0, est=4.900825206301576, details={'actual_k': 1, 'was_impossible': False}),\n",
       " Prediction(uid='A2V7EO331SFUF6', iid='B000XA8766', r_ui=4.0, est=4.264093338932459, details={'was_impossible': True, 'reason': 'User and/or item is unkown.'}),\n",
       " Prediction(uid='A27TN8D0CZ8LUY', iid='B007KI7BOI', r_ui=3.0, est=4.264093338932459, details={'was_impossible': True, 'reason': 'User and/or item is unkown.'}),\n",
       " Prediction(uid='AGEKVD8JPZQMT', iid='B0009JMUH8', r_ui=5.0, est=4.264093338932459, details={'was_impossible': True, 'reason': 'User and/or item is unkown.'}),\n",
       " Prediction(uid='A1H6SBO7R007I8', iid='B007FL6100', r_ui=1.0, est=3.8679245283018866, details={'actual_k': 0, 'was_impossible': False}),\n",
       " Prediction(uid='A2BUQ240COLAOP', iid='B000MPDT06', r_ui=4.0, est=4.264093338932459, details={'was_impossible': True, 'reason': 'User and/or item is unkown.'}),\n",
       " Prediction(uid='A3P1508PZ0UADD', iid='B000ME8R22', r_ui=1.0, est=4.264093338932459, details={'was_impossible': True, 'reason': 'User and/or item is unkown.'}),\n",
       " Prediction(uid='A3QKIR8J56EUI1', iid='B004UL34EY', r_ui=2.0, est=2.891891891891892, details={'actual_k': 0, 'was_impossible': False}),\n",
       " Prediction(uid='A1TR1R2QKWRSRA', iid='B004CLYEH8', r_ui=4.0, est=3.847049526370474, details={'actual_k': 14, 'was_impossible': False}),\n",
       " Prediction(uid='AOTZOHB2LZGYR', iid='B000UEZ36W', r_ui=5.0, est=4.40625, details={'actual_k': 0, 'was_impossible': False}),\n",
       " Prediction(uid='ANEXFROORI6F6', iid='B0014E0ZWO', r_ui=5.0, est=4.264093338932459, details={'was_impossible': True, 'reason': 'User and/or item is unkown.'}),\n",
       " Prediction(uid='A3PD8JD9L4WEII', iid='B0086OGLUK', r_ui=5.0, est=4.324324324324325, details={'actual_k': 0, 'was_impossible': False}),\n",
       " Prediction(uid='A2M14CFAMF8J7I', iid='B004T9RR6I', r_ui=5.0, est=4.676190606187951, details={'actual_k': 7, 'was_impossible': False}),\n",
       " Prediction(uid='A4IEUHNRFZO0', iid='B0044D1788', r_ui=5.0, est=4.541666666666667, details={'actual_k': 0, 'was_impossible': False}),\n",
       " Prediction(uid='A23QII83UGZP5U', iid='B00HFRWWAM', r_ui=4.0, est=4.037470725995316, details={'actual_k': 1, 'was_impossible': False}),\n",
       " Prediction(uid='A7FDGFK0KN7QG', iid='B0087BEHRG', r_ui=4.0, est=4.264093338932459, details={'was_impossible': True, 'reason': 'User and/or item is unkown.'}),\n",
       " Prediction(uid='A2RN2AO4BE6F4K', iid='B006WHPQE0', r_ui=3.0, est=3.742337662337662, details={'actual_k': 1, 'was_impossible': False}),\n",
       " Prediction(uid='A3U41ZL33SS92P', iid='B00KWHMR6G', r_ui=2.0, est=4.264093338932459, details={'was_impossible': True, 'reason': 'User and/or item is unkown.'}),\n",
       " Prediction(uid='A2JKM8KF3296CW', iid='B00EVIBN26', r_ui=4.0, est=3.7753251872290106, details={'actual_k': 1, 'was_impossible': False}),\n",
       " Prediction(uid='AN9CP6J4JF91X', iid='B00007EDZG', r_ui=5.0, est=4.972442866272079, details={'actual_k': 2, 'was_impossible': False}),\n",
       " Prediction(uid='A1KKE6VX8VPWZK', iid='B001FN14RE', r_ui=5.0, est=4.6716417910447765, details={'actual_k': 0, 'was_impossible': False}),\n",
       " Prediction(uid='A3N0P5AAMP6XD2', iid='B000NQ16NG', r_ui=4.0, est=3.6307692307692307, details={'actual_k': 0, 'was_impossible': False}),\n",
       " Prediction(uid='A3FPSY1M6G7XIB', iid='B00352LU5E', r_ui=2.0, est=4.264093338932459, details={'was_impossible': True, 'reason': 'User and/or item is unkown.'}),\n",
       " Prediction(uid='A5JLAU2ARJ0BO', iid='B000DZFTZS', r_ui=5.0, est=4.264093338932459, details={'was_impossible': True, 'reason': 'User and/or item is unkown.'}),\n",
       " Prediction(uid='A32NEDX6UVV8DE', iid='B009PK95RA', r_ui=4.0, est=4.462962962962963, details={'actual_k': 0, 'was_impossible': False}),\n",
       " Prediction(uid='A2YW6XOID7GV6G', iid='B00449F6I4', r_ui=5.0, est=3.8, details={'actual_k': 0, 'was_impossible': False}),\n",
       " Prediction(uid='AA95DWUI3ODU', iid='B003FMUPA0', r_ui=3.0, est=4.0, details={'actual_k': 0, 'was_impossible': False}),\n",
       " Prediction(uid='A2F2F7N94SR1KQ', iid='B0024R4B5C', r_ui=4.0, est=4.0625, details={'actual_k': 0, 'was_impossible': False}),\n",
       " Prediction(uid='A25C2M3QF9G7OQ', iid='B00ARB5FLQ', r_ui=4.0, est=4.4196601197448695, details={'actual_k': 21, 'was_impossible': False}),\n",
       " Prediction(uid='A37CEYB95LK6R6', iid='B00EFILVQU', r_ui=4.0, est=4.430555555555555, details={'actual_k': 0, 'was_impossible': False}),\n",
       " Prediction(uid='A2NU9H8H5MJZSL', iid='B000AM24DO', r_ui=2.0, est=4.264093338932459, details={'was_impossible': True, 'reason': 'User and/or item is unkown.'}),\n",
       " Prediction(uid='AGLT3L7ALL4O4', iid='B004SNL9ZK', r_ui=5.0, est=4.95, details={'actual_k': 0, 'was_impossible': False}),\n",
       " Prediction(uid='A2ZY49IDE6TY5I', iid='B00634PLTW', r_ui=4.0, est=4.42787138760706, details={'actual_k': 8, 'was_impossible': False}),\n",
       " Prediction(uid='A10Y058K7B96C6', iid='B00004U89W', r_ui=5.0, est=4.264093338932459, details={'was_impossible': True, 'reason': 'User and/or item is unkown.'}),\n",
       " Prediction(uid='A3QAO3QBCQF89T', iid='B007YXA5SI', r_ui=5.0, est=4.086956521739131, details={'actual_k': 0, 'was_impossible': False}),\n",
       " Prediction(uid='A1WF4QNIE2Z3I7', iid='B004K8WPUQ', r_ui=5.0, est=4.431034482758621, details={'actual_k': 0, 'was_impossible': False}),\n",
       " Prediction(uid='A2VC48WIMY6L6E', iid='B00DUN2PBQ', r_ui=5.0, est=4.930817610062893, details={'actual_k': 1, 'was_impossible': False}),\n",
       " Prediction(uid='A12EVK82QUTSA6', iid='B0030C54EM', r_ui=5.0, est=4.264093338932459, details={'was_impossible': True, 'reason': 'User and/or item is unkown.'}),\n",
       " Prediction(uid='A1Y85GQ09Y95JL', iid='B009XJZ9VY', r_ui=2.0, est=4.264093338932459, details={'was_impossible': True, 'reason': 'User and/or item is unkown.'}),\n",
       " Prediction(uid='A3SMD3T0QTN109', iid='B00829THEG', r_ui=4.0, est=4.207142356032365, details={'actual_k': 8, 'was_impossible': False}),\n",
       " Prediction(uid='A1NQFT941TOTT7', iid='B004L9MBH6', r_ui=2.0, est=2.8857142857142857, details={'actual_k': 0, 'was_impossible': False}),\n",
       " Prediction(uid='AU3GYRAKBUAEU', iid='B00180MMZC', r_ui=4.0, est=3.586206896551724, details={'actual_k': 0, 'was_impossible': False}),\n",
       " Prediction(uid='A196JN53PG0C7R', iid='B003LSTD38', r_ui=5.0, est=4.882352941176471, details={'actual_k': 0, 'was_impossible': False}),\n",
       " Prediction(uid='A1V3TRGWOMA8LC', iid='B009PK2MNY', r_ui=5.0, est=4.2835820895522385, details={'actual_k': 0, 'was_impossible': False}),\n",
       " Prediction(uid='A17V9XL4CWTQ6G', iid='B003XE3X8Q', r_ui=5.0, est=4.919096708614795, details={'actual_k': 6, 'was_impossible': False}),\n",
       " Prediction(uid='A3OA4DV4L81N1D', iid='B009WKB8P0', r_ui=5.0, est=4.264093338932459, details={'was_impossible': True, 'reason': 'User and/or item is unkown.'}),\n",
       " Prediction(uid='A6KL17KKN0A5L', iid='B0030MITDK', r_ui=5.0, est=5, details={'actual_k': 1, 'was_impossible': False}),\n",
       " Prediction(uid='A3TA1UJWRJF9NC', iid='B003VGUGBS', r_ui=5.0, est=4.5, details={'actual_k': 0, 'was_impossible': False}),\n",
       " Prediction(uid='A2XRMQA6PJ5ZJ8', iid='B0007XXU2K', r_ui=5.0, est=4.264093338932459, details={'was_impossible': True, 'reason': 'User and/or item is unkown.'}),\n",
       " Prediction(uid='A1U5IJHJK84S54', iid='B0038U9JOM', r_ui=5.0, est=4.024390243902439, details={'actual_k': 0, 'was_impossible': False}),\n",
       " Prediction(uid='A1C5TCCR2IGKBU', iid='B004KKZ0H4', r_ui=5.0, est=4.5588235294117645, details={'actual_k': 0, 'was_impossible': False}),\n",
       " Prediction(uid='A1Y4EWMUTW73GD', iid='B000JE5CIC', r_ui=5.0, est=4.4222222222222225, details={'actual_k': 0, 'was_impossible': False}),\n",
       " Prediction(uid='AOMEH9W6LHC4S', iid='B004AGX4YO', r_ui=5.0, est=4.481944444444445, details={'actual_k': 1, 'was_impossible': False}),\n",
       " Prediction(uid='A1QOK9LU90ACF7', iid='B000PDR1LS', r_ui=4.0, est=4.144927536231884, details={'actual_k': 0, 'was_impossible': False}),\n",
       " Prediction(uid='A35HNL2VEDK9Z1', iid='B000UC5YSQ', r_ui=5.0, est=4.264093338932459, details={'was_impossible': True, 'reason': 'User and/or item is unkown.'}),\n",
       " Prediction(uid='AW68KVDV7BBRS', iid='B000OOBQY6', r_ui=5.0, est=4.264093338932459, details={'was_impossible': True, 'reason': 'User and/or item is unkown.'}),\n",
       " Prediction(uid='A2WBVO6X3KPMDT', iid='B003Y89O6G', r_ui=3.0, est=4.264093338932459, details={'was_impossible': True, 'reason': 'User and/or item is unkown.'}),\n",
       " Prediction(uid='A15QYHQH80W30L', iid='B00005LEN4', r_ui=5.0, est=4.813581043013831, details={'actual_k': 7, 'was_impossible': False}),\n",
       " Prediction(uid='ALUNVOQRXOZIA', iid='B000TNFAQ2', r_ui=4.0, est=4.264093338932459, details={'was_impossible': True, 'reason': 'User and/or item is unkown.'}),\n",
       " Prediction(uid='A38NELQT98S4H8', iid='B005DSPLCQ', r_ui=5.0, est=4.549421592800439, details={'actual_k': 3, 'was_impossible': False}),\n",
       " Prediction(uid='A38NELQT98S4H8', iid='B000O8WE66', r_ui=4.0, est=4.489908438421528, details={'actual_k': 6, 'was_impossible': False}),\n",
       " Prediction(uid='A15T9G38F589KM', iid='B002JCSCYS', r_ui=4.0, est=5, details={'actual_k': 2, 'was_impossible': False}),\n",
       " Prediction(uid='A2SYAQXJGRY3XE', iid='B00007EDZG', r_ui=5.0, est=3.4023206528437893, details={'actual_k': 2, 'was_impossible': False}),\n",
       " Prediction(uid='A2I5LVVQ7WXEH6', iid='B0001654WC', r_ui=4.0, est=4.264093338932459, details={'was_impossible': True, 'reason': 'User and/or item is unkown.'}),\n",
       " Prediction(uid='A1FLJCHN5CG5M5', iid='B008Y2SPH6', r_ui=3.0, est=4.333333333333333, details={'actual_k': 0, 'was_impossible': False}),\n",
       " Prediction(uid='A1QNYLBG73QRNF', iid='B0007LBO7A', r_ui=5.0, est=4.125, details={'actual_k': 0, 'was_impossible': False}),\n",
       " Prediction(uid='ACQYIC13JXAOI', iid='B00D6XW62I', r_ui=5.0, est=5, details={'actual_k': 3, 'was_impossible': False}),\n",
       " Prediction(uid='ASJSX783R5HTZ', iid='B000UZN2ZK', r_ui=5.0, est=3.9324324324324325, details={'actual_k': 0, 'was_impossible': False}),\n",
       " Prediction(uid='A2E1EFNIZL2FVA', iid='B00JC5Y6YA', r_ui=5.0, est=4.2926829268292686, details={'actual_k': 0, 'was_impossible': False}),\n",
       " Prediction(uid='AQCJWSMSURQI2', iid='B002R5AM7C', r_ui=3.0, est=3.767203372472462, details={'actual_k': 20, 'was_impossible': False}),\n",
       " Prediction(uid='AVTJEWTCJ3PBE', iid='B000I3XIEE', r_ui=3.0, est=4.674418604651163, details={'actual_k': 0, 'was_impossible': False}),\n",
       " Prediction(uid='AN9CP6J4JF91X', iid='B00829THK0', r_ui=5.0, est=3.489837298660018, details={'actual_k': 4, 'was_impossible': False}),\n",
       " Prediction(uid='A2LXX47A0KMJVX', iid='B004SP0EY0', r_ui=2.0, est=4.264093338932459, details={'was_impossible': True, 'reason': 'User and/or item is unkown.'}),\n",
       " Prediction(uid='AO09RWV40IX78', iid='B001UE6HZ2', r_ui=5.0, est=4.264093338932459, details={'was_impossible': True, 'reason': 'User and/or item is unkown.'}),\n",
       " Prediction(uid='A20DZX38KRBIT8', iid='B00746LVOM', r_ui=1.0, est=3.0529820172557884, details={'actual_k': 3, 'was_impossible': False}),\n",
       " Prediction(uid='A2KIJBT9HRIOM8', iid='B006DNXE24', r_ui=4.0, est=4.264093338932459, details={'was_impossible': True, 'reason': 'User and/or item is unkown.'}),\n",
       " Prediction(uid='A1F5O1USOUOOXI', iid='B001JTQCU8', r_ui=4.0, est=3.7743589743589743, details={'actual_k': 1, 'was_impossible': False}),\n",
       " Prediction(uid='A3FEJ8H2VTN0OJ', iid='B003LLEG00', r_ui=5.0, est=4.815789473684211, details={'actual_k': 0, 'was_impossible': False}),\n",
       " Prediction(uid='A226VGZWOEBPGL', iid='B004LB4MZS', r_ui=5.0, est=4.180995475113122, details={'actual_k': 1, 'was_impossible': False}),\n",
       " Prediction(uid='A2SGAJWXG65464', iid='B00B2166BS', r_ui=5.0, est=4.0588235294117645, details={'actual_k': 0, 'was_impossible': False}),\n",
       " Prediction(uid='AN81JUYW2SL24', iid='B000K4V4X8', r_ui=5.0, est=4.232, details={'actual_k': 0, 'was_impossible': False}),\n",
       " Prediction(uid='A1VJ0V58N0698J', iid='B004TB70Y0', r_ui=4.0, est=2.5, details={'actual_k': 0, 'was_impossible': False}),\n",
       " Prediction(uid='A1WF4QNIE2Z3I7', iid='B00DW29TBY', r_ui=5.0, est=4.264093338932459, details={'was_impossible': True, 'reason': 'User and/or item is unkown.'}),\n",
       " Prediction(uid='AYMD77ITD15PT', iid='B00GV4UHDO', r_ui=4.0, est=4.222222222222222, details={'actual_k': 0, 'was_impossible': False}),\n",
       " Prediction(uid='A2Q7OJTVPIO2XH', iid='B0090QXFP2', r_ui=3.0, est=4.264093338932459, details={'was_impossible': True, 'reason': 'User and/or item is unkown.'}),\n",
       " Prediction(uid='A25HBO5V8S8SEA', iid='B00006HTE2', r_ui=5.0, est=4.264093338932459, details={'was_impossible': True, 'reason': 'User and/or item is unkown.'}),\n",
       " Prediction(uid='A3SP7T2PZ3HSDE', iid='B000NWIOM6', r_ui=3.0, est=5, details={'actual_k': 1, 'was_impossible': False}),\n",
       " Prediction(uid='A2NB2E5DXE319Z', iid='B000CKVOOY', r_ui=4.0, est=5, details={'actual_k': 2, 'was_impossible': False}),\n",
       " Prediction(uid='A2JMJVNTBL7K7E', iid='B006OIMWTO', r_ui=3.0, est=4.264093338932459, details={'was_impossible': True, 'reason': 'User and/or item is unkown.'}),\n",
       " Prediction(uid='AEJAGHLC675A7', iid='B0052WPO20', r_ui=5.0, est=4.77710843373494, details={'actual_k': 0, 'was_impossible': False}),\n",
       " Prediction(uid='A3094EPI56GKZ6', iid='B00ENY08VU', r_ui=5.0, est=4.9245283018867925, details={'actual_k': 0, 'was_impossible': False}),\n",
       " Prediction(uid='A3LGT6UZL99IW1', iid='B0014D84ZA', r_ui=1.0, est=4.264093338932459, details={'was_impossible': True, 'reason': 'User and/or item is unkown.'}),\n",
       " Prediction(uid='AGEWOMQ90BV8R', iid='B005IHAZNM', r_ui=4.0, est=4.27027027027027, details={'actual_k': 0, 'was_impossible': False}),\n",
       " Prediction(uid='A9BWUH9XKZ2DQ', iid='B0032HM6HS', r_ui=4.0, est=4.571428571428571, details={'actual_k': 0, 'was_impossible': False}),\n",
       " Prediction(uid='A3VBXQKRM7A4JR', iid='B00EPY0RI2', r_ui=3.0, est=4.051282051282051, details={'actual_k': 0, 'was_impossible': False}),\n",
       " Prediction(uid='A35X2JJI49OBZP', iid='B00BAONHBY', r_ui=4.0, est=4.264093338932459, details={'was_impossible': True, 'reason': 'User and/or item is unkown.'}),\n",
       " Prediction(uid='A1EXGL6L0QQ0M5', iid='B0084G3FKE', r_ui=5.0, est=4.270833333333333, details={'actual_k': 0, 'was_impossible': False}),\n",
       " Prediction(uid='A3DL29NLZ7SXXG', iid='B0043L32KC', r_ui=5.0, est=4.264093338932459, details={'was_impossible': True, 'reason': 'User and/or item is unkown.'}),\n",
       " Prediction(uid='A2FHTXLKY1XJDB', iid='B009LL9VDG', r_ui=4.0, est=4.054545454545455, details={'actual_k': 0, 'was_impossible': False}),\n",
       " Prediction(uid='A3SDJ70H00OQCJ', iid='B004XC6GJ0', r_ui=5.0, est=4.194444444444445, details={'actual_k': 0, 'was_impossible': False}),\n",
       " Prediction(uid='A1PAGHECG401K1', iid='B0092KRAVQ', r_ui=5.0, est=4.315789473684211, details={'actual_k': 0, 'was_impossible': False}),\n",
       " Prediction(uid='A28P7V9KI7MXP', iid='B00DY51SN6', r_ui=5.0, est=4.264093338932459, details={'was_impossible': True, 'reason': 'User and/or item is unkown.'}),\n",
       " Prediction(uid='AGHZXQL9F94T9', iid='B00025HM7M', r_ui=4.0, est=4.264093338932459, details={'was_impossible': True, 'reason': 'User and/or item is unkown.'}),\n",
       " Prediction(uid='A2JE071UW97J2A', iid='B007Y4NWQE', r_ui=5.0, est=4.652777777777778, details={'actual_k': 0, 'was_impossible': False}),\n",
       " Prediction(uid='A11D1KHM7DVOQK', iid='B00008RS96', r_ui=2.0, est=4.264093338932459, details={'was_impossible': True, 'reason': 'User and/or item is unkown.'}),\n",
       " Prediction(uid='A2L36AGL8CKY3D', iid='B0009PTBZ6', r_ui=5.0, est=4.75, details={'actual_k': 0, 'was_impossible': False}),\n",
       " Prediction(uid='A3MQAQT8C6D1I7', iid='B000RZDBM2', r_ui=4.0, est=4.976190476190476, details={'actual_k': 0, 'was_impossible': False}),\n",
       " Prediction(uid='A1DTCJV6KOMJOA', iid='B001AAOZHI', r_ui=5.0, est=4.125, details={'actual_k': 0, 'was_impossible': False}),\n",
       " Prediction(uid='A1ZPUEHF4AES86', iid='B001B98F42', r_ui=5.0, est=4.264093338932459, details={'was_impossible': True, 'reason': 'User and/or item is unkown.'}),\n",
       " Prediction(uid='A2FSOHSM9X13JT', iid='B004I43F9C', r_ui=5.0, est=4.620689655172414, details={'actual_k': 0, 'was_impossible': False}),\n",
       " Prediction(uid='A2MR696ZU17F12', iid='B003CFATT2', r_ui=5.0, est=4.388564064535528, details={'actual_k': 4, 'was_impossible': False}),\n",
       " Prediction(uid='AWH2AY17ZU7W2', iid='B007GR44PM', r_ui=2.0, est=4.377777777777778, details={'actual_k': 0, 'was_impossible': False}),\n",
       " Prediction(uid='AOQLV2LSI9B2W', iid='B0027BL7HK', r_ui=5.0, est=4.264093338932459, details={'was_impossible': True, 'reason': 'User and/or item is unkown.'}),\n",
       " Prediction(uid='AYLLSFYS3UP1H', iid='B000CHRJ82', r_ui=5.0, est=4.264093338932459, details={'was_impossible': True, 'reason': 'User and/or item is unkown.'}),\n",
       " Prediction(uid='A25C2M3QF9G7OQ', iid='B00KFBX9XY', r_ui=5.0, est=4.090926268055089, details={'actual_k': 1, 'was_impossible': False}),\n",
       " Prediction(uid='A25HBO5V8S8SEA', iid='B000083J0D', r_ui=5.0, est=4.264093338932459, details={'was_impossible': True, 'reason': 'User and/or item is unkown.'}),\n",
       " Prediction(uid='A3HSDV9Y0TV5Z2', iid='B004VHR5LU', r_ui=5.0, est=4.264093338932459, details={'was_impossible': True, 'reason': 'User and/or item is unkown.'}),\n",
       " Prediction(uid='A2S26YGSVXBCFL', iid='B00F3F0EIU', r_ui=5.0, est=4.154403536326397, details={'actual_k': 4, 'was_impossible': False}),\n",
       " Prediction(uid='A1VTCSCH8FFC76', iid='B007PRHNHO', r_ui=5.0, est=4.108695652173913, details={'actual_k': 0, 'was_impossible': False}),\n",
       " Prediction(uid='A25UZ7MA72SMKM', iid='B00B0CQCK4', r_ui=2.0, est=4.012345679012346, details={'actual_k': 0, 'was_impossible': False}),\n",
       " Prediction(uid='A209G57KXCBF4C', iid='B001G5ZTN6', r_ui=2.0, est=3.7209302325581395, details={'actual_k': 0, 'was_impossible': False}),\n",
       " Prediction(uid='AU3GYRAKBUAEU', iid='B001E71IE0', r_ui=5.0, est=4.264093338932459, details={'was_impossible': True, 'reason': 'User and/or item is unkown.'}),\n",
       " Prediction(uid='A1LAGS8H4A2DR7', iid='B002V8C3W2', r_ui=5.0, est=3.879220779220779, details={'actual_k': 1, 'was_impossible': False}),\n",
       " Prediction(uid='A1PPS91NLI7KEH', iid='B00EYW9DSU', r_ui=5.0, est=3.8863636363636362, details={'actual_k': 0, 'was_impossible': False}),\n",
       " Prediction(uid='A21VM9WVF8EOSJ', iid='B003FWHTTA', r_ui=3.0, est=3.2222222222222223, details={'actual_k': 0, 'was_impossible': False}),\n",
       " Prediction(uid='A10AFVU66A79Y1', iid='B0057X4TWA', r_ui=5.0, est=4.038524782710829, details={'actual_k': 1, 'was_impossible': False}),\n",
       " Prediction(uid='A3KCKECEO3E2AN', iid='B007K3SB6K', r_ui=5.0, est=3.961300309597523, details={'actual_k': 1, 'was_impossible': False}),\n",
       " Prediction(uid='AV8MDYLHHTUOY', iid='B0034CL2ZI', r_ui=5.0, est=4.481685950825304, details={'actual_k': 17, 'was_impossible': False}),\n",
       " Prediction(uid='A34VRVI4CSI5RQ', iid='B000V9T2JA', r_ui=5.0, est=5, details={'actual_k': 1, 'was_impossible': False}),\n",
       " Prediction(uid='A25FL6VLD7S23S', iid='B001144JQU', r_ui=5.0, est=4.764705882352941, details={'actual_k': 0, 'was_impossible': False}),\n",
       " Prediction(uid='A1522TN5FVJL0Y', iid='B00006ANYX', r_ui=5.0, est=4.264093338932459, details={'was_impossible': True, 'reason': 'User and/or item is unkown.'}),\n",
       " Prediction(uid='A35OIWPVTGW3UC', iid='B003BYIM0W', r_ui=5.0, est=3.7954545454545454, details={'actual_k': 0, 'was_impossible': False}),\n",
       " Prediction(uid='AD9ZL63H0VKCZ', iid='B008CBE97O', r_ui=3.0, est=4.264093338932459, details={'was_impossible': True, 'reason': 'User and/or item is unkown.'}),\n",
       " Prediction(uid='A2J7FHZFKOKGZ6', iid='B003UL91C4', r_ui=5.0, est=4.264093338932459, details={'was_impossible': True, 'reason': 'User and/or item is unkown.'}),\n",
       " Prediction(uid='A2I6GN7OHB9JKF', iid='B00834SJNA', r_ui=4.0, est=4.053571428571429, details={'actual_k': 0, 'was_impossible': False}),\n",
       " Prediction(uid='A1PL7QILVQV3IF', iid='B001FWXDZQ', r_ui=4.0, est=3.1293610673845595, details={'actual_k': 4, 'was_impossible': False}),\n",
       " Prediction(uid='A2VALCFTOWFYXZ', iid='B009QYGZIM', r_ui=1.0, est=4.264093338932459, details={'was_impossible': True, 'reason': 'User and/or item is unkown.'}),\n",
       " Prediction(uid='A1PI8VBCXXSGC7', iid='B009NHWVIA', r_ui=4.0, est=4.720946248177025, details={'actual_k': 9, 'was_impossible': False}),\n",
       " Prediction(uid='A1EH2S92FHWZRP', iid='B00004ZCJE', r_ui=4.0, est=4.178229225295497, details={'actual_k': 3, 'was_impossible': False}),\n",
       " Prediction(uid='A2WF58BAWLVI95', iid='B007T28JK0', r_ui=3.0, est=4.264093338932459, details={'was_impossible': True, 'reason': 'User and/or item is unkown.'}),\n",
       " Prediction(uid='ARBKYIVNYWK3C', iid='B0035FZ11K', r_ui=5.0, est=4.4088669950738915, details={'actual_k': 0, 'was_impossible': False}),\n",
       " Prediction(uid='A2J96FILPQA01', iid='B003819S8S', r_ui=5.0, est=4.891891891891892, details={'actual_k': 0, 'was_impossible': False}),\n",
       " Prediction(uid='A23ONMGKEWDG4M', iid='B000EVLS4C', r_ui=5.0, est=5, details={'actual_k': 1, 'was_impossible': False}),\n",
       " Prediction(uid='A2LW5AL0KQ9P1M', iid='B008X9ZAR8', r_ui=3.0, est=3.93733594188989, details={'actual_k': 2, 'was_impossible': False}),\n",
       " Prediction(uid='A2F7CSE6KT7NI4', iid='B004VF4R4U', r_ui=5.0, est=4.264093338932459, details={'was_impossible': True, 'reason': 'User and/or item is unkown.'}),\n",
       " Prediction(uid='A39K52QDP4C3ZS', iid='B001TOD5BM', r_ui=5.0, est=4.264093338932459, details={'was_impossible': True, 'reason': 'User and/or item is unkown.'}),\n",
       " Prediction(uid='AVTJEWTCJ3PBE', iid='B004BBC2RS', r_ui=5.0, est=4.674418604651163, details={'actual_k': 0, 'was_impossible': False}),\n",
       " Prediction(uid='AROQO2VDODT7', iid='B001G4QXN2', r_ui=5.0, est=4.264093338932459, details={'was_impossible': True, 'reason': 'User and/or item is unkown.'}),\n",
       " Prediction(uid='A3QJU4FEN8PQSZ', iid='B004I8WH74', r_ui=4.0, est=4.244047619047619, details={'actual_k': 1, 'was_impossible': False}),\n",
       " Prediction(uid='A24ARANWS5E3T8', iid='B0058P5S9A', r_ui=5.0, est=4.264093338932459, details={'was_impossible': True, 'reason': 'User and/or item is unkown.'}),\n",
       " Prediction(uid='A1EVV74UQYVKRY', iid='B00FDK99QS', r_ui=5.0, est=4.946666666666667, details={'actual_k': 1, 'was_impossible': False}),\n",
       " Prediction(uid='A7FDGFK0KN7QG', iid='B0055N2L22', r_ui=5.0, est=4.776162790697675, details={'actual_k': 1, 'was_impossible': False}),\n",
       " Prediction(uid='A2L42QEWR77PKZ', iid='B003JEZYXC', r_ui=1.0, est=4.264093338932459, details={'was_impossible': True, 'reason': 'User and/or item is unkown.'}),\n",
       " Prediction(uid='A2XX2A4OJCDNLZ', iid='B000MUXVYK', r_ui=2.0, est=4.538461538461538, details={'actual_k': 0, 'was_impossible': False}),\n",
       " Prediction(uid='A1NNMOD9H36Q8E', iid='B000HGIWN4', r_ui=5.0, est=4.019230769230769, details={'actual_k': 0, 'was_impossible': False}),\n",
       " Prediction(uid='A3KTWUXXB8KKC7', iid='B003XIJ3MW', r_ui=5.0, est=3.914285714285714, details={'actual_k': 0, 'was_impossible': False}),\n",
       " Prediction(uid='A2ME89MSWVG9NF', iid='B00G024X32', r_ui=4.0, est=4.767857142857143, details={'actual_k': 1, 'was_impossible': False}),\n",
       " Prediction(uid='A2VIYTWXANL343', iid='B0095VPBM2', r_ui=5.0, est=4.636363636363637, details={'actual_k': 0, 'was_impossible': False}),\n",
       " Prediction(uid='A3LDPF5FMB782Z', iid='B002YIG8BQ', r_ui=4.0, est=4.264093338932459, details={'was_impossible': True, 'reason': 'User and/or item is unkown.'}),\n",
       " Prediction(uid='A3CMO216CWOF5N', iid='B0063NTRVQ', r_ui=2.0, est=4.264093338932459, details={'was_impossible': True, 'reason': 'User and/or item is unkown.'}),\n",
       " Prediction(uid='AK9BXHEXOOM6Z', iid='B000R9AAJA', r_ui=3.0, est=4.560975609756097, details={'actual_k': 0, 'was_impossible': False}),\n",
       " Prediction(uid='A1TQZUSOU22E9M', iid='B002JMYCTC', r_ui=4.0, est=3.676347355442085, details={'actual_k': 6, 'was_impossible': False}),\n",
       " Prediction(uid='ATS2855497V0I', iid='B002R5AM7C', r_ui=4.0, est=3.3641846629674985, details={'actual_k': 16, 'was_impossible': False}),\n",
       " Prediction(uid='ARX0KOX5Q01BJ', iid='B002YIG9AQ', r_ui=5.0, est=3.488888888888889, details={'actual_k': 0, 'was_impossible': False}),\n",
       " Prediction(uid='A1GQRGB8FGSLIZ', iid='B00822GIH2', r_ui=4.0, est=3.7708333333333335, details={'actual_k': 0, 'was_impossible': False}),\n",
       " Prediction(uid='A23ZXHFLC6TBLD', iid='B00542NV32', r_ui=5.0, est=4.7, details={'actual_k': 0, 'was_impossible': False}),\n",
       " Prediction(uid='A25FL6VLD7S23S', iid='B002Q609FW', r_ui=5.0, est=4.264093338932459, details={'was_impossible': True, 'reason': 'User and/or item is unkown.'}),\n",
       " Prediction(uid='A28X0LT2100RL1', iid='B00006JN3G', r_ui=4.0, est=4.999483862177475, details={'actual_k': 2, 'was_impossible': False}),\n",
       " Prediction(uid='A2LB4FLRZG6CUV', iid='B00BBAXVJK', r_ui=5.0, est=4.318840579710145, details={'actual_k': 0, 'was_impossible': False}),\n",
       " Prediction(uid='A1EOTB1WHLSW6G', iid='B000FGI9RU', r_ui=5.0, est=4.264093338932459, details={'was_impossible': True, 'reason': 'User and/or item is unkown.'}),\n",
       " Prediction(uid='A149RNR5RH19YY', iid='B0000BZO6E', r_ui=3.0, est=4.264093338932459, details={'was_impossible': True, 'reason': 'User and/or item is unkown.'}),\n",
       " Prediction(uid='AA95DWUI3ODU', iid='B003XMA7U0', r_ui=1.0, est=4.264093338932459, details={'was_impossible': True, 'reason': 'User and/or item is unkown.'}),\n",
       " Prediction(uid='A24QFMD1RXLJMB', iid='B005LW9N3M', r_ui=3.0, est=4.264093338932459, details={'was_impossible': True, 'reason': 'User and/or item is unkown.'}),\n",
       " Prediction(uid='AG2YXYIQ8TLTA', iid='B004WIUDGM', r_ui=5.0, est=2.8841079604380635, details={'actual_k': 3, 'was_impossible': False}),\n",
       " Prediction(uid='A2EN82VBJT44QP', iid='B00366WA6C', r_ui=5.0, est=4.264093338932459, details={'was_impossible': True, 'reason': 'User and/or item is unkown.'}),\n",
       " Prediction(uid='A1EXGL6L0QQ0M5', iid='B000ANRP82', r_ui=5.0, est=4.270833333333333, details={'actual_k': 0, 'was_impossible': False}),\n",
       " Prediction(uid='AVJORH3ACR2A5', iid='B004P616OY', r_ui=1.0, est=4.264093338932459, details={'was_impossible': True, 'reason': 'User and/or item is unkown.'}),\n",
       " Prediction(uid='AEWYUPCNDV7HY', iid='B004XANKVY', r_ui=3.0, est=3.68442997416723, details={'actual_k': 3, 'was_impossible': False}),\n",
       " Prediction(uid='A2CPP7BZKOF9TP', iid='B0055Q0O8M', r_ui=5.0, est=4.264093338932459, details={'was_impossible': True, 'reason': 'User and/or item is unkown.'}),\n",
       " Prediction(uid='ANW6EGY12V5XS', iid='B000LRI2ZC', r_ui=5.0, est=4.264093338932459, details={'was_impossible': True, 'reason': 'User and/or item is unkown.'}),\n",
       " Prediction(uid='A1KD8NJPZ01R37', iid='B006ZYK26W', r_ui=5.0, est=4.264093338932459, details={'was_impossible': True, 'reason': 'User and/or item is unkown.'}),\n",
       " Prediction(uid='AGX2K0FMS0IVL', iid='B001P9HT3Q', r_ui=5.0, est=4.264093338932459, details={'was_impossible': True, 'reason': 'User and/or item is unkown.'}),\n",
       " Prediction(uid='A2ER8G4JJJ7XER', iid='B005SEYJCS', r_ui=2.0, est=4.264093338932459, details={'was_impossible': True, 'reason': 'User and/or item is unkown.'}),\n",
       " Prediction(uid='A34C9AFFZOI45T', iid='B000PKX2KA', r_ui=5.0, est=4.853658536585366, details={'actual_k': 0, 'was_impossible': False}),\n",
       " Prediction(uid='A3CJ7MHAS9IMAM', iid='B00109Y2DQ', r_ui=5.0, est=4.372093023255814, details={'actual_k': 0, 'was_impossible': False}),\n",
       " Prediction(uid='A3OIMUR42XIOFQ', iid='B00884WH74', r_ui=5.0, est=4.968164831862007, details={'actual_k': 6, 'was_impossible': False}),\n",
       " Prediction(uid='ABMF4UC4Z00NT', iid='B001BKLC5K', r_ui=4.0, est=4.264093338932459, details={'was_impossible': True, 'reason': 'User and/or item is unkown.'}),\n",
       " Prediction(uid='A37CEYB95LK6R6', iid='B00D7RA080', r_ui=4.0, est=4.430555555555555, details={'actual_k': 0, 'was_impossible': False}),\n",
       " Prediction(uid='A3OXHLG6DIBRW8', iid='B000M4GT68', r_ui=4.0, est=4.264093338932459, details={'was_impossible': True, 'reason': 'User and/or item is unkown.'}),\n",
       " Prediction(uid='A3FOSLM5G1BO63', iid='B00G6CLNCK', r_ui=4.0, est=2.5811407938038116, details={'actual_k': 6, 'was_impossible': False}),\n",
       " Prediction(uid='A1BBYSMT9YCODI', iid='B00IVPU786', r_ui=4.0, est=3.930161943319838, details={'actual_k': 1, 'was_impossible': False}),\n",
       " Prediction(uid='A1U4GOVZWL8ZTL', iid='B001TP6TDW', r_ui=5.0, est=4.776315789473684, details={'actual_k': 0, 'was_impossible': False}),\n",
       " Prediction(uid='AZNUHQSHZHSUE', iid='B001U3ZVQ4', r_ui=4.0, est=4.275, details={'actual_k': 0, 'was_impossible': False}),\n",
       " Prediction(uid='A12O5SEIF162P8', iid='B001TZWNF0', r_ui=4.0, est=4.595238095238095, details={'actual_k': 0, 'was_impossible': False}),\n",
       " Prediction(uid='ACH055GTTIGC9', iid='B00009V6U0', r_ui=5.0, est=4.48, details={'actual_k': 0, 'was_impossible': False}),\n",
       " Prediction(uid='A1RL1OTV8IJMVD', iid='B00KJJW36G', r_ui=4.0, est=3.676767245311904, details={'actual_k': 3, 'was_impossible': False}),\n",
       " Prediction(uid='A11EYMH9UV9XG7', iid='B007RNCK60', r_ui=3.0, est=4.448979591836735, details={'actual_k': 0, 'was_impossible': False}),\n",
       " Prediction(uid='AEAFHD09X8044', iid='B00463C44W', r_ui=5.0, est=4.264093338932459, details={'was_impossible': True, 'reason': 'User and/or item is unkown.'}),\n",
       " Prediction(uid='A20DDH4NT6Q1E8', iid='B0041Q38NU', r_ui=5.0, est=4.689971317056305, details={'actual_k': 5, 'was_impossible': False}),\n",
       " Prediction(uid='AY6A8KPYCE6B0', iid='B003BIFJRW', r_ui=3.0, est=4.264093338932459, details={'was_impossible': True, 'reason': 'User and/or item is unkown.'}),\n",
       " Prediction(uid='AX05DBU8IRUWY', iid='B0037NYQ6Q', r_ui=5.0, est=3.9714285714285715, details={'actual_k': 0, 'was_impossible': False}),\n",
       " Prediction(uid='A2NOW4U7W3F7RI', iid='B00ENZRS76', r_ui=5.0, est=5, details={'actual_k': 15, 'was_impossible': False}),\n",
       " Prediction(uid='A1B4MIXYVIKMU2', iid='B000P3XKRM', r_ui=5.0, est=4.264093338932459, details={'was_impossible': True, 'reason': 'User and/or item is unkown.'}),\n",
       " Prediction(uid='A2SL5IW096Z2BL', iid='B00004SB92', r_ui=4.0, est=4.318181818181818, details={'actual_k': 0, 'was_impossible': False}),\n",
       " Prediction(uid='A21I62TCDL4754', iid='B003HKRVAW', r_ui=4.0, est=3.9310344827586206, details={'actual_k': 0, 'was_impossible': False}),\n",
       " Prediction(uid='A23ONMGKEWDG4M', iid='B00011CS2Q', r_ui=2.0, est=4.264093338932459, details={'was_impossible': True, 'reason': 'User and/or item is unkown.'}),\n",
       " Prediction(uid='A3PGVJF37JSHFO', iid='B004G6002M', r_ui=3.0, est=5, details={'actual_k': 1, 'was_impossible': False}),\n",
       " Prediction(uid='A1KY5G5FP31F2F', iid='B003OSPCJO', r_ui=5.0, est=4.264093338932459, details={'was_impossible': True, 'reason': 'User and/or item is unkown.'}),\n",
       " Prediction(uid='A215WH6RUDUCMP', iid='B0097CZHAU', r_ui=4.0, est=4.0426541727155785, details={'actual_k': 9, 'was_impossible': False}),\n",
       " Prediction(uid='A17O9AHKHK66AI', iid='B00JC5Y6YA', r_ui=4.0, est=3.796875, details={'actual_k': 0, 'was_impossible': False}),\n",
       " Prediction(uid='A3TR3KLL5PXSZ8', iid='B00FDMPA32', r_ui=4.0, est=4.264093338932459, details={'was_impossible': True, 'reason': 'User and/or item is unkown.'}),\n",
       " Prediction(uid='A1KKE6VX8VPWZK', iid='B002R5AM7C', r_ui=4.0, est=4.142118909684225, details={'actual_k': 15, 'was_impossible': False}),\n",
       " Prediction(uid='A3CG93783LP0FO', iid='B006T7QRMS', r_ui=2.0, est=4.264093338932459, details={'was_impossible': True, 'reason': 'User and/or item is unkown.'}),\n",
       " Prediction(uid='A1WJ3P43SZUNDM', iid='B003MRHOQG', r_ui=5.0, est=4.5675675675675675, details={'actual_k': 0, 'was_impossible': False}),\n",
       " Prediction(uid='A9BWUH9XKZ2DQ', iid='B00006B83E', r_ui=5.0, est=4.264093338932459, details={'was_impossible': True, 'reason': 'User and/or item is unkown.'}),\n",
       " Prediction(uid='A3P69DTOXII004', iid='B00DDFEX9S', r_ui=4.0, est=4.264093338932459, details={'was_impossible': True, 'reason': 'User and/or item is unkown.'}),\n",
       " Prediction(uid='ARBKYIVNYWK3C', iid='B000SKU94E', r_ui=5.0, est=4.4088669950738915, details={'actual_k': 0, 'was_impossible': False}),\n",
       " Prediction(uid='APBB297H3ZA5E', iid='B003HFCDLY', r_ui=5.0, est=3.753623188405797, details={'actual_k': 0, 'was_impossible': False}),\n",
       " Prediction(uid='A2MJ8OL2FYN7CW', iid='B0063705PE', r_ui=5.0, est=3.4843565057858417, details={'actual_k': 2, 'was_impossible': False}),\n",
       " Prediction(uid='A1UEL5C1N6E5SE', iid='B00F3F381A', r_ui=2.0, est=4.295774647887324, details={'actual_k': 0, 'was_impossible': False}),\n",
       " Prediction(uid='A3NHUQ33CFH3VM', iid='B009O7XUU2', r_ui=5.0, est=4.414285714285715, details={'actual_k': 0, 'was_impossible': False}),\n",
       " Prediction(uid='A1PI8VBCXXSGC7', iid='B00EDCF0MY', r_ui=4.0, est=4.392583625219757, details={'actual_k': 6, 'was_impossible': False}),\n",
       " Prediction(uid='A1FDSZISWIXH1A', iid='B00BXF5F3I', r_ui=5.0, est=2.1136363636363633, details={'actual_k': 1, 'was_impossible': False}),\n",
       " Prediction(uid='A3EQQHWJ1EEYEU', iid='B005SZ66XM', r_ui=5.0, est=4.742857142857143, details={'actual_k': 0, 'was_impossible': False}),\n",
       " Prediction(uid='A3R4794K2RVU1S', iid='B001GN3SGS', r_ui=5.0, est=4.572649572649572, details={'actual_k': 0, 'was_impossible': False}),\n",
       " Prediction(uid='AMRMK86X3PKXD', iid='B005KQ2O2G', r_ui=5.0, est=3.2963455149501657, details={'actual_k': 1, 'was_impossible': False}),\n",
       " Prediction(uid='A3CW0ZLUO5X2B1', iid='B0003QER82', r_ui=5.0, est=4.19620253164557, details={'actual_k': 0, 'was_impossible': False}),\n",
       " Prediction(uid='A1U5NWJOYH2QQH', iid='B0001WXTF0', r_ui=5.0, est=3.875, details={'actual_k': 0, 'was_impossible': False}),\n",
       " Prediction(uid='A1KY5G5FP31F2F', iid='B0076POAPS', r_ui=3.0, est=4.677966101694915, details={'actual_k': 0, 'was_impossible': False}),\n",
       " Prediction(uid='A1DQHS7MOVYYYA', iid='B000WF1ZUM', r_ui=4.0, est=4.264093338932459, details={'was_impossible': True, 'reason': 'User and/or item is unkown.'}),\n",
       " Prediction(uid='A8FKL1DHTHC12', iid='B007B31IAK', r_ui=5.0, est=4.44, details={'actual_k': 0, 'was_impossible': False}),\n",
       " Prediction(uid='A1XEQGYY1IL8CD', iid='B003WG8TUW', r_ui=3.0, est=4.264093338932459, details={'was_impossible': True, 'reason': 'User and/or item is unkown.'}),\n",
       " Prediction(uid='A3QNQQKJTL76H0', iid='B003ZHV978', r_ui=4.0, est=4.6089148773976945, details={'actual_k': 4, 'was_impossible': False}),\n",
       " Prediction(uid='A30XZK10EZN9V4', iid='B001N0KEWU', r_ui=5.0, est=4.653124124404595, details={'actual_k': 1, 'was_impossible': False}),\n",
       " Prediction(uid='A26LD9FQHTM8ZH', iid='B004LWZLV6', r_ui=4.0, est=4.119047619047619, details={'actual_k': 0, 'was_impossible': False}),\n",
       " Prediction(uid='A1ODOGXEYECQQ8', iid='B00008OE46', r_ui=5.0, est=4.850483361219558, details={'actual_k': 1, 'was_impossible': False}),\n",
       " Prediction(uid='A2W9I628I6SE1U', iid='B00FRDUZXM', r_ui=4.0, est=4.241935483870968, details={'actual_k': 0, 'was_impossible': False}),\n",
       " Prediction(uid='A3D1TZH619NKHN', iid='B00DSGLM50', r_ui=5.0, est=4.907119476268413, details={'actual_k': 1, 'was_impossible': False}),\n",
       " Prediction(uid='A1435P5AMCPB3X', iid='B00005MOZG', r_ui=4.0, est=4.5, details={'actual_k': 0, 'was_impossible': False}),\n",
       " Prediction(uid='A3REK3OFONWB1Q', iid='B001G5ZTLS', r_ui=5.0, est=4.541666666666667, details={'actual_k': 0, 'was_impossible': False}),\n",
       " Prediction(uid='A21Q9JVG4SII51', iid='B005FYNSPK', r_ui=5.0, est=4.990555657436273, details={'actual_k': 1, 'was_impossible': False}),\n",
       " Prediction(uid='A2BMZRO0H7TFCS', iid='B0035FZ11K', r_ui=4.0, est=3.9662162162162162, details={'actual_k': 0, 'was_impossible': False}),\n",
       " Prediction(uid='A2NB2E5DXE319Z', iid='B006DDT6JO', r_ui=5.0, est=5, details={'actual_k': 1, 'was_impossible': False}),\n",
       " Prediction(uid='ABMN74TBW5UWE', iid='B000BI2162', r_ui=5.0, est=4.305555555555555, details={'actual_k': 0, 'was_impossible': False}),\n",
       " Prediction(uid='AUBEFRFHJR64Y', iid='B0038A9HSK', r_ui=3.0, est=3.9444444444444446, details={'actual_k': 0, 'was_impossible': False}),\n",
       " Prediction(uid='A27Y4OEC9MD9PA', iid='B0000DYUZI', r_ui=5.0, est=4.264093338932459, details={'was_impossible': True, 'reason': 'User and/or item is unkown.'}),\n",
       " Prediction(uid='A11ED8O95W2103', iid='B000EDKLP2', r_ui=5.0, est=4.264093338932459, details={'was_impossible': True, 'reason': 'User and/or item is unkown.'}),\n",
       " Prediction(uid='ATDQ9CGCWTT8D', iid='B005935NL4', r_ui=5.0, est=4.264093338932459, details={'was_impossible': True, 'reason': 'User and/or item is unkown.'}),\n",
       " Prediction(uid='AYP0YPLSP9ISM', iid='B0027ZGN2A', r_ui=2.0, est=3.682926829268293, details={'actual_k': 0, 'was_impossible': False}),\n",
       " Prediction(uid='AWPODHOB4GFWL', iid='B0019FHM9M', r_ui=1.0, est=4.264093338932459, details={'was_impossible': True, 'reason': 'User and/or item is unkown.'}),\n",
       " Prediction(uid='A18HE80910BTZI', iid='B003LYF5P2', r_ui=4.0, est=3.778688524590164, details={'actual_k': 0, 'was_impossible': False}),\n",
       " Prediction(uid='AG5WSXI52FPKH', iid='B0000C20HX', r_ui=5.0, est=4.264093338932459, details={'was_impossible': True, 'reason': 'User and/or item is unkown.'}),\n",
       " Prediction(uid='AGILRZOT49R0V', iid='B000067RHS', r_ui=5.0, est=4.428571428571429, details={'actual_k': 0, 'was_impossible': False}),\n",
       " Prediction(uid='A1E1LEVQ9VQNK', iid='B0092HP3EA', r_ui=5.0, est=5, details={'actual_k': 1, 'was_impossible': False}),\n",
       " Prediction(uid='A20G074MWH9U7O', iid='B00CB2F65O', r_ui=5.0, est=4.304337763286828, details={'actual_k': 2, 'was_impossible': False}),\n",
       " Prediction(uid='A37D1ZP8GBHE38', iid='B000MDZWUS', r_ui=2.0, est=4.375, details={'actual_k': 0, 'was_impossible': False}),\n",
       " Prediction(uid='AWNJAY0M5UI70', iid='B004MS0DIK', r_ui=5.0, est=4.756756756756757, details={'actual_k': 0, 'was_impossible': False}),\n",
       " Prediction(uid='A2HV76MYH7UL3S', iid='B00DHW4HP2', r_ui=5.0, est=4.264093338932459, details={'was_impossible': True, 'reason': 'User and/or item is unkown.'}),\n",
       " Prediction(uid='A3QMJMTLJC34QC', iid='B0038LWTUW', r_ui=5.0, est=4.264093338932459, details={'was_impossible': True, 'reason': 'User and/or item is unkown.'}),\n",
       " Prediction(uid='AONUCJBC85BL', iid='B00HFRWWAM', r_ui=4.0, est=4.445863663409186, details={'actual_k': 21, 'was_impossible': False}),\n",
       " Prediction(uid='A2VH0UT5EQFB6P', iid='B004TLH6GM', r_ui=4.0, est=4.130434782608695, details={'actual_k': 0, 'was_impossible': False}),\n",
       " Prediction(uid='A2Y739CRM15WDL', iid='B0007M0VWS', r_ui=3.0, est=3.8970588235294117, details={'actual_k': 0, 'was_impossible': False}),\n",
       " Prediction(uid='A1S7BFT0HDF3HA', iid='B005CG2AX2', r_ui=4.0, est=3.317073170731707, details={'actual_k': 0, 'was_impossible': False}),\n",
       " Prediction(uid='A1R6RKKE44AYA8', iid='B005F79G7G', r_ui=5.0, est=4.264093338932459, details={'was_impossible': True, 'reason': 'User and/or item is unkown.'}),\n",
       " Prediction(uid='ASJLXOX1VD4DF', iid='B001TK3ACA', r_ui=4.0, est=2.6102594408543687, details={'actual_k': 2, 'was_impossible': False}),\n",
       " Prediction(uid='A1TQZUSOU22E9M', iid='B002SEUX7Q', r_ui=4.0, est=4.144755747126436, details={'actual_k': 1, 'was_impossible': False}),\n",
       " Prediction(uid='APBB297H3ZA5E', iid='B000089GN3', r_ui=4.0, est=4.5542767831770385, details={'actual_k': 1, 'was_impossible': False}),\n",
       " Prediction(uid='ABMNX856X89CS', iid='B008OEHPKM', r_ui=5.0, est=4.887026811662429, details={'actual_k': 2, 'was_impossible': False}),\n",
       " Prediction(uid='A2AY4YUOX2N1BQ', iid='B00EP9V9TS', r_ui=5.0, est=4.264093338932459, details={'was_impossible': True, 'reason': 'User and/or item is unkown.'}),\n",
       " Prediction(uid='ARX7Z3NI6O0F7', iid='B002NEGTTW', r_ui=5.0, est=4.6394675805352055, details={'actual_k': 4, 'was_impossible': False}),\n",
       " Prediction(uid='AY4EXFOO43C3S', iid='B009NB8WR0', r_ui=5.0, est=4.903896103896104, details={'actual_k': 1, 'was_impossible': False}),\n",
       " Prediction(uid='A1TQZUSOU22E9M', iid='B00125U494', r_ui=5.0, est=4.264093338932459, details={'was_impossible': True, 'reason': 'User and/or item is unkown.'}),\n",
       " Prediction(uid='A1987V5OCO6QHS', iid='B00805FCQO', r_ui=4.0, est=4.264093338932459, details={'was_impossible': True, 'reason': 'User and/or item is unkown.'}),\n",
       " Prediction(uid='A2L4ZGN7GZJ95T', iid='B004CLYECS', r_ui=4.0, est=4.288888888888889, details={'actual_k': 0, 'was_impossible': False}),\n",
       " Prediction(uid='A2ZY49IDE6TY5I', iid='B00BDRX7ZE', r_ui=3.0, est=4.094837793038124, details={'actual_k': 1, 'was_impossible': False}),\n",
       " Prediction(uid='A1RDHBBZE1NPS3', iid='B004T9RR7C', r_ui=5.0, est=3.8378378378378377, details={'actual_k': 0, 'was_impossible': False}),\n",
       " Prediction(uid='A2J8T58Z4X15IO', iid='B00BM1PWY0', r_ui=4.0, est=4.285714285714286, details={'actual_k': 0, 'was_impossible': False}),\n",
       " Prediction(uid='A2U3OEIK1CUPIK', iid='B00IPMFG54', r_ui=5.0, est=4.264093338932459, details={'was_impossible': True, 'reason': 'User and/or item is unkown.'}),\n",
       " Prediction(uid='AGFSSC5DBY2HU', iid='B004N625B4', r_ui=5.0, est=4.099754901960784, details={'actual_k': 1, 'was_impossible': False}),\n",
       " Prediction(uid='A2TA40MV2H4O6F', iid='B000UUM6FW', r_ui=5.0, est=4.264093338932459, details={'was_impossible': True, 'reason': 'User and/or item is unkown.'}),\n",
       " Prediction(uid='A3TPNC3TKGCCEI', iid='B0012L0GL4', r_ui=5.0, est=4.264093338932459, details={'was_impossible': True, 'reason': 'User and/or item is unkown.'}),\n",
       " Prediction(uid='A1HBEQWSMVQEWJ', iid='B004KKGF1O', r_ui=5.0, est=4.225, details={'actual_k': 0, 'was_impossible': False}),\n",
       " Prediction(uid='A2V1J3JT5OOZFO', iid='B003OGNXZQ', r_ui=5.0, est=4.264093338932459, details={'was_impossible': True, 'reason': 'User and/or item is unkown.'}),\n",
       " Prediction(uid='A35Q0RBM3YNQNF', iid='B003VYB1KK', r_ui=5.0, est=4.625, details={'actual_k': 0, 'was_impossible': False}),\n",
       " Prediction(uid='AGHZXQL9F94T9', iid='B0002ZAIMI', r_ui=5.0, est=3.021276595744681, details={'actual_k': 0, 'was_impossible': False}),\n",
       " Prediction(uid='A2SH7OWE8QJYNC', iid='B0019D8H9I', r_ui=5.0, est=4.264093338932459, details={'was_impossible': True, 'reason': 'User and/or item is unkown.'}),\n",
       " Prediction(uid='A27QXQQOLAMRRR', iid='B00005NIMJ', r_ui=5.0, est=3.927536231884058, details={'actual_k': 0, 'was_impossible': False}),\n",
       " Prediction(uid='AGEKVD8JPZQMT', iid='B000XTP3XW', r_ui=3.0, est=4.142857142857143, details={'actual_k': 0, 'was_impossible': False}),\n",
       " Prediction(uid='AG5WSXI52FPKH', iid='B000GGU09O', r_ui=3.0, est=4.264093338932459, details={'was_impossible': True, 'reason': 'User and/or item is unkown.'}),\n",
       " Prediction(uid='A1AWL9JASMG904', iid='B000IMSK8Y', r_ui=4.0, est=3.357142857142857, details={'actual_k': 0, 'was_impossible': False}),\n",
       " Prediction(uid='A1Z7U9K6X3FEOU', iid='B002ODG5GO', r_ui=5.0, est=4.377777777777778, details={'actual_k': 0, 'was_impossible': False}),\n",
       " Prediction(uid='A2YYHSORXIHZCS', iid='B000E5E868', r_ui=5.0, est=4.264093338932459, details={'was_impossible': True, 'reason': 'User and/or item is unkown.'}),\n",
       " Prediction(uid='AC9QEWWN4W9MC', iid='B006JKW13O', r_ui=3.0, est=4.264093338932459, details={'was_impossible': True, 'reason': 'User and/or item is unkown.'}),\n",
       " Prediction(uid='A1K4G5YJDJQI6Q', iid='B008FLOWAU', r_ui=3.0, est=4.264093338932459, details={'was_impossible': True, 'reason': 'User and/or item is unkown.'}),\n",
       " Prediction(uid='A37D1ZP8GBHE38', iid='B00829THK0', r_ui=5.0, est=4.902946214189546, details={'actual_k': 13, 'was_impossible': False}),\n",
       " Prediction(uid='A34CSXOGVYF94S', iid='B005NCNDOU', r_ui=5.0, est=4.3125, details={'actual_k': 0, 'was_impossible': False}),\n",
       " Prediction(uid='A1N5FSCYN4796F', iid='B009LENCK6', r_ui=4.0, est=4.264093338932459, details={'was_impossible': True, 'reason': 'User and/or item is unkown.'}),\n",
       " Prediction(uid='A30ADSBTWCORYC', iid='B008A3KFB8', r_ui=5.0, est=4.794871794871795, details={'actual_k': 0, 'was_impossible': False}),\n",
       " Prediction(uid='AATWFX0ZZSE6C', iid='B0025T1HM4', r_ui=5.0, est=4.282608695652174, details={'actual_k': 0, 'was_impossible': False}),\n",
       " Prediction(uid='A2JP9E1H0SF392', iid='B001FA1NW8', r_ui=4.0, est=4.264093338932459, details={'was_impossible': True, 'reason': 'User and/or item is unkown.'}),\n",
       " Prediction(uid='ATS2855497V0I', iid='B000XYNYK6', r_ui=4.0, est=4.264093338932459, details={'was_impossible': True, 'reason': 'User and/or item is unkown.'}),\n",
       " Prediction(uid='A23NSKTMSPPBTR', iid='B00HFRWWAM', r_ui=5.0, est=3.9324518946884957, details={'actual_k': 8, 'was_impossible': False}),\n",
       " Prediction(uid='A10X9ME6R66JDX', iid='B000CRFOMK', r_ui=5.0, est=5, details={'actual_k': 2, 'was_impossible': False}),\n",
       " Prediction(uid='A1E1LEVQ9VQNK', iid='B008X9Z6EA', r_ui=5.0, est=4.069985238747073, details={'actual_k': 4, 'was_impossible': False}),\n",
       " Prediction(uid='A100WO06OQR8BQ', iid='B0011VJRHY', r_ui=3.0, est=4.264093338932459, details={'was_impossible': True, 'reason': 'User and/or item is unkown.'}),\n",
       " Prediction(uid='A2XCCN239AR1XK', iid='B004PGMFG2', r_ui=4.0, est=4.218244632213583, details={'actual_k': 2, 'was_impossible': False}),\n",
       " Prediction(uid='A506HOOCVL8GW', iid='B00104XCVO', r_ui=5.0, est=4.590909090909091, details={'actual_k': 0, 'was_impossible': False}),\n",
       " Prediction(uid='A1C5WS021EL3WO', iid='B007G5NNOW', r_ui=4.0, est=5, details={'actual_k': 3, 'was_impossible': False}),\n",
       " Prediction(uid='ABDR6IJ93HFIO', iid='B00D02AG7C', r_ui=5.0, est=4.832214765100671, details={'actual_k': 0, 'was_impossible': False}),\n",
       " Prediction(uid='A2W9GX82SLKROQ', iid='B0033RSNPG', r_ui=5.0, est=4.264093338932459, details={'was_impossible': True, 'reason': 'User and/or item is unkown.'}),\n",
       " Prediction(uid='A64LEAZ2QF8L2', iid='B0083J46Q4', r_ui=5.0, est=4.264093338932459, details={'was_impossible': True, 'reason': 'User and/or item is unkown.'}),\n",
       " Prediction(uid='A3LDPF5FMB782Z', iid='B008I6672I', r_ui=2.0, est=4.264093338932459, details={'was_impossible': True, 'reason': 'User and/or item is unkown.'}),\n",
       " Prediction(uid='A1WG97A0EFHYXN', iid='B000FU1ZMC', r_ui=5.0, est=4.264093338932459, details={'was_impossible': True, 'reason': 'User and/or item is unkown.'}),\n",
       " Prediction(uid='A1RPTVW5VEOSI', iid='B002CGSYM6', r_ui=4.0, est=4.064220183486238, details={'actual_k': 0, 'was_impossible': False}),\n",
       " Prediction(uid='A2NT3W1F1XYBFZ', iid='B001G4QXS2', r_ui=5.0, est=4.555555555555555, details={'actual_k': 0, 'was_impossible': False}),\n",
       " Prediction(uid='A11KZ906QD08C5', iid='B00ICZL3KG', r_ui=5.0, est=4.392857142857143, details={'actual_k': 0, 'was_impossible': False}),\n",
       " Prediction(uid='A1ZBEIL78MLR9Z', iid='B003ES5ZUU', r_ui=5.0, est=4.709617672775242, details={'actual_k': 5, 'was_impossible': False}),\n",
       " Prediction(uid='AIBRTGBN07D6A', iid='B005Z44WWI', r_ui=5.0, est=4.264093338932459, details={'was_impossible': True, 'reason': 'User and/or item is unkown.'}),\n",
       " Prediction(uid='AQR4HPVSOPS08', iid='B004YLAYHA', r_ui=3.0, est=4.744186046511628, details={'actual_k': 0, 'was_impossible': False}),\n",
       " Prediction(uid='A1VLE2SH9J8WYS', iid='B0035JD0DW', r_ui=5.0, est=4.620689655172414, details={'actual_k': 0, 'was_impossible': False}),\n",
       " Prediction(uid='AFICF7DKHTQ87', iid='B00EXPNFQO', r_ui=3.0, est=4.698830893890916, details={'actual_k': 2, 'was_impossible': False}),\n",
       " Prediction(uid='A1BZIM4WGZ6DZP', iid='B0033WWBAE', r_ui=5.0, est=4.264093338932459, details={'was_impossible': True, 'reason': 'User and/or item is unkown.'}),\n",
       " Prediction(uid='A3HR0ZZOFKQ97N', iid='B004Q3R9B0', r_ui=5.0, est=4.64697284983678, details={'actual_k': 2, 'was_impossible': False}),\n",
       " Prediction(uid='A23GFTVIETX7DS', iid='B0035JCI6M', r_ui=1.0, est=4.720244544188206, details={'actual_k': 1, 'was_impossible': False}),\n",
       " Prediction(uid='A3RGHO0Q938FRS', iid='B000V1PB2K', r_ui=5.0, est=4.232558139534884, details={'actual_k': 0, 'was_impossible': False}),\n",
       " Prediction(uid='A28I5UM0FT3I6T', iid='B0055Q88EO', r_ui=5.0, est=4.264093338932459, details={'was_impossible': True, 'reason': 'User and/or item is unkown.'}),\n",
       " Prediction(uid='AM3XNQU9TZBD8', iid='B006THIULY', r_ui=5.0, est=5, details={'actual_k': 1, 'was_impossible': False}),\n",
       " Prediction(uid='A3REK3OFONWB1Q', iid='B001C0DJL4', r_ui=5.0, est=4.264093338932459, details={'was_impossible': True, 'reason': 'User and/or item is unkown.'}),\n",
       " Prediction(uid='A32LX4XJ2LU740', iid='B004E10KFG', r_ui=4.0, est=4.9036330049261085, details={'actual_k': 1, 'was_impossible': False}),\n",
       " Prediction(uid='A1RDHBBZE1NPS3', iid='B00BUJ6MW0', r_ui=4.0, est=4.264093338932459, details={'was_impossible': True, 'reason': 'User and/or item is unkown.'}),\n",
       " Prediction(uid='A2LEIANN1UZTHP', iid='B0002Q7VO0', r_ui=5.0, est=4.159090909090909, details={'actual_k': 0, 'was_impossible': False}),\n",
       " Prediction(uid='A34BZM6S9L7QI4', iid='B007RKQCO4', r_ui=5.0, est=4.264093338932459, details={'was_impossible': True, 'reason': 'User and/or item is unkown.'}),\n",
       " Prediction(uid='A2ZWJVKITA32OV', iid='B004VRQNS6', r_ui=5.0, est=4.142857142857143, details={'actual_k': 0, 'was_impossible': False}),\n",
       " Prediction(uid='A32HSNCNPRUMTR', iid='B005399LB2', r_ui=5.0, est=4.264093338932459, details={'was_impossible': True, 'reason': 'User and/or item is unkown.'}),\n",
       " Prediction(uid='A2I6GN7OHB9JKF', iid='B004I0H7S6', r_ui=5.0, est=4.264093338932459, details={'was_impossible': True, 'reason': 'User and/or item is unkown.'}),\n",
       " Prediction(uid='A2D1ZQEFS1NBH2', iid='B000J01HXU', r_ui=4.0, est=4.264093338932459, details={'was_impossible': True, 'reason': 'User and/or item is unkown.'}),\n",
       " Prediction(uid='A1522TN5FVJL0Y', iid='B000067SPN', r_ui=5.0, est=4.264093338932459, details={'was_impossible': True, 'reason': 'User and/or item is unkown.'}),\n",
       " Prediction(uid='AA8RBTN3J2F5H', iid='B007QR8Y9Y', r_ui=5.0, est=4.264093338932459, details={'was_impossible': True, 'reason': 'User and/or item is unkown.'}),\n",
       " Prediction(uid='A38KK0SZYEH5UD', iid='B007I5JT4S', r_ui=5.0, est=4.7844186768094925, details={'actual_k': 2, 'was_impossible': False}),\n",
       " Prediction(uid='A1F7YU6O5RU432', iid='B007VL8Y5E', r_ui=5.0, est=4.747645992702052, details={'actual_k': 6, 'was_impossible': False}),\n",
       " Prediction(uid='A35HOUWHAYZZN6', iid='B003GAMO6Y', r_ui=4.0, est=4.657221582307874, details={'actual_k': 2, 'was_impossible': False}),\n",
       " Prediction(uid='AGGAQLXPVGM5D', iid='B007XOQ3BQ', r_ui=4.0, est=4.4868421052631575, details={'actual_k': 0, 'was_impossible': False}),\n",
       " Prediction(uid='AGXMC3ITWZASE', iid='B00007EDZG', r_ui=4.0, est=3.694970161977835, details={'actual_k': 1, 'was_impossible': False}),\n",
       " Prediction(uid='A1G650TTTHEAL5', iid='B006MA9XXM', r_ui=5.0, est=4.878378378378378, details={'actual_k': 0, 'was_impossible': False}),\n",
       " Prediction(uid='A2BCDZO1XQLDH', iid='B002R5AM7C', r_ui=4.0, est=3.0741615613374575, details={'actual_k': 3, 'was_impossible': False}),\n",
       " Prediction(uid='A2NPN06SYI5VL3', iid='B000EURAKE', r_ui=5.0, est=4.264093338932459, details={'was_impossible': True, 'reason': 'User and/or item is unkown.'}),\n",
       " Prediction(uid='A1U5NWJOYH2QQH', iid='B00BG5MZ5Q', r_ui=4.0, est=4.264093338932459, details={'was_impossible': True, 'reason': 'User and/or item is unkown.'}),\n",
       " Prediction(uid='A3FEGTOLCWXSV4', iid='B000TXNS6G', r_ui=5.0, est=3.953271028037383, details={'actual_k': 0, 'was_impossible': False}),\n",
       " Prediction(uid='A20DDH4NT6Q1E8', iid='B0002I5RI0', r_ui=4.0, est=4.5, details={'actual_k': 0, 'was_impossible': False}),\n",
       " Prediction(uid='A38C12950IM24P', iid='B00DVH26RE', r_ui=5.0, est=4.264093338932459, details={'was_impossible': True, 'reason': 'User and/or item is unkown.'}),\n",
       " Prediction(uid='A27Y4OEC9MD9PA', iid='B0033N0LXW', r_ui=5.0, est=4.264093338932459, details={'was_impossible': True, 'reason': 'User and/or item is unkown.'}),\n",
       " Prediction(uid='A1EXGL6L0QQ0M5', iid='B005NGOQD8', r_ui=5.0, est=4.349516519174996, details={'actual_k': 2, 'was_impossible': False}),\n",
       " Prediction(uid='A27H0T39U3FZB5', iid='B00829TIA4', r_ui=5.0, est=4.658397880378014, details={'actual_k': 12, 'was_impossible': False}),\n",
       " Prediction(uid='A1HSM98KUGTHNY', iid='B0000CDF0H', r_ui=4.0, est=4.264093338932459, details={'was_impossible': True, 'reason': 'User and/or item is unkown.'}),\n",
       " Prediction(uid='A3VZH0PWLQ9BB1', iid='B003VANOI6', r_ui=5.0, est=5, details={'actual_k': 1, 'was_impossible': False}),\n",
       " Prediction(uid='A2OBDNQ5ZYU1L8', iid='B004DMNT2W', r_ui=5.0, est=4.17910447761194, details={'actual_k': 0, 'was_impossible': False}),\n",
       " Prediction(uid='A200RY2ELZL2Q3', iid='B0052RM8T2', r_ui=4.0, est=3.6666666666666665, details={'actual_k': 0, 'was_impossible': False}),\n",
       " Prediction(uid='A3GFQHHVMEAIO', iid='B000GR1GLO', r_ui=4.0, est=4.264093338932459, details={'was_impossible': True, 'reason': 'User and/or item is unkown.'}),\n",
       " Prediction(uid='A11KZ906QD08C5', iid='B003ASUEP0', r_ui=5.0, est=4.264093338932459, details={'was_impossible': True, 'reason': 'User and/or item is unkown.'}),\n",
       " Prediction(uid='A1TDR7Y90SVCHL', iid='B00461E7JE', r_ui=5.0, est=3.1977494727480296, details={'actual_k': 2, 'was_impossible': False}),\n",
       " Prediction(uid='A2PREU4LOFQRB1', iid='B00B7X2OW6', r_ui=4.0, est=4.557377049180328, details={'actual_k': 0, 'was_impossible': False}),\n",
       " Prediction(uid='A22NKFOH9RATRC', iid='B0089KJT64', r_ui=5.0, est=4.264093338932459, details={'was_impossible': True, 'reason': 'User and/or item is unkown.'}),\n",
       " Prediction(uid='A32LX4XJ2LU740', iid='B007PRHNHO', r_ui=3.0, est=4.3125, details={'actual_k': 0, 'was_impossible': False}),\n",
       " Prediction(uid='A1U5IJHJK84S54', iid='B003LR7ME6', r_ui=2.0, est=4.024390243902439, details={'actual_k': 0, 'was_impossible': False}),\n",
       " Prediction(uid='A2CIQEY05SPHTZ', iid='B008CZ1YLY', r_ui=5.0, est=4.264093338932459, details={'was_impossible': True, 'reason': 'User and/or item is unkown.'}),\n",
       " Prediction(uid='A203OCQQ12MAVT', iid='B00008IHNG', r_ui=1.0, est=4.264093338932459, details={'was_impossible': True, 'reason': 'User and/or item is unkown.'}),\n",
       " Prediction(uid='A2KOV8XWZOZ0FQ', iid='B0002KMQJ6', r_ui=4.0, est=4.264093338932459, details={'was_impossible': True, 'reason': 'User and/or item is unkown.'}),\n",
       " Prediction(uid='A3UKWQS8SRW6IO', iid='B002S53LJ2', r_ui=4.0, est=4.8108108108108105, details={'actual_k': 0, 'was_impossible': False}),\n",
       " Prediction(uid='A12DQZKRKTNF5E', iid='B00JAWBYI6', r_ui=3.0, est=4.264093338932459, details={'was_impossible': True, 'reason': 'User and/or item is unkown.'}),\n",
       " Prediction(uid='A1HBI9BBQIG1NH', iid='B003L1ZYZ6', r_ui=5.0, est=4.284103506355313, details={'actual_k': 2, 'was_impossible': False}),\n",
       " Prediction(uid='A9Y5O2R4D6EH5', iid='B0002YE6G8', r_ui=4.0, est=4.038961038961039, details={'actual_k': 0, 'was_impossible': False}),\n",
       " Prediction(uid='A2IT7S59GSASN7', iid='B00452V66G', r_ui=4.0, est=3.3785715573327777, details={'actual_k': 4, 'was_impossible': False}),\n",
       " Prediction(uid='AGATRDOFW48DK', iid='B000OL3QTW', r_ui=5.0, est=4.0, details={'actual_k': 0, 'was_impossible': False}),\n",
       " Prediction(uid='A100WO06OQR8BQ', iid='B00DQZT0AC', r_ui=1.0, est=3.559127521971003, details={'actual_k': 4, 'was_impossible': False}),\n",
       " Prediction(uid='AGEKVD8JPZQMT', iid='B006OZEIKS', r_ui=4.0, est=3.0072639225181605, details={'actual_k': 1, 'was_impossible': False}),\n",
       " Prediction(uid='A1ZU55TM45Y2R8', iid='B00GY0UFFA', r_ui=3.0, est=4.190828924162258, details={'actual_k': 1, 'was_impossible': False}),\n",
       " Prediction(uid='A1F9Z42CFF9IAY', iid='B00008OE5I', r_ui=3.0, est=3.5850340136054424, details={'actual_k': 0, 'was_impossible': False}),\n",
       " Prediction(uid='A1Z16630QMH8Q6', iid='B002UUTCNE', r_ui=5.0, est=4.6891891891891895, details={'actual_k': 0, 'was_impossible': False}),\n",
       " Prediction(uid='A3L9E0YI7C5G0W', iid='B000JVBU9K', r_ui=5.0, est=4.321428571428571, details={'actual_k': 0, 'was_impossible': False}),\n",
       " Prediction(uid='A197T2N6RU7K56', iid='B0007S7F80', r_ui=5.0, est=4.264093338932459, details={'was_impossible': True, 'reason': 'User and/or item is unkown.'}),\n",
       " Prediction(uid='A2PSD2R9A1CXG7', iid='B00018U7KO', r_ui=5.0, est=4.030927835051546, details={'actual_k': 0, 'was_impossible': False}),\n",
       " Prediction(uid='A1KWPIORLG2QV', iid='B0049VGHOO', r_ui=5.0, est=4.880952380952381, details={'actual_k': 0, 'was_impossible': False}),\n",
       " Prediction(uid='A1ZBEIL78MLR9Z', iid='B003YKG2UK', r_ui=5.0, est=4.27906976744186, details={'actual_k': 0, 'was_impossible': False}),\n",
       " Prediction(uid='A2QIC4G483SQQA', iid='B00007KDVK', r_ui=5.0, est=4.5, details={'actual_k': 0, 'was_impossible': False}),\n",
       " Prediction(uid='A2EZTM9WY5B5IL', iid='B000O3OF86', r_ui=4.0, est=4.264093338932459, details={'was_impossible': True, 'reason': 'User and/or item is unkown.'}),\n",
       " Prediction(uid='A3E9O1VNJ3U324', iid='B0019EHU8G', r_ui=5.0, est=4.756756756756757, details={'actual_k': 0, 'was_impossible': False}),\n",
       " Prediction(uid='A2PSD2R9A1CXG7', iid='B001TUYTZM', r_ui=5.0, est=4.609315024374469, details={'actual_k': 3, 'was_impossible': False}),\n",
       " Prediction(uid='A2ZWJVKITA32OV', iid='B00ATE7VJU', r_ui=3.0, est=4.264093338932459, details={'was_impossible': True, 'reason': 'User and/or item is unkown.'}),\n",
       " Prediction(uid='A1ODOGXEYECQQ8', iid='B000855034', r_ui=4.0, est=3.6543560606060606, details={'actual_k': 1, 'was_impossible': False}),\n",
       " Prediction(uid='A28BX3MM90A6FI', iid='B001XURP7W', r_ui=4.0, est=4.421052631578948, details={'actual_k': 0, 'was_impossible': False}),\n",
       " Prediction(uid='AY6A8KPYCE6B0', iid='B00029U1DK', r_ui=5.0, est=4.4398453267971885, details={'actual_k': 3, 'was_impossible': False}),\n",
       " Prediction(uid='A2XXBZPQT5EXHV', iid='B00483WRZ6', r_ui=5.0, est=4.951219512195122, details={'actual_k': 0, 'was_impossible': False}),\n",
       " Prediction(uid='A11I1I9QLMAM1A', iid='B00CD1FB26', r_ui=4.0, est=4.867593918063428, details={'actual_k': 7, 'was_impossible': False}),\n",
       " Prediction(uid='A1E1LEVQ9VQNK', iid='B00GXMLSFU', r_ui=5.0, est=4.9210866170916505, details={'actual_k': 2, 'was_impossible': False}),\n",
       " Prediction(uid='A3FS3FJPD3RJTD', iid='B004MMEI6Y', r_ui=1.0, est=4.264093338932459, details={'was_impossible': True, 'reason': 'User and/or item is unkown.'}),\n",
       " Prediction(uid='A2PL06HW6KZH2', iid='B002U1ZBG0', r_ui=1.0, est=4.428571428571429, details={'actual_k': 0, 'was_impossible': False}),\n",
       " Prediction(uid='A2J7FHZFKOKGZ6', iid='B006TT91TW', r_ui=1.0, est=3.634920634920635, details={'actual_k': 0, 'was_impossible': False}),\n",
       " Prediction(uid='ARX7Z3NI6O0F7', iid='B0027DPM1U', r_ui=5.0, est=4.264093338932459, details={'was_impossible': True, 'reason': 'User and/or item is unkown.'}),\n",
       " Prediction(uid='A376OJHLE6SU9Q', iid='B0012LKJ48', r_ui=4.0, est=4.481025811080919, details={'actual_k': 2, 'was_impossible': False}),\n",
       " Prediction(uid='A1P0JSFW184ZXJ', iid='B001O5CCQK', r_ui=5.0, est=4.690890990542559, details={'actual_k': 1, 'was_impossible': False}),\n",
       " Prediction(uid='A38KK0SZYEH5UD', iid='B00685423M', r_ui=4.0, est=4.408450704225352, details={'actual_k': 0, 'was_impossible': False}),\n",
       " Prediction(uid='A9ELHLPXF7JKD', iid='B002HWRJBC', r_ui=5.0, est=4.253463203463204, details={'actual_k': 1, 'was_impossible': False}),\n",
       " Prediction(uid='A2HXE29CU1I24Y', iid='B00GMGDH38', r_ui=4.0, est=3.8421052631578947, details={'actual_k': 0, 'was_impossible': False}),\n",
       " Prediction(uid='A1YVO5V1SO18DZ', iid='B008ULPE70', r_ui=3.0, est=4.397553824919542, details={'actual_k': 12, 'was_impossible': False}),\n",
       " Prediction(uid='A3Q1J68QY1MZQ9', iid='B004J4VYG2', r_ui=1.0, est=3.206728971962617, details={'actual_k': 1, 'was_impossible': False}),\n",
       " Prediction(uid='A7FDGFK0KN7QG', iid='B00203W468', r_ui=5.0, est=4.651162790697675, details={'actual_k': 0, 'was_impossible': False}),\n",
       " Prediction(uid='A3LPL35P7FH78Y', iid='B005CT56F8', r_ui=4.0, est=5, details={'actual_k': 6, 'was_impossible': False}),\n",
       " Prediction(uid='AZCE11PSTCH1L', iid='B0094NY3R0', r_ui=4.0, est=4.314285714285714, details={'actual_k': 0, 'was_impossible': False}),\n",
       " Prediction(uid='A20DZX38KRBIT8', iid='B001F7AHXM', r_ui=5.0, est=2.526315789473684, details={'actual_k': 0, 'was_impossible': False}),\n",
       " Prediction(uid='A1ZM846Y7AUYD', iid='B008H9BXMK', r_ui=2.0, est=3.5719675962159214, details={'actual_k': 3, 'was_impossible': False}),\n",
       " Prediction(uid='A1V4VVBQBFXRHC', iid='B00DTPYQBM', r_ui=5.0, est=4.868315563316503, details={'actual_k': 3, 'was_impossible': False}),\n",
       " Prediction(uid='A2I357I10ZY7CI', iid='B00494XZ1Y', r_ui=4.0, est=4.388059701492537, details={'actual_k': 0, 'was_impossible': False}),\n",
       " Prediction(uid='A3JAH5WW61N2EK', iid='B006OBGEHW', r_ui=5.0, est=4.4324324324324325, details={'actual_k': 0, 'was_impossible': False}),\n",
       " Prediction(uid='A2LF16F0KX9L7P', iid='B005TDWU24', r_ui=4.0, est=4.2894736842105265, details={'actual_k': 0, 'was_impossible': False}),\n",
       " Prediction(uid='A3A4ZAIBQWKOZS', iid='B002BH3Z8E', r_ui=5.0, est=5, details={'actual_k': 1, 'was_impossible': False}),\n",
       " Prediction(uid='AGVWTYW0ULXHT', iid='B00A0JUNWQ', r_ui=4.0, est=4.289291073175318, details={'actual_k': 6, 'was_impossible': False}),\n",
       " Prediction(uid='A19XPAWSWDRI3B', iid='B008R6OPJQ', r_ui=5.0, est=4.611111111111111, details={'actual_k': 0, 'was_impossible': False}),\n",
       " Prediction(uid='ANSVB7OYSXZSL', iid='B0012QCYNM', r_ui=4.0, est=3.878787878787879, details={'actual_k': 0, 'was_impossible': False}),\n",
       " Prediction(uid='A2AY4YUOX2N1BQ', iid='B00FFJDYHM', r_ui=5.0, est=4.264093338932459, details={'was_impossible': True, 'reason': 'User and/or item is unkown.'}),\n",
       " Prediction(uid='AFHYEO3Y1IIDD', iid='B00154MCRO', r_ui=5.0, est=4.071428571428571, details={'actual_k': 0, 'was_impossible': False}),\n",
       " Prediction(uid='A3P1508PZ0UADD', iid='B000I1ZWRC', r_ui=4.0, est=3.6666666666666665, details={'actual_k': 0, 'was_impossible': False}),\n",
       " Prediction(uid='A2XA8CW5DF4MNZ', iid='B00BMJR2EK', r_ui=5.0, est=4.523809523809524, details={'actual_k': 0, 'was_impossible': False}),\n",
       " Prediction(uid='AR3EVUQF0AC7R', iid='B00CO0DE0W', r_ui=4.0, est=2.6527844294083067, details={'actual_k': 6, 'was_impossible': False}),\n",
       " Prediction(uid='A16RI68PS6T5CA', iid='B0006SR16M', r_ui=5.0, est=4.264093338932459, details={'was_impossible': True, 'reason': 'User and/or item is unkown.'}),\n",
       " Prediction(uid='A1AZQCVCDBQP6', iid='B004Q7JRJI', r_ui=5.0, est=4.264093338932459, details={'was_impossible': True, 'reason': 'User and/or item is unkown.'}),\n",
       " Prediction(uid='A2FRKEXDXDN1KI', iid='B0009STJIW', r_ui=5.0, est=4.276900770606271, details={'actual_k': 3, 'was_impossible': False}),\n",
       " Prediction(uid='A3F7USIDJBR8WU', iid='B000FS9DP0', r_ui=5.0, est=4.264093338932459, details={'was_impossible': True, 'reason': 'User and/or item is unkown.'}),\n",
       " ...]"
      ]
     },
     "execution_count": 107,
     "metadata": {
      "tags": []
     },
     "output_type": "execute_result"
    }
   ],
   "source": [
    "test_pred"
   ]
  },
  {
   "cell_type": "code",
   "execution_count": 0,
   "metadata": {
    "colab": {},
    "colab_type": "code",
    "id": "5BJLB9o71mNx"
   },
   "outputs": [],
   "source": [
    "from collections import defaultdict\n",
    "\n",
    "def get_top_n(predictions, n=10):\n",
    "    # First map the predictions to each user.\n",
    "    top_n = defaultdict(list)\n",
    "    for uid, iid, true_r, est, _ in predictions:\n",
    "        top_n[uid].append((iid, est))\n",
    "\n",
    "    # Then sort the predictions for each user and retrieve the k highest ones.\n",
    "    for uid, user_ratings in top_n.items():\n",
    "        user_ratings.sort(key=lambda x: x[1], reverse=True)\n",
    "        top_n[uid] = user_ratings[:n]\n",
    "\n",
    "    return top_n"
   ]
  },
  {
   "cell_type": "markdown",
   "metadata": {
    "colab_type": "text",
    "id": "xxRydR-07pfV"
   },
   "source": [
    "Recommend 5 products"
   ]
  },
  {
   "cell_type": "code",
   "execution_count": 0,
   "metadata": {
    "colab": {},
    "colab_type": "code",
    "id": "OzNHxvD81maV"
   },
   "outputs": [],
   "source": [
    "top_n = get_top_n(test_pred, n=5)"
   ]
  },
  {
   "cell_type": "code",
   "execution_count": 117,
   "metadata": {
    "colab": {
     "base_uri": "https://localhost:8080/",
     "height": 102
    },
    "colab_type": "code",
    "id": "U4CTcu671mji",
    "outputId": "3da8fe40-aa3a-4dd5-fd86-9261370fd15e"
   },
   "outputs": [
    {
     "data": {
      "text/plain": [
       "[('B004VM0SE6', 5),\n",
       " ('B003ZUXVRQ', 4.264093338932459),\n",
       " ('B00030F7I2', 4.264093338932459),\n",
       " ('B0012MLJMI', 4.264093338932459),\n",
       " ('B009WG6JF8', 4.1818910256410255)]"
      ]
     },
     "execution_count": 117,
     "metadata": {
      "tags": []
     },
     "output_type": "execute_result"
    }
   ],
   "source": [
    "#Get top prediction of userid:A3QRW0UJPKIAX7\n",
    "top_n['A3QRW0UJPKIAX7']"
   ]
  },
  {
   "cell_type": "code",
   "execution_count": 0,
   "metadata": {
    "colab": {},
    "colab_type": "code",
    "id": "ivAbqNOP8FBB"
   },
   "outputs": [],
   "source": []
  },
  {
   "cell_type": "code",
   "execution_count": 0,
   "metadata": {
    "colab": {},
    "colab_type": "code",
    "id": "YW8EjOfj1mLR"
   },
   "outputs": [],
   "source": []
  },
  {
   "cell_type": "markdown",
   "metadata": {
    "colab_type": "text",
    "id": "Pti3cdwMswWh"
   },
   "source": [
    "Evaluate the above model. ( Once the model is trained on the training data, it can be\n",
    "used to compute the error (like RMSE) on predictions made on the test data.) You can\n",
    "also use a different method to evaluate the models."
   ]
  },
  {
   "cell_type": "code",
   "execution_count": 111,
   "metadata": {
    "colab": {
     "base_uri": "https://localhost:8080/",
     "height": 51
    },
    "colab_type": "code",
    "id": "CGD7UDgy1kPH",
    "outputId": "ff6b762a-7783-4ecb-97dd-5f1b2b21de7c"
   },
   "outputs": [
    {
     "name": "stdout",
     "output_type": "stream",
     "text": [
      "RMSE: 1.0651\n"
     ]
    },
    {
     "data": {
      "text/plain": [
       "1.065105797466132"
      ]
     },
     "execution_count": 111,
     "metadata": {
      "tags": []
     },
     "output_type": "execute_result"
    }
   ],
   "source": [
    "# get RMSE\n",
    "accuracy.rmse(test_pred)"
   ]
  },
  {
   "cell_type": "markdown",
   "metadata": {
    "colab_type": "text",
    "id": "LmlxUK3112E4"
   },
   "source": [
    "Get top - K ( K = 5) recommendations. Since our goal is to recommend new products to each user based on his/her habits, we will recommend 5 new products"
   ]
  },
  {
   "cell_type": "markdown",
   "metadata": {
    "colab_type": "text",
    "id": "v06zRrYK11Mf"
   },
   "source": []
  },
  {
   "cell_type": "code",
   "execution_count": 0,
   "metadata": {
    "colab": {},
    "colab_type": "code",
    "id": "RwRokBFLd-Ec"
   },
   "outputs": [],
   "source": [
    "≈\n"
   ]
  },
  {
   "cell_type": "markdown",
   "metadata": {
    "colab_type": "text",
    "id": "wTqmE1FJ2TsW"
   },
   "source": [
    "Summary:"
   ]
  },
  {
   "cell_type": "markdown",
   "metadata": {
    "colab_type": "text",
    "id": "MoGPrJg_2WJi"
   },
   "source": [
    "1. Data has 7824482 rows and 3 columns\n",
    "2. Here we created a subset of the data on the basis of users which have rated more than 50 products\n",
    "3. We find the number of unique products are 48190\n",
    "4. We find the number of unique users are  1540\n",
    "5. Popularity based model presents top hot products list to all users while Colaborative filtering model recommends based on user requirements"
   ]
  }
 ],
 "metadata": {
  "accelerator": "GPU",
  "colab": {
   "collapsed_sections": [],
   "name": "Recommendation Systems_R5_Project.ipynb",
   "provenance": []
  },
  "kernelspec": {
   "display_name": "Python 3",
   "language": "python",
   "name": "python3"
  },
  "language_info": {
   "codemirror_mode": {
    "name": "ipython",
    "version": 3
   },
   "file_extension": ".py",
   "mimetype": "text/x-python",
   "name": "python",
   "nbconvert_exporter": "python",
   "pygments_lexer": "ipython3",
   "version": "3.7.4"
  }
 },
 "nbformat": 4,
 "nbformat_minor": 1
}
